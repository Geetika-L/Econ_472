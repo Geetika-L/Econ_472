{
  "nbformat": 4,
  "nbformat_minor": 0,
  "metadata": {
    "colab": {
      "provenance": [],
      "toc_visible": true,
      "mount_file_id": "1E2kqgkDiDZUMuV4sIujqImHZTzvrpZl7",
      "authorship_tag": "ABX9TyOzzotsE4oFoOBYbEH2XkBU",
      "include_colab_link": true
    },
    "kernelspec": {
      "name": "python3",
      "display_name": "Python 3"
    },
    "language_info": {
      "name": "python"
    }
  },
  "cells": [
    {
      "cell_type": "markdown",
      "metadata": {
        "id": "view-in-github",
        "colab_type": "text"
      },
      "source": [
        "<a href=\"https://colab.research.google.com/github/Geetika-L/Econ_472/blob/dev/Econ_472_RF.ipynb\" target=\"_parent\"><img src=\"https://colab.research.google.com/assets/colab-badge.svg\" alt=\"Open In Colab\"/></a>"
      ]
    },
    {
      "cell_type": "code",
      "execution_count": 50,
      "metadata": {
        "id": "hrQQivPRAFbO"
      },
      "outputs": [],
      "source": [
        "import pandas as pd"
      ]
    },
    {
      "cell_type": "code",
      "source": [
        "!pip install scikit-optimize"
      ],
      "metadata": {
        "colab": {
          "base_uri": "https://localhost:8080/"
        },
        "id": "CgH6hdrlGgiy",
        "outputId": "c8cbc22a-de09-44dc-f265-b0132f1af78b"
      },
      "execution_count": 51,
      "outputs": [
        {
          "output_type": "stream",
          "name": "stdout",
          "text": [
            "Looking in indexes: https://pypi.org/simple, https://us-python.pkg.dev/colab-wheels/public/simple/\n",
            "Requirement already satisfied: scikit-optimize in /usr/local/lib/python3.8/dist-packages (0.9.0)\n",
            "Requirement already satisfied: pyaml>=16.9 in /usr/local/lib/python3.8/dist-packages (from scikit-optimize) (21.10.1)\n",
            "Requirement already satisfied: numpy>=1.13.3 in /usr/local/lib/python3.8/dist-packages (from scikit-optimize) (1.22.4)\n",
            "Requirement already satisfied: joblib>=0.11 in /usr/local/lib/python3.8/dist-packages (from scikit-optimize) (1.2.0)\n",
            "Requirement already satisfied: scikit-learn>=0.20.0 in /usr/local/lib/python3.8/dist-packages (from scikit-optimize) (1.2.1)\n",
            "Requirement already satisfied: scipy>=0.19.1 in /usr/local/lib/python3.8/dist-packages (from scikit-optimize) (1.10.1)\n",
            "Requirement already satisfied: PyYAML in /usr/local/lib/python3.8/dist-packages (from pyaml>=16.9->scikit-optimize) (6.0)\n",
            "Requirement already satisfied: threadpoolctl>=2.0.0 in /usr/local/lib/python3.8/dist-packages (from scikit-learn>=0.20.0->scikit-optimize) (3.1.0)\n"
          ]
        }
      ]
    },
    {
      "cell_type": "code",
      "source": [
        "data_v1 = pd.read_csv('/content/drive/Othercomputers/My Laptop/Winer 2023/Econ 472/fred_data_trans_v1.csv')"
      ],
      "metadata": {
        "id": "wHC0gmmHisGi"
      },
      "execution_count": 52,
      "outputs": []
    },
    {
      "cell_type": "code",
      "source": [
        "percent_missing = list(data_v1.isna().sum()/(data_v1.shape[0]))\n",
        "missing_value_df = pd.DataFrame({'column_name': data_v1.columns,\n",
        "                                 'percent_missing': percent_missing})"
      ],
      "metadata": {
        "id": "RZVegg45YPQX"
      },
      "execution_count": 53,
      "outputs": []
    },
    {
      "cell_type": "code",
      "source": [
        "## Prportion of columns that have high NAs\n",
        "missing_value_df_01 = missing_value_df.loc[missing_value_df['percent_missing']>0.1]\n",
        "## Higher than 0.1 (ACOGNO:New Orders for Consumer Goods, ANDENOx: New Orders for Nondefense Capital Goods,  TWEXAFEGSMTHx: Trade weighted us dollar index)"
      ],
      "metadata": {
        "id": "eYaCg3u5bCGF"
      },
      "execution_count": 54,
      "outputs": []
    },
    {
      "cell_type": "markdown",
      "source": [],
      "metadata": {
        "id": "pgnAcNCKcGiF"
      }
    },
    {
      "cell_type": "code",
      "source": [
        "## Remove high proportion of NAs\n",
        "col_to_rem_NA = missing_value_df_01['column_name'].tolist()\n",
        "data_v1.drop(col_to_rem_NA, axis =1, inplace= True)\n",
        "\n"
      ],
      "metadata": {
        "id": "z312qbOjsYlp"
      },
      "execution_count": 55,
      "outputs": []
    },
    {
      "cell_type": "code",
      "source": [
        "## Remove CPI columns except CPI: All items\n",
        "cpis_except_all_items = ['CPIAPPSL', 'CPITRNSL', 'CPIMEDSL', 'CUSR0000SAC', 'CUSR0000SAD', 'CUSR0000SAS', 'CPIULFSL', 'CUSR0000SA0L2', 'CUSR0000SA0L5']\n",
        "data_v1.drop(cpis_except_all_items, axis =1, inplace= True)\n"
      ],
      "metadata": {
        "id": "kE0rv2_Czcvh"
      },
      "execution_count": 56,
      "outputs": []
    },
    {
      "cell_type": "code",
      "source": [
        "## Remove the date column\n",
        "data_v1.drop('date', axis =1, inplace= True)\n"
      ],
      "metadata": {
        "id": "sU69qXz_2bGB"
      },
      "execution_count": 57,
      "outputs": []
    },
    {
      "cell_type": "code",
      "source": [
        "## Creating lag and AR variables\n",
        "def series_to_supervised(data, n_in=1):\n",
        " \"\"\"\n",
        " Frame a time series as a supervised learning dataset.\n",
        " Arguments:\n",
        " data: Sequence of observations as a list or NumPy array.\n",
        " n_in: Number of lag observations as input (X).\n",
        " n_out: Number of observations as output (y).\n",
        " dropnan: Boolean whether or not to drop rows with NaN values.\n",
        " Returns:\n",
        " Pandas DataFrame of series framed for supervised learning.\n",
        " \"\"\"\n",
        "\n",
        " n_vars = 1 if type(data.values) is list else data.shape[1]\n",
        " colnames = list(data.columns)\n",
        " cols, names = list(), list()\n",
        " # input sequence (t-n, ... t-1)\n",
        " for i in range(n_in, 0, -1):\n",
        "   cols.append(data.shift(i))\n",
        "   names += [j+\"_{0}\".format(i) for j in colnames]\n",
        " cols.append(data['CPIAUCSL'])\n",
        " names += ['CPIAUCSL_0']\n",
        " \n",
        " # put it all together\n",
        " agg = pd.concat(cols, axis=1)\n",
        " agg.columns = names\n",
        " return agg\n",
        "#  # drop rows with NaN values\n",
        "#  if dropnan:\n",
        "#  agg.dropna(inplace=True)\n",
        "#  return agg\n"
      ],
      "metadata": {
        "id": "NM1EPz-q9Lcv"
      },
      "execution_count": 58,
      "outputs": []
    },
    {
      "cell_type": "code",
      "source": [
        "data_lagged = series_to_supervised(data_v1,3)"
      ],
      "metadata": {
        "id": "K1X3naXuqZZ_"
      },
      "execution_count": 59,
      "outputs": []
    },
    {
      "cell_type": "code",
      "source": [
        "data_lagged_sorted = data_lagged.reindex(sorted(data_lagged.columns), axis=1)"
      ],
      "metadata": {
        "id": "tWr5cQg7qtIk"
      },
      "execution_count": 60,
      "outputs": []
    },
    {
      "cell_type": "code",
      "source": [
        "data_lagged_sorted.to_csv('data_lagged_v1.csv')"
      ],
      "metadata": {
        "id": "C3W73NborKmI"
      },
      "execution_count": 13,
      "outputs": []
    },
    {
      "cell_type": "code",
      "source": [
        "## Remove first 3 observations (missing lags), and last 12 observations to keep as test set\n",
        "test_length = 12\n",
        "startpoint = 3\n",
        "endpoint = len(data_lagged)\n",
        "x = endpoint- test_length\n",
        "data_lagged_train = data_lagged.loc[startpoint:x - 1, :]\n",
        "data_lagged_test = data_lagged.loc[x:, :]\n",
        "data_lagged_test_x = data_lagged_test.loc[:, data_lagged_test.columns != 'CPIAUCSL_0']\n",
        "data_lagged_test_y = data_lagged_test['CPIAUCSL_0']\n",
        "data_lagged_train_x = data_lagged_train.loc[:, data_lagged_train.columns != 'CPIAUCSL_0']\n",
        "data_lagged_train_y = data_lagged_train['CPIAUCSL_0']"
      ],
      "metadata": {
        "id": "RYcMtE7a8S_f"
      },
      "execution_count": 61,
      "outputs": []
    },
    {
      "cell_type": "code",
      "source": [
        "## Getting mean of training dataset to impute\n",
        "import numpy as np\n",
        "from sklearn.impute import SimpleImputer\n",
        "\n",
        "imp = SimpleImputer(missing_values = np.nan, strategy = 'mean').set_output(transform=\"pandas\")\n",
        "imp.fit(data_lagged_train_x)"
      ],
      "metadata": {
        "colab": {
          "base_uri": "https://localhost:8080/",
          "height": 74
        },
        "id": "UReYwjKvzveS",
        "outputId": "eb2d132a-6af5-41ba-e3a4-efc5f42ebbfe"
      },
      "execution_count": 62,
      "outputs": [
        {
          "output_type": "execute_result",
          "data": {
            "text/plain": [
              "SimpleImputer()"
            ],
            "text/html": [
              "<style>#sk-container-id-2 {color: black;background-color: white;}#sk-container-id-2 pre{padding: 0;}#sk-container-id-2 div.sk-toggleable {background-color: white;}#sk-container-id-2 label.sk-toggleable__label {cursor: pointer;display: block;width: 100%;margin-bottom: 0;padding: 0.3em;box-sizing: border-box;text-align: center;}#sk-container-id-2 label.sk-toggleable__label-arrow:before {content: \"▸\";float: left;margin-right: 0.25em;color: #696969;}#sk-container-id-2 label.sk-toggleable__label-arrow:hover:before {color: black;}#sk-container-id-2 div.sk-estimator:hover label.sk-toggleable__label-arrow:before {color: black;}#sk-container-id-2 div.sk-toggleable__content {max-height: 0;max-width: 0;overflow: hidden;text-align: left;background-color: #f0f8ff;}#sk-container-id-2 div.sk-toggleable__content pre {margin: 0.2em;color: black;border-radius: 0.25em;background-color: #f0f8ff;}#sk-container-id-2 input.sk-toggleable__control:checked~div.sk-toggleable__content {max-height: 200px;max-width: 100%;overflow: auto;}#sk-container-id-2 input.sk-toggleable__control:checked~label.sk-toggleable__label-arrow:before {content: \"▾\";}#sk-container-id-2 div.sk-estimator input.sk-toggleable__control:checked~label.sk-toggleable__label {background-color: #d4ebff;}#sk-container-id-2 div.sk-label input.sk-toggleable__control:checked~label.sk-toggleable__label {background-color: #d4ebff;}#sk-container-id-2 input.sk-hidden--visually {border: 0;clip: rect(1px 1px 1px 1px);clip: rect(1px, 1px, 1px, 1px);height: 1px;margin: -1px;overflow: hidden;padding: 0;position: absolute;width: 1px;}#sk-container-id-2 div.sk-estimator {font-family: monospace;background-color: #f0f8ff;border: 1px dotted black;border-radius: 0.25em;box-sizing: border-box;margin-bottom: 0.5em;}#sk-container-id-2 div.sk-estimator:hover {background-color: #d4ebff;}#sk-container-id-2 div.sk-parallel-item::after {content: \"\";width: 100%;border-bottom: 1px solid gray;flex-grow: 1;}#sk-container-id-2 div.sk-label:hover label.sk-toggleable__label {background-color: #d4ebff;}#sk-container-id-2 div.sk-serial::before {content: \"\";position: absolute;border-left: 1px solid gray;box-sizing: border-box;top: 0;bottom: 0;left: 50%;z-index: 0;}#sk-container-id-2 div.sk-serial {display: flex;flex-direction: column;align-items: center;background-color: white;padding-right: 0.2em;padding-left: 0.2em;position: relative;}#sk-container-id-2 div.sk-item {position: relative;z-index: 1;}#sk-container-id-2 div.sk-parallel {display: flex;align-items: stretch;justify-content: center;background-color: white;position: relative;}#sk-container-id-2 div.sk-item::before, #sk-container-id-2 div.sk-parallel-item::before {content: \"\";position: absolute;border-left: 1px solid gray;box-sizing: border-box;top: 0;bottom: 0;left: 50%;z-index: -1;}#sk-container-id-2 div.sk-parallel-item {display: flex;flex-direction: column;z-index: 1;position: relative;background-color: white;}#sk-container-id-2 div.sk-parallel-item:first-child::after {align-self: flex-end;width: 50%;}#sk-container-id-2 div.sk-parallel-item:last-child::after {align-self: flex-start;width: 50%;}#sk-container-id-2 div.sk-parallel-item:only-child::after {width: 0;}#sk-container-id-2 div.sk-dashed-wrapped {border: 1px dashed gray;margin: 0 0.4em 0.5em 0.4em;box-sizing: border-box;padding-bottom: 0.4em;background-color: white;}#sk-container-id-2 div.sk-label label {font-family: monospace;font-weight: bold;display: inline-block;line-height: 1.2em;}#sk-container-id-2 div.sk-label-container {text-align: center;}#sk-container-id-2 div.sk-container {/* jupyter's `normalize.less` sets `[hidden] { display: none; }` but bootstrap.min.css set `[hidden] { display: none !important; }` so we also need the `!important` here to be able to override the default hidden behavior on the sphinx rendered scikit-learn.org. See: https://github.com/scikit-learn/scikit-learn/issues/21755 */display: inline-block !important;position: relative;}#sk-container-id-2 div.sk-text-repr-fallback {display: none;}</style><div id=\"sk-container-id-2\" class=\"sk-top-container\"><div class=\"sk-text-repr-fallback\"><pre>SimpleImputer()</pre><b>In a Jupyter environment, please rerun this cell to show the HTML representation or trust the notebook. <br />On GitHub, the HTML representation is unable to render, please try loading this page with nbviewer.org.</b></div><div class=\"sk-container\" hidden><div class=\"sk-item\"><div class=\"sk-estimator sk-toggleable\"><input class=\"sk-toggleable__control sk-hidden--visually\" id=\"sk-estimator-id-2\" type=\"checkbox\" checked><label for=\"sk-estimator-id-2\" class=\"sk-toggleable__label sk-toggleable__label-arrow\">SimpleImputer</label><div class=\"sk-toggleable__content\"><pre>SimpleImputer()</pre></div></div></div></div></div>"
            ]
          },
          "metadata": {},
          "execution_count": 62
        }
      ]
    },
    {
      "cell_type": "code",
      "source": [
        "##Impute training data x\n",
        "\n",
        "data_lagged_train_x_imp = imp.transform(data_lagged_train_x)\n",
        "\n",
        "##Impute testing data x\n",
        "data_lagged_test_x_imp = imp.transform(data_lagged_test_x)"
      ],
      "metadata": {
        "id": "pPMICdCS4ovB"
      },
      "execution_count": 63,
      "outputs": []
    },
    {
      "cell_type": "code",
      "source": [
        "data_lagged_train_x_imp.head(5)"
      ],
      "metadata": {
        "colab": {
          "base_uri": "https://localhost:8080/",
          "height": 299
        },
        "id": "9pbqjdzt7gva",
        "outputId": "174d139b-774a-4ae4-97f2-147f104feee7"
      },
      "execution_count": 64,
      "outputs": [
        {
          "output_type": "execute_result",
          "data": {
            "text/plain": [
              "      RPI_3  W875RX1_3  DPCERA3M086SBEA_3  CMRMTSPLx_3  RETAILx_3  INDPRO_3  \\\n",
              "3  0.003194   0.004638           0.002788     0.016956   0.026606  0.025914   \n",
              "4  0.001143   0.000917           0.004335     0.014371   0.003696 -0.008936   \n",
              "5  0.001909   0.000916           0.014041    -0.028026  -0.001102 -0.009020   \n",
              "6  0.003419   0.003614           0.015355     0.009826   0.025903 -0.007958   \n",
              "7  0.002401   0.002443          -0.020343    -0.031531  -0.015047 -0.001144   \n",
              "\n",
              "   IPFPNSS_3  IPFINAL_3  IPCONGD_3  IPDCONGD_3  ...  DNDGRG3M086SBEA_1  \\\n",
              "3   0.024097   0.029021   0.031237    0.103831  ...           0.001786   \n",
              "4  -0.005683  -0.003441  -0.011454   -0.013854  ...           0.004439   \n",
              "5  -0.003429  -0.001145   0.001151   -0.019966  ...          -0.006723   \n",
              "6   0.002289   0.001145   0.006879   -0.001186  ...           0.000222   \n",
              "7   0.005690   0.006866   0.005699    0.009453  ...           0.001828   \n",
              "\n",
              "   DSERRG3M086SBEA_1  CES0600000008_1  CES2000000008_1  CES3000000008_1  \\\n",
              "3          -0.001113        -0.000020         0.030131        -0.004684   \n",
              "4           0.001450        -0.008949        -0.068074         0.000000   \n",
              "5           0.000591         0.008949         0.041620         0.000000   \n",
              "6          -0.000686        -0.004474        -0.011429         0.000000   \n",
              "7           0.000504         0.004454         0.007547         0.000000   \n",
              "\n",
              "   UMCSENTx_1  DTCOLNVHFNM_1  DTCTHFNM_1  INVEST_1  VIXCLSx_1  \n",
              "3         0.0       0.003472    0.000951  0.003490  19.294122  \n",
              "4         0.0       0.008678    0.005452  0.024136  19.294122  \n",
              "5        -6.7      -0.004827   -0.002067  0.003798  19.294122  \n",
              "6         0.0       0.005126    0.007420 -0.009981  19.294122  \n",
              "7         0.0      -0.010926   -0.003291  0.032176  19.294122  \n",
              "\n",
              "[5 rows x 345 columns]"
            ],
            "text/html": [
              "\n",
              "  <div id=\"df-dab0ecfc-97e3-4df2-bd69-26afb82e0c08\">\n",
              "    <div class=\"colab-df-container\">\n",
              "      <div>\n",
              "<style scoped>\n",
              "    .dataframe tbody tr th:only-of-type {\n",
              "        vertical-align: middle;\n",
              "    }\n",
              "\n",
              "    .dataframe tbody tr th {\n",
              "        vertical-align: top;\n",
              "    }\n",
              "\n",
              "    .dataframe thead th {\n",
              "        text-align: right;\n",
              "    }\n",
              "</style>\n",
              "<table border=\"1\" class=\"dataframe\">\n",
              "  <thead>\n",
              "    <tr style=\"text-align: right;\">\n",
              "      <th></th>\n",
              "      <th>RPI_3</th>\n",
              "      <th>W875RX1_3</th>\n",
              "      <th>DPCERA3M086SBEA_3</th>\n",
              "      <th>CMRMTSPLx_3</th>\n",
              "      <th>RETAILx_3</th>\n",
              "      <th>INDPRO_3</th>\n",
              "      <th>IPFPNSS_3</th>\n",
              "      <th>IPFINAL_3</th>\n",
              "      <th>IPCONGD_3</th>\n",
              "      <th>IPDCONGD_3</th>\n",
              "      <th>...</th>\n",
              "      <th>DNDGRG3M086SBEA_1</th>\n",
              "      <th>DSERRG3M086SBEA_1</th>\n",
              "      <th>CES0600000008_1</th>\n",
              "      <th>CES2000000008_1</th>\n",
              "      <th>CES3000000008_1</th>\n",
              "      <th>UMCSENTx_1</th>\n",
              "      <th>DTCOLNVHFNM_1</th>\n",
              "      <th>DTCTHFNM_1</th>\n",
              "      <th>INVEST_1</th>\n",
              "      <th>VIXCLSx_1</th>\n",
              "    </tr>\n",
              "  </thead>\n",
              "  <tbody>\n",
              "    <tr>\n",
              "      <th>3</th>\n",
              "      <td>0.003194</td>\n",
              "      <td>0.004638</td>\n",
              "      <td>0.002788</td>\n",
              "      <td>0.016956</td>\n",
              "      <td>0.026606</td>\n",
              "      <td>0.025914</td>\n",
              "      <td>0.024097</td>\n",
              "      <td>0.029021</td>\n",
              "      <td>0.031237</td>\n",
              "      <td>0.103831</td>\n",
              "      <td>...</td>\n",
              "      <td>0.001786</td>\n",
              "      <td>-0.001113</td>\n",
              "      <td>-0.000020</td>\n",
              "      <td>0.030131</td>\n",
              "      <td>-0.004684</td>\n",
              "      <td>0.0</td>\n",
              "      <td>0.003472</td>\n",
              "      <td>0.000951</td>\n",
              "      <td>0.003490</td>\n",
              "      <td>19.294122</td>\n",
              "    </tr>\n",
              "    <tr>\n",
              "      <th>4</th>\n",
              "      <td>0.001143</td>\n",
              "      <td>0.000917</td>\n",
              "      <td>0.004335</td>\n",
              "      <td>0.014371</td>\n",
              "      <td>0.003696</td>\n",
              "      <td>-0.008936</td>\n",
              "      <td>-0.005683</td>\n",
              "      <td>-0.003441</td>\n",
              "      <td>-0.011454</td>\n",
              "      <td>-0.013854</td>\n",
              "      <td>...</td>\n",
              "      <td>0.004439</td>\n",
              "      <td>0.001450</td>\n",
              "      <td>-0.008949</td>\n",
              "      <td>-0.068074</td>\n",
              "      <td>0.000000</td>\n",
              "      <td>0.0</td>\n",
              "      <td>0.008678</td>\n",
              "      <td>0.005452</td>\n",
              "      <td>0.024136</td>\n",
              "      <td>19.294122</td>\n",
              "    </tr>\n",
              "    <tr>\n",
              "      <th>5</th>\n",
              "      <td>0.001909</td>\n",
              "      <td>0.000916</td>\n",
              "      <td>0.014041</td>\n",
              "      <td>-0.028026</td>\n",
              "      <td>-0.001102</td>\n",
              "      <td>-0.009020</td>\n",
              "      <td>-0.003429</td>\n",
              "      <td>-0.001145</td>\n",
              "      <td>0.001151</td>\n",
              "      <td>-0.019966</td>\n",
              "      <td>...</td>\n",
              "      <td>-0.006723</td>\n",
              "      <td>0.000591</td>\n",
              "      <td>0.008949</td>\n",
              "      <td>0.041620</td>\n",
              "      <td>0.000000</td>\n",
              "      <td>-6.7</td>\n",
              "      <td>-0.004827</td>\n",
              "      <td>-0.002067</td>\n",
              "      <td>0.003798</td>\n",
              "      <td>19.294122</td>\n",
              "    </tr>\n",
              "    <tr>\n",
              "      <th>6</th>\n",
              "      <td>0.003419</td>\n",
              "      <td>0.003614</td>\n",
              "      <td>0.015355</td>\n",
              "      <td>0.009826</td>\n",
              "      <td>0.025903</td>\n",
              "      <td>-0.007958</td>\n",
              "      <td>0.002289</td>\n",
              "      <td>0.001145</td>\n",
              "      <td>0.006879</td>\n",
              "      <td>-0.001186</td>\n",
              "      <td>...</td>\n",
              "      <td>0.000222</td>\n",
              "      <td>-0.000686</td>\n",
              "      <td>-0.004474</td>\n",
              "      <td>-0.011429</td>\n",
              "      <td>0.000000</td>\n",
              "      <td>0.0</td>\n",
              "      <td>0.005126</td>\n",
              "      <td>0.007420</td>\n",
              "      <td>-0.009981</td>\n",
              "      <td>19.294122</td>\n",
              "    </tr>\n",
              "    <tr>\n",
              "      <th>7</th>\n",
              "      <td>0.002401</td>\n",
              "      <td>0.002443</td>\n",
              "      <td>-0.020343</td>\n",
              "      <td>-0.031531</td>\n",
              "      <td>-0.015047</td>\n",
              "      <td>-0.001144</td>\n",
              "      <td>0.005690</td>\n",
              "      <td>0.006866</td>\n",
              "      <td>0.005699</td>\n",
              "      <td>0.009453</td>\n",
              "      <td>...</td>\n",
              "      <td>0.001828</td>\n",
              "      <td>0.000504</td>\n",
              "      <td>0.004454</td>\n",
              "      <td>0.007547</td>\n",
              "      <td>0.000000</td>\n",
              "      <td>0.0</td>\n",
              "      <td>-0.010926</td>\n",
              "      <td>-0.003291</td>\n",
              "      <td>0.032176</td>\n",
              "      <td>19.294122</td>\n",
              "    </tr>\n",
              "  </tbody>\n",
              "</table>\n",
              "<p>5 rows × 345 columns</p>\n",
              "</div>\n",
              "      <button class=\"colab-df-convert\" onclick=\"convertToInteractive('df-dab0ecfc-97e3-4df2-bd69-26afb82e0c08')\"\n",
              "              title=\"Convert this dataframe to an interactive table.\"\n",
              "              style=\"display:none;\">\n",
              "        \n",
              "  <svg xmlns=\"http://www.w3.org/2000/svg\" height=\"24px\"viewBox=\"0 0 24 24\"\n",
              "       width=\"24px\">\n",
              "    <path d=\"M0 0h24v24H0V0z\" fill=\"none\"/>\n",
              "    <path d=\"M18.56 5.44l.94 2.06.94-2.06 2.06-.94-2.06-.94-.94-2.06-.94 2.06-2.06.94zm-11 1L8.5 8.5l.94-2.06 2.06-.94-2.06-.94L8.5 2.5l-.94 2.06-2.06.94zm10 10l.94 2.06.94-2.06 2.06-.94-2.06-.94-.94-2.06-.94 2.06-2.06.94z\"/><path d=\"M17.41 7.96l-1.37-1.37c-.4-.4-.92-.59-1.43-.59-.52 0-1.04.2-1.43.59L10.3 9.45l-7.72 7.72c-.78.78-.78 2.05 0 2.83L4 21.41c.39.39.9.59 1.41.59.51 0 1.02-.2 1.41-.59l7.78-7.78 2.81-2.81c.8-.78.8-2.07 0-2.86zM5.41 20L4 18.59l7.72-7.72 1.47 1.35L5.41 20z\"/>\n",
              "  </svg>\n",
              "      </button>\n",
              "      \n",
              "  <style>\n",
              "    .colab-df-container {\n",
              "      display:flex;\n",
              "      flex-wrap:wrap;\n",
              "      gap: 12px;\n",
              "    }\n",
              "\n",
              "    .colab-df-convert {\n",
              "      background-color: #E8F0FE;\n",
              "      border: none;\n",
              "      border-radius: 50%;\n",
              "      cursor: pointer;\n",
              "      display: none;\n",
              "      fill: #1967D2;\n",
              "      height: 32px;\n",
              "      padding: 0 0 0 0;\n",
              "      width: 32px;\n",
              "    }\n",
              "\n",
              "    .colab-df-convert:hover {\n",
              "      background-color: #E2EBFA;\n",
              "      box-shadow: 0px 1px 2px rgba(60, 64, 67, 0.3), 0px 1px 3px 1px rgba(60, 64, 67, 0.15);\n",
              "      fill: #174EA6;\n",
              "    }\n",
              "\n",
              "    [theme=dark] .colab-df-convert {\n",
              "      background-color: #3B4455;\n",
              "      fill: #D2E3FC;\n",
              "    }\n",
              "\n",
              "    [theme=dark] .colab-df-convert:hover {\n",
              "      background-color: #434B5C;\n",
              "      box-shadow: 0px 1px 3px 1px rgba(0, 0, 0, 0.15);\n",
              "      filter: drop-shadow(0px 1px 2px rgba(0, 0, 0, 0.3));\n",
              "      fill: #FFFFFF;\n",
              "    }\n",
              "  </style>\n",
              "\n",
              "      <script>\n",
              "        const buttonEl =\n",
              "          document.querySelector('#df-dab0ecfc-97e3-4df2-bd69-26afb82e0c08 button.colab-df-convert');\n",
              "        buttonEl.style.display =\n",
              "          google.colab.kernel.accessAllowed ? 'block' : 'none';\n",
              "\n",
              "        async function convertToInteractive(key) {\n",
              "          const element = document.querySelector('#df-dab0ecfc-97e3-4df2-bd69-26afb82e0c08');\n",
              "          const dataTable =\n",
              "            await google.colab.kernel.invokeFunction('convertToInteractive',\n",
              "                                                     [key], {});\n",
              "          if (!dataTable) return;\n",
              "\n",
              "          const docLinkHtml = 'Like what you see? Visit the ' +\n",
              "            '<a target=\"_blank\" href=https://colab.research.google.com/notebooks/data_table.ipynb>data table notebook</a>'\n",
              "            + ' to learn more about interactive tables.';\n",
              "          element.innerHTML = '';\n",
              "          dataTable['output_type'] = 'display_data';\n",
              "          await google.colab.output.renderOutput(dataTable, element);\n",
              "          const docLink = document.createElement('div');\n",
              "          docLink.innerHTML = docLinkHtml;\n",
              "          element.appendChild(docLink);\n",
              "        }\n",
              "      </script>\n",
              "    </div>\n",
              "  </div>\n",
              "  "
            ]
          },
          "metadata": {},
          "execution_count": 64
        }
      ]
    },
    {
      "cell_type": "code",
      "source": [
        "data_lagged_train_x_imp.shape"
      ],
      "metadata": {
        "colab": {
          "base_uri": "https://localhost:8080/"
        },
        "id": "gEQKlYamP6nO",
        "outputId": "a9d44527-1723-465c-e64c-7b1c5bfd0a0d"
      },
      "execution_count": 65,
      "outputs": [
        {
          "output_type": "execute_result",
          "data": {
            "text/plain": [
              "(741, 345)"
            ]
          },
          "metadata": {},
          "execution_count": 65
        }
      ]
    },
    {
      "cell_type": "code",
      "source": [
        "#Setting up BayesSearchCV\n"
      ],
      "metadata": {
        "id": "WHErXSXT8l3f"
      },
      "execution_count": null,
      "outputs": []
    },
    {
      "cell_type": "code",
      "source": [
        "# from sklearn.ensemble import RandomForestRegressor\n",
        "# from skopt import BayesSearchCV,space\n",
        "\n",
        "# param_dist = {\n",
        "#     \"max_depth\": space.Integer(3, 6),\n",
        "#     \"max_features\": space.Integer(40, 120),\n",
        "#     \"min_samples_split\": space.Integer(2,5), # from 2 to 10\n",
        "#     \"min_samples_leaf\": space.Integer(5,7), # from 1 to 10\n",
        "#    }\n"
      ],
      "metadata": {
        "id": "VjqLoFNs9D9G"
      },
      "execution_count": 20,
      "outputs": []
    },
    {
      "cell_type": "code",
      "source": [
        "# search_v0 = BayesSearchCV(RandomForestRegressor(n_estimators=150, random_state=153),\n",
        "#                        param_dist,random_state=153,scoring='neg_mean_squared_error', n_iter=30,verbose=2)"
      ],
      "metadata": {
        "id": "LHMa9sulM-rG"
      },
      "execution_count": 21,
      "outputs": []
    },
    {
      "cell_type": "code",
      "source": [
        "# search_v0.fit(data_lagged_train_x_imp,data_lagged_train_y)"
      ],
      "metadata": {
        "colab": {
          "base_uri": "https://localhost:8080/",
          "height": 1000
        },
        "id": "IRpXq6DSP8sB",
        "outputId": "2c1b3284-3fd6-4df9-c2d6-2992f98ba70a"
      },
      "execution_count": 22,
      "outputs": [
        {
          "output_type": "stream",
          "name": "stdout",
          "text": [
            "Fitting 5 folds for each of 1 candidates, totalling 5 fits\n",
            "[CV] END max_depth=5, max_features=95, min_samples_leaf=5, min_samples_split=2; total time=   2.6s\n",
            "[CV] END max_depth=5, max_features=95, min_samples_leaf=5, min_samples_split=2; total time=   2.5s\n",
            "[CV] END max_depth=5, max_features=95, min_samples_leaf=5, min_samples_split=2; total time=   3.1s\n",
            "[CV] END max_depth=5, max_features=95, min_samples_leaf=5, min_samples_split=2; total time=   2.6s\n",
            "[CV] END max_depth=5, max_features=95, min_samples_leaf=5, min_samples_split=2; total time=   2.6s\n",
            "Fitting 5 folds for each of 1 candidates, totalling 5 fits\n",
            "[CV] END max_depth=4, max_features=89, min_samples_leaf=7, min_samples_split=3; total time=   2.0s\n",
            "[CV] END max_depth=4, max_features=89, min_samples_leaf=7, min_samples_split=3; total time=   2.0s\n",
            "[CV] END max_depth=4, max_features=89, min_samples_leaf=7, min_samples_split=3; total time=   2.2s\n",
            "[CV] END max_depth=4, max_features=89, min_samples_leaf=7, min_samples_split=3; total time=   2.3s\n",
            "[CV] END max_depth=4, max_features=89, min_samples_leaf=7, min_samples_split=3; total time=   2.1s\n",
            "Fitting 5 folds for each of 1 candidates, totalling 5 fits\n",
            "[CV] END max_depth=4, max_features=69, min_samples_leaf=7, min_samples_split=4; total time=   1.7s\n",
            "[CV] END max_depth=4, max_features=69, min_samples_leaf=7, min_samples_split=4; total time=   1.6s\n",
            "[CV] END max_depth=4, max_features=69, min_samples_leaf=7, min_samples_split=4; total time=   1.6s\n",
            "[CV] END max_depth=4, max_features=69, min_samples_leaf=7, min_samples_split=4; total time=   1.6s\n",
            "[CV] END max_depth=4, max_features=69, min_samples_leaf=7, min_samples_split=4; total time=   1.8s\n",
            "Fitting 5 folds for each of 1 candidates, totalling 5 fits\n",
            "[CV] END max_depth=4, max_features=49, min_samples_leaf=5, min_samples_split=2; total time=   1.6s\n",
            "[CV] END max_depth=4, max_features=49, min_samples_leaf=5, min_samples_split=2; total time=   1.4s\n",
            "[CV] END max_depth=4, max_features=49, min_samples_leaf=5, min_samples_split=2; total time=   1.4s\n",
            "[CV] END max_depth=4, max_features=49, min_samples_leaf=5, min_samples_split=2; total time=   1.4s\n",
            "[CV] END max_depth=4, max_features=49, min_samples_leaf=5, min_samples_split=2; total time=   1.3s\n",
            "Fitting 5 folds for each of 1 candidates, totalling 5 fits\n",
            "[CV] END max_depth=5, max_features=91, min_samples_leaf=7, min_samples_split=3; total time=   2.4s\n",
            "[CV] END max_depth=5, max_features=91, min_samples_leaf=7, min_samples_split=3; total time=   2.4s\n",
            "[CV] END max_depth=5, max_features=91, min_samples_leaf=7, min_samples_split=3; total time=   4.4s\n",
            "[CV] END max_depth=5, max_features=91, min_samples_leaf=7, min_samples_split=3; total time=   2.4s\n",
            "[CV] END max_depth=5, max_features=91, min_samples_leaf=7, min_samples_split=3; total time=   2.5s\n",
            "Fitting 5 folds for each of 1 candidates, totalling 5 fits\n",
            "[CV] END max_depth=3, max_features=79, min_samples_leaf=5, min_samples_split=5; total time=   1.6s\n",
            "[CV] END max_depth=3, max_features=79, min_samples_leaf=5, min_samples_split=5; total time=   1.5s\n",
            "[CV] END max_depth=3, max_features=79, min_samples_leaf=5, min_samples_split=5; total time=   1.6s\n",
            "[CV] END max_depth=3, max_features=79, min_samples_leaf=5, min_samples_split=5; total time=   1.9s\n",
            "[CV] END max_depth=3, max_features=79, min_samples_leaf=5, min_samples_split=5; total time=   1.6s\n",
            "Fitting 5 folds for each of 1 candidates, totalling 5 fits\n",
            "[CV] END max_depth=5, max_features=84, min_samples_leaf=6, min_samples_split=5; total time=   2.3s\n",
            "[CV] END max_depth=5, max_features=84, min_samples_leaf=6, min_samples_split=5; total time=   2.3s\n",
            "[CV] END max_depth=5, max_features=84, min_samples_leaf=6, min_samples_split=5; total time=   2.3s\n",
            "[CV] END max_depth=5, max_features=84, min_samples_leaf=6, min_samples_split=5; total time=   2.3s\n",
            "[CV] END max_depth=5, max_features=84, min_samples_leaf=6, min_samples_split=5; total time=   2.7s\n",
            "Fitting 5 folds for each of 1 candidates, totalling 5 fits\n",
            "[CV] END max_depth=4, max_features=59, min_samples_leaf=5, min_samples_split=3; total time=   1.5s\n",
            "[CV] END max_depth=4, max_features=59, min_samples_leaf=5, min_samples_split=3; total time=   1.4s\n",
            "[CV] END max_depth=4, max_features=59, min_samples_leaf=5, min_samples_split=3; total time=   1.5s\n",
            "[CV] END max_depth=4, max_features=59, min_samples_leaf=5, min_samples_split=3; total time=   1.5s\n",
            "[CV] END max_depth=4, max_features=59, min_samples_leaf=5, min_samples_split=3; total time=   1.5s\n",
            "Fitting 5 folds for each of 1 candidates, totalling 5 fits\n",
            "[CV] END max_depth=6, max_features=76, min_samples_leaf=6, min_samples_split=4; total time=   2.3s\n",
            "[CV] END max_depth=6, max_features=76, min_samples_leaf=6, min_samples_split=4; total time=   3.0s\n",
            "[CV] END max_depth=6, max_features=76, min_samples_leaf=6, min_samples_split=4; total time=   2.4s\n",
            "[CV] END max_depth=6, max_features=76, min_samples_leaf=6, min_samples_split=4; total time=   2.3s\n",
            "[CV] END max_depth=6, max_features=76, min_samples_leaf=6, min_samples_split=4; total time=   2.4s\n",
            "Fitting 5 folds for each of 1 candidates, totalling 5 fits\n",
            "[CV] END max_depth=4, max_features=63, min_samples_leaf=6, min_samples_split=4; total time=   1.6s\n",
            "[CV] END max_depth=4, max_features=63, min_samples_leaf=6, min_samples_split=4; total time=   1.6s\n",
            "[CV] END max_depth=4, max_features=63, min_samples_leaf=6, min_samples_split=4; total time=   1.9s\n",
            "[CV] END max_depth=4, max_features=63, min_samples_leaf=6, min_samples_split=4; total time=   1.6s\n",
            "[CV] END max_depth=4, max_features=63, min_samples_leaf=6, min_samples_split=4; total time=   1.5s\n",
            "Fitting 5 folds for each of 1 candidates, totalling 5 fits\n",
            "[CV] END max_depth=5, max_features=109, min_samples_leaf=6, min_samples_split=3; total time=   2.8s\n",
            "[CV] END max_depth=5, max_features=109, min_samples_leaf=6, min_samples_split=3; total time=   2.8s\n",
            "[CV] END max_depth=5, max_features=109, min_samples_leaf=6, min_samples_split=3; total time=   3.2s\n",
            "[CV] END max_depth=5, max_features=109, min_samples_leaf=6, min_samples_split=3; total time=   2.9s\n",
            "[CV] END max_depth=5, max_features=109, min_samples_leaf=6, min_samples_split=3; total time=   2.9s\n",
            "Fitting 5 folds for each of 1 candidates, totalling 5 fits\n",
            "[CV] END max_depth=3, max_features=94, min_samples_leaf=5, min_samples_split=3; total time=   1.7s\n",
            "[CV] END max_depth=3, max_features=94, min_samples_leaf=5, min_samples_split=3; total time=   1.7s\n",
            "[CV] END max_depth=3, max_features=94, min_samples_leaf=5, min_samples_split=3; total time=   2.0s\n",
            "[CV] END max_depth=3, max_features=94, min_samples_leaf=5, min_samples_split=3; total time=   2.0s\n",
            "[CV] END max_depth=3, max_features=94, min_samples_leaf=5, min_samples_split=3; total time=   1.6s\n",
            "Fitting 5 folds for each of 1 candidates, totalling 5 fits\n",
            "[CV] END max_depth=4, max_features=54, min_samples_leaf=5, min_samples_split=3; total time=   1.4s\n",
            "[CV] END max_depth=4, max_features=54, min_samples_leaf=5, min_samples_split=3; total time=   1.3s\n",
            "[CV] END max_depth=4, max_features=54, min_samples_leaf=5, min_samples_split=3; total time=   1.3s\n",
            "[CV] END max_depth=4, max_features=54, min_samples_leaf=5, min_samples_split=3; total time=   1.4s\n",
            "[CV] END max_depth=4, max_features=54, min_samples_leaf=5, min_samples_split=3; total time=   1.4s\n",
            "Fitting 5 folds for each of 1 candidates, totalling 5 fits\n",
            "[CV] END max_depth=6, max_features=108, min_samples_leaf=5, min_samples_split=4; total time=   3.6s\n",
            "[CV] END max_depth=6, max_features=108, min_samples_leaf=5, min_samples_split=4; total time=   3.1s\n",
            "[CV] END max_depth=6, max_features=108, min_samples_leaf=5, min_samples_split=4; total time=   3.1s\n",
            "[CV] END max_depth=6, max_features=108, min_samples_leaf=5, min_samples_split=4; total time=   3.4s\n",
            "[CV] END max_depth=6, max_features=108, min_samples_leaf=5, min_samples_split=4; total time=   3.4s\n",
            "Fitting 5 folds for each of 1 candidates, totalling 5 fits\n",
            "[CV] END max_depth=4, max_features=50, min_samples_leaf=5, min_samples_split=2; total time=   1.3s\n",
            "[CV] END max_depth=4, max_features=50, min_samples_leaf=5, min_samples_split=2; total time=   1.3s\n",
            "[CV] END max_depth=4, max_features=50, min_samples_leaf=5, min_samples_split=2; total time=   1.3s\n",
            "[CV] END max_depth=4, max_features=50, min_samples_leaf=5, min_samples_split=2; total time=   1.3s\n",
            "[CV] END max_depth=4, max_features=50, min_samples_leaf=5, min_samples_split=2; total time=   1.2s\n",
            "Fitting 5 folds for each of 1 candidates, totalling 5 fits\n",
            "[CV] END max_depth=3, max_features=73, min_samples_leaf=7, min_samples_split=2; total time=   1.8s\n",
            "[CV] END max_depth=3, max_features=73, min_samples_leaf=7, min_samples_split=2; total time=   1.5s\n",
            "[CV] END max_depth=3, max_features=73, min_samples_leaf=7, min_samples_split=2; total time=   1.3s\n",
            "[CV] END max_depth=3, max_features=73, min_samples_leaf=7, min_samples_split=2; total time=   1.4s\n",
            "[CV] END max_depth=3, max_features=73, min_samples_leaf=7, min_samples_split=2; total time=   1.4s\n",
            "Fitting 5 folds for each of 1 candidates, totalling 5 fits\n",
            "[CV] END max_depth=4, max_features=54, min_samples_leaf=5, min_samples_split=5; total time=   1.3s\n",
            "[CV] END max_depth=4, max_features=54, min_samples_leaf=5, min_samples_split=5; total time=   1.3s\n",
            "[CV] END max_depth=4, max_features=54, min_samples_leaf=5, min_samples_split=5; total time=   1.3s\n",
            "[CV] END max_depth=4, max_features=54, min_samples_leaf=5, min_samples_split=5; total time=   1.6s\n",
            "[CV] END max_depth=4, max_features=54, min_samples_leaf=5, min_samples_split=5; total time=   1.7s\n",
            "Fitting 5 folds for each of 1 candidates, totalling 5 fits\n",
            "[CV] END max_depth=4, max_features=120, min_samples_leaf=7, min_samples_split=2; total time=   2.6s\n",
            "[CV] END max_depth=4, max_features=120, min_samples_leaf=7, min_samples_split=2; total time=   2.6s\n",
            "[CV] END max_depth=4, max_features=120, min_samples_leaf=7, min_samples_split=2; total time=   2.5s\n",
            "[CV] END max_depth=4, max_features=120, min_samples_leaf=7, min_samples_split=2; total time=   2.9s\n",
            "[CV] END max_depth=4, max_features=120, min_samples_leaf=7, min_samples_split=2; total time=   2.7s\n",
            "Fitting 5 folds for each of 1 candidates, totalling 5 fits\n",
            "[CV] END max_depth=4, max_features=105, min_samples_leaf=6, min_samples_split=2; total time=   2.3s\n",
            "[CV] END max_depth=4, max_features=105, min_samples_leaf=6, min_samples_split=2; total time=   2.3s\n",
            "[CV] END max_depth=4, max_features=105, min_samples_leaf=6, min_samples_split=2; total time=   2.3s\n",
            "[CV] END max_depth=4, max_features=105, min_samples_leaf=6, min_samples_split=2; total time=   2.7s\n",
            "[CV] END max_depth=4, max_features=105, min_samples_leaf=6, min_samples_split=2; total time=   2.4s\n",
            "Fitting 5 folds for each of 1 candidates, totalling 5 fits\n",
            "[CV] END max_depth=5, max_features=51, min_samples_leaf=5, min_samples_split=3; total time=   1.5s\n",
            "[CV] END max_depth=5, max_features=51, min_samples_leaf=5, min_samples_split=3; total time=   1.4s\n",
            "[CV] END max_depth=5, max_features=51, min_samples_leaf=5, min_samples_split=3; total time=   1.5s\n",
            "[CV] END max_depth=5, max_features=51, min_samples_leaf=5, min_samples_split=3; total time=   1.5s\n",
            "[CV] END max_depth=5, max_features=51, min_samples_leaf=5, min_samples_split=3; total time=   1.6s\n",
            "Fitting 5 folds for each of 1 candidates, totalling 5 fits\n",
            "[CV] END max_depth=4, max_features=44, min_samples_leaf=6, min_samples_split=4; total time=   1.5s\n",
            "[CV] END max_depth=4, max_features=44, min_samples_leaf=6, min_samples_split=4; total time=   1.2s\n",
            "[CV] END max_depth=4, max_features=44, min_samples_leaf=6, min_samples_split=4; total time=   1.2s\n",
            "[CV] END max_depth=4, max_features=44, min_samples_leaf=6, min_samples_split=4; total time=   1.1s\n",
            "[CV] END max_depth=4, max_features=44, min_samples_leaf=6, min_samples_split=4; total time=   1.1s\n",
            "Fitting 5 folds for each of 1 candidates, totalling 5 fits\n",
            "[CV] END max_depth=6, max_features=120, min_samples_leaf=7, min_samples_split=2; total time=   3.3s\n",
            "[CV] END max_depth=6, max_features=120, min_samples_leaf=7, min_samples_split=2; total time=   3.9s\n",
            "[CV] END max_depth=6, max_features=120, min_samples_leaf=7, min_samples_split=2; total time=   3.3s\n",
            "[CV] END max_depth=6, max_features=120, min_samples_leaf=7, min_samples_split=2; total time=   3.2s\n",
            "[CV] END max_depth=6, max_features=120, min_samples_leaf=7, min_samples_split=2; total time=   3.3s\n",
            "Fitting 5 folds for each of 1 candidates, totalling 5 fits\n",
            "[CV] END max_depth=6, max_features=120, min_samples_leaf=5, min_samples_split=2; total time=   3.8s\n",
            "[CV] END max_depth=6, max_features=120, min_samples_leaf=5, min_samples_split=2; total time=   3.4s\n",
            "[CV] END max_depth=6, max_features=120, min_samples_leaf=5, min_samples_split=2; total time=   3.3s\n",
            "[CV] END max_depth=6, max_features=120, min_samples_leaf=5, min_samples_split=2; total time=   3.8s\n",
            "[CV] END max_depth=6, max_features=120, min_samples_leaf=5, min_samples_split=2; total time=   3.6s\n",
            "Fitting 5 folds for each of 1 candidates, totalling 5 fits\n",
            "[CV] END max_depth=5, max_features=56, min_samples_leaf=5, min_samples_split=3; total time=   1.7s\n",
            "[CV] END max_depth=5, max_features=56, min_samples_leaf=5, min_samples_split=3; total time=   1.6s\n",
            "[CV] END max_depth=5, max_features=56, min_samples_leaf=5, min_samples_split=3; total time=   1.6s\n",
            "[CV] END max_depth=5, max_features=56, min_samples_leaf=5, min_samples_split=3; total time=   1.7s\n",
            "[CV] END max_depth=5, max_features=56, min_samples_leaf=5, min_samples_split=3; total time=   2.0s\n",
            "Fitting 5 folds for each of 1 candidates, totalling 5 fits\n",
            "[CV] END max_depth=3, max_features=120, min_samples_leaf=6, min_samples_split=2; total time=   2.0s\n",
            "[CV] END max_depth=3, max_features=120, min_samples_leaf=6, min_samples_split=2; total time=   2.0s\n",
            "[CV] END max_depth=3, max_features=120, min_samples_leaf=6, min_samples_split=2; total time=   2.0s\n",
            "[CV] END max_depth=3, max_features=120, min_samples_leaf=6, min_samples_split=2; total time=   2.0s\n",
            "[CV] END max_depth=3, max_features=120, min_samples_leaf=6, min_samples_split=2; total time=   2.2s\n"
          ]
        },
        {
          "output_type": "stream",
          "name": "stderr",
          "text": [
            "/usr/local/lib/python3.8/dist-packages/skopt/optimizer/optimizer.py:449: UserWarning: The objective has been evaluated at this point before.\n",
            "  warnings.warn(\"The objective has been evaluated \"\n"
          ]
        },
        {
          "output_type": "stream",
          "name": "stdout",
          "text": [
            "Fitting 5 folds for each of 1 candidates, totalling 5 fits\n",
            "[CV] END max_depth=6, max_features=120, min_samples_leaf=7, min_samples_split=2; total time=   3.3s\n",
            "[CV] END max_depth=6, max_features=120, min_samples_leaf=7, min_samples_split=2; total time=   3.3s\n",
            "[CV] END max_depth=6, max_features=120, min_samples_leaf=7, min_samples_split=2; total time=   3.2s\n",
            "[CV] END max_depth=6, max_features=120, min_samples_leaf=7, min_samples_split=2; total time=   3.8s\n",
            "[CV] END max_depth=6, max_features=120, min_samples_leaf=7, min_samples_split=2; total time=   3.3s\n",
            "Fitting 5 folds for each of 1 candidates, totalling 5 fits\n",
            "[CV] END max_depth=6, max_features=120, min_samples_leaf=5, min_samples_split=5; total time=   3.5s\n",
            "[CV] END max_depth=6, max_features=120, min_samples_leaf=5, min_samples_split=5; total time=   4.0s\n",
            "[CV] END max_depth=6, max_features=120, min_samples_leaf=5, min_samples_split=5; total time=   3.5s\n",
            "[CV] END max_depth=6, max_features=120, min_samples_leaf=5, min_samples_split=5; total time=   3.4s\n",
            "[CV] END max_depth=6, max_features=120, min_samples_leaf=5, min_samples_split=5; total time=   3.5s\n",
            "Fitting 5 folds for each of 1 candidates, totalling 5 fits\n",
            "[CV] END max_depth=5, max_features=119, min_samples_leaf=6, min_samples_split=3; total time=   3.3s\n",
            "[CV] END max_depth=5, max_features=119, min_samples_leaf=6, min_samples_split=3; total time=   3.0s\n",
            "[CV] END max_depth=5, max_features=119, min_samples_leaf=6, min_samples_split=3; total time=   2.9s\n",
            "[CV] END max_depth=5, max_features=119, min_samples_leaf=6, min_samples_split=3; total time=   3.1s\n",
            "[CV] END max_depth=5, max_features=119, min_samples_leaf=6, min_samples_split=3; total time=   3.3s\n",
            "Fitting 5 folds for each of 1 candidates, totalling 5 fits\n",
            "[CV] END max_depth=6, max_features=42, min_samples_leaf=6, min_samples_split=3; total time=   1.5s\n",
            "[CV] END max_depth=6, max_features=42, min_samples_leaf=6, min_samples_split=3; total time=   1.4s\n",
            "[CV] END max_depth=6, max_features=42, min_samples_leaf=6, min_samples_split=3; total time=   1.4s\n",
            "[CV] END max_depth=6, max_features=42, min_samples_leaf=6, min_samples_split=3; total time=   1.4s\n",
            "[CV] END max_depth=6, max_features=42, min_samples_leaf=6, min_samples_split=3; total time=   1.4s\n",
            "Fitting 5 folds for each of 1 candidates, totalling 5 fits\n",
            "[CV] END max_depth=4, max_features=108, min_samples_leaf=6, min_samples_split=3; total time=   2.7s\n",
            "[CV] END max_depth=4, max_features=108, min_samples_leaf=6, min_samples_split=3; total time=   2.3s\n",
            "[CV] END max_depth=4, max_features=108, min_samples_leaf=6, min_samples_split=3; total time=   2.3s\n",
            "[CV] END max_depth=4, max_features=108, min_samples_leaf=6, min_samples_split=3; total time=   2.4s\n",
            "[CV] END max_depth=4, max_features=108, min_samples_leaf=6, min_samples_split=3; total time=   2.4s\n"
          ]
        },
        {
          "output_type": "execute_result",
          "data": {
            "text/plain": [
              "BayesSearchCV(estimator=RandomForestRegressor(n_estimators=150,\n",
              "                                              random_state=153),\n",
              "              n_iter=30, random_state=153, scoring='neg_mean_squared_error',\n",
              "              search_spaces={'max_depth': Integer(low=3, high=6, prior='uniform', transform='normalize'),\n",
              "                             'max_features': Integer(low=40, high=120, prior='uniform', transform='normalize'),\n",
              "                             'min_samples_leaf': Integer(low=5, high=7, prior='uniform', transform='normalize'),\n",
              "                             'min_samples_split': Integer(low=2, high=5, prior='uniform', transform='normalize')},\n",
              "              verbose=2)"
            ],
            "text/html": [
              "<style>#sk-container-id-2 {color: black;background-color: white;}#sk-container-id-2 pre{padding: 0;}#sk-container-id-2 div.sk-toggleable {background-color: white;}#sk-container-id-2 label.sk-toggleable__label {cursor: pointer;display: block;width: 100%;margin-bottom: 0;padding: 0.3em;box-sizing: border-box;text-align: center;}#sk-container-id-2 label.sk-toggleable__label-arrow:before {content: \"▸\";float: left;margin-right: 0.25em;color: #696969;}#sk-container-id-2 label.sk-toggleable__label-arrow:hover:before {color: black;}#sk-container-id-2 div.sk-estimator:hover label.sk-toggleable__label-arrow:before {color: black;}#sk-container-id-2 div.sk-toggleable__content {max-height: 0;max-width: 0;overflow: hidden;text-align: left;background-color: #f0f8ff;}#sk-container-id-2 div.sk-toggleable__content pre {margin: 0.2em;color: black;border-radius: 0.25em;background-color: #f0f8ff;}#sk-container-id-2 input.sk-toggleable__control:checked~div.sk-toggleable__content {max-height: 200px;max-width: 100%;overflow: auto;}#sk-container-id-2 input.sk-toggleable__control:checked~label.sk-toggleable__label-arrow:before {content: \"▾\";}#sk-container-id-2 div.sk-estimator input.sk-toggleable__control:checked~label.sk-toggleable__label {background-color: #d4ebff;}#sk-container-id-2 div.sk-label input.sk-toggleable__control:checked~label.sk-toggleable__label {background-color: #d4ebff;}#sk-container-id-2 input.sk-hidden--visually {border: 0;clip: rect(1px 1px 1px 1px);clip: rect(1px, 1px, 1px, 1px);height: 1px;margin: -1px;overflow: hidden;padding: 0;position: absolute;width: 1px;}#sk-container-id-2 div.sk-estimator {font-family: monospace;background-color: #f0f8ff;border: 1px dotted black;border-radius: 0.25em;box-sizing: border-box;margin-bottom: 0.5em;}#sk-container-id-2 div.sk-estimator:hover {background-color: #d4ebff;}#sk-container-id-2 div.sk-parallel-item::after {content: \"\";width: 100%;border-bottom: 1px solid gray;flex-grow: 1;}#sk-container-id-2 div.sk-label:hover label.sk-toggleable__label {background-color: #d4ebff;}#sk-container-id-2 div.sk-serial::before {content: \"\";position: absolute;border-left: 1px solid gray;box-sizing: border-box;top: 0;bottom: 0;left: 50%;z-index: 0;}#sk-container-id-2 div.sk-serial {display: flex;flex-direction: column;align-items: center;background-color: white;padding-right: 0.2em;padding-left: 0.2em;position: relative;}#sk-container-id-2 div.sk-item {position: relative;z-index: 1;}#sk-container-id-2 div.sk-parallel {display: flex;align-items: stretch;justify-content: center;background-color: white;position: relative;}#sk-container-id-2 div.sk-item::before, #sk-container-id-2 div.sk-parallel-item::before {content: \"\";position: absolute;border-left: 1px solid gray;box-sizing: border-box;top: 0;bottom: 0;left: 50%;z-index: -1;}#sk-container-id-2 div.sk-parallel-item {display: flex;flex-direction: column;z-index: 1;position: relative;background-color: white;}#sk-container-id-2 div.sk-parallel-item:first-child::after {align-self: flex-end;width: 50%;}#sk-container-id-2 div.sk-parallel-item:last-child::after {align-self: flex-start;width: 50%;}#sk-container-id-2 div.sk-parallel-item:only-child::after {width: 0;}#sk-container-id-2 div.sk-dashed-wrapped {border: 1px dashed gray;margin: 0 0.4em 0.5em 0.4em;box-sizing: border-box;padding-bottom: 0.4em;background-color: white;}#sk-container-id-2 div.sk-label label {font-family: monospace;font-weight: bold;display: inline-block;line-height: 1.2em;}#sk-container-id-2 div.sk-label-container {text-align: center;}#sk-container-id-2 div.sk-container {/* jupyter's `normalize.less` sets `[hidden] { display: none; }` but bootstrap.min.css set `[hidden] { display: none !important; }` so we also need the `!important` here to be able to override the default hidden behavior on the sphinx rendered scikit-learn.org. See: https://github.com/scikit-learn/scikit-learn/issues/21755 */display: inline-block !important;position: relative;}#sk-container-id-2 div.sk-text-repr-fallback {display: none;}</style><div id=\"sk-container-id-2\" class=\"sk-top-container\"><div class=\"sk-text-repr-fallback\"><pre>BayesSearchCV(estimator=RandomForestRegressor(n_estimators=150,\n",
              "                                              random_state=153),\n",
              "              n_iter=30, random_state=153, scoring=&#x27;neg_mean_squared_error&#x27;,\n",
              "              search_spaces={&#x27;max_depth&#x27;: Integer(low=3, high=6, prior=&#x27;uniform&#x27;, transform=&#x27;normalize&#x27;),\n",
              "                             &#x27;max_features&#x27;: Integer(low=40, high=120, prior=&#x27;uniform&#x27;, transform=&#x27;normalize&#x27;),\n",
              "                             &#x27;min_samples_leaf&#x27;: Integer(low=5, high=7, prior=&#x27;uniform&#x27;, transform=&#x27;normalize&#x27;),\n",
              "                             &#x27;min_samples_split&#x27;: Integer(low=2, high=5, prior=&#x27;uniform&#x27;, transform=&#x27;normalize&#x27;)},\n",
              "              verbose=2)</pre><b>In a Jupyter environment, please rerun this cell to show the HTML representation or trust the notebook. <br />On GitHub, the HTML representation is unable to render, please try loading this page with nbviewer.org.</b></div><div class=\"sk-container\" hidden><div class=\"sk-item sk-dashed-wrapped\"><div class=\"sk-label-container\"><div class=\"sk-label sk-toggleable\"><input class=\"sk-toggleable__control sk-hidden--visually\" id=\"sk-estimator-id-2\" type=\"checkbox\" ><label for=\"sk-estimator-id-2\" class=\"sk-toggleable__label sk-toggleable__label-arrow\">BayesSearchCV</label><div class=\"sk-toggleable__content\"><pre>BayesSearchCV(estimator=RandomForestRegressor(n_estimators=150,\n",
              "                                              random_state=153),\n",
              "              n_iter=30, random_state=153, scoring=&#x27;neg_mean_squared_error&#x27;,\n",
              "              search_spaces={&#x27;max_depth&#x27;: Integer(low=3, high=6, prior=&#x27;uniform&#x27;, transform=&#x27;normalize&#x27;),\n",
              "                             &#x27;max_features&#x27;: Integer(low=40, high=120, prior=&#x27;uniform&#x27;, transform=&#x27;normalize&#x27;),\n",
              "                             &#x27;min_samples_leaf&#x27;: Integer(low=5, high=7, prior=&#x27;uniform&#x27;, transform=&#x27;normalize&#x27;),\n",
              "                             &#x27;min_samples_split&#x27;: Integer(low=2, high=5, prior=&#x27;uniform&#x27;, transform=&#x27;normalize&#x27;)},\n",
              "              verbose=2)</pre></div></div></div><div class=\"sk-parallel\"><div class=\"sk-parallel-item\"><div class=\"sk-item\"><div class=\"sk-label-container\"><div class=\"sk-label sk-toggleable\"><input class=\"sk-toggleable__control sk-hidden--visually\" id=\"sk-estimator-id-3\" type=\"checkbox\" ><label for=\"sk-estimator-id-3\" class=\"sk-toggleable__label sk-toggleable__label-arrow\">estimator: RandomForestRegressor</label><div class=\"sk-toggleable__content\"><pre>RandomForestRegressor(n_estimators=150, random_state=153)</pre></div></div></div><div class=\"sk-serial\"><div class=\"sk-item\"><div class=\"sk-estimator sk-toggleable\"><input class=\"sk-toggleable__control sk-hidden--visually\" id=\"sk-estimator-id-4\" type=\"checkbox\" ><label for=\"sk-estimator-id-4\" class=\"sk-toggleable__label sk-toggleable__label-arrow\">RandomForestRegressor</label><div class=\"sk-toggleable__content\"><pre>RandomForestRegressor(n_estimators=150, random_state=153)</pre></div></div></div></div></div></div></div></div></div></div>"
            ]
          },
          "metadata": {},
          "execution_count": 22
        }
      ]
    },
    {
      "cell_type": "code",
      "source": [
        "# search_v0.best_params_"
      ],
      "metadata": {
        "colab": {
          "base_uri": "https://localhost:8080/"
        },
        "id": "mtqM-YAZR44X",
        "outputId": "d377f9e5-5298-4eae-8110-1b7d39973c45"
      },
      "execution_count": 27,
      "outputs": [
        {
          "output_type": "execute_result",
          "data": {
            "text/plain": [
              "OrderedDict([('max_depth', 6),\n",
              "             ('max_features', 120),\n",
              "             ('min_samples_leaf', 5),\n",
              "             ('min_samples_split', 2)])"
            ]
          },
          "metadata": {},
          "execution_count": 27
        }
      ]
    },
    {
      "cell_type": "code",
      "source": [
        "# # Trying another search based on previous best params\n",
        "# param_dist_1 = {\n",
        "#     \"max_depth\": space.Integer(5, 10),\n",
        "#     \"max_features\": space.Integer(115, 160),\n",
        "#     \"min_samples_split\": space.Integer(2,4), \n",
        "#     \"min_samples_leaf\": space.Integer(4,7)\n",
        "#    }"
      ],
      "metadata": {
        "id": "JYyEuEk5SgZK"
      },
      "execution_count": 28,
      "outputs": []
    },
    {
      "cell_type": "code",
      "source": [
        "# search_v1 = BayesSearchCV(RandomForestRegressor(n_estimators=200, random_state=153),\n",
        "#                        param_dist_1,random_state=153,scoring='neg_mean_squared_error', n_iter=40,verbose=2, cv=5)\n",
        "\n",
        "# search_v1.fit(data_lagged_train_x_imp,data_lagged_train_y)"
      ],
      "metadata": {
        "colab": {
          "base_uri": "https://localhost:8080/",
          "height": 1000
        },
        "id": "9IEEFghfThix",
        "outputId": "bdc3792d-ebec-4e5c-ad6a-9542ce04c3dc"
      },
      "execution_count": 30,
      "outputs": [
        {
          "output_type": "stream",
          "name": "stdout",
          "text": [
            "Fitting 5 folds for each of 1 candidates, totalling 5 fits\n",
            "[CV] END max_depth=9, max_features=146, min_samples_leaf=4, min_samples_split=2; total time=   8.8s\n",
            "[CV] END max_depth=9, max_features=146, min_samples_leaf=4, min_samples_split=2; total time=   7.3s\n",
            "[CV] END max_depth=9, max_features=146, min_samples_leaf=4, min_samples_split=2; total time=   8.0s\n",
            "[CV] END max_depth=9, max_features=146, min_samples_leaf=4, min_samples_split=2; total time=   7.5s\n",
            "[CV] END max_depth=9, max_features=146, min_samples_leaf=4, min_samples_split=2; total time=   8.0s\n",
            "Fitting 5 folds for each of 1 candidates, totalling 5 fits\n",
            "[CV] END max_depth=7, max_features=142, min_samples_leaf=6, min_samples_split=3; total time=   6.5s\n",
            "[CV] END max_depth=7, max_features=142, min_samples_leaf=6, min_samples_split=3; total time=   6.0s\n",
            "[CV] END max_depth=7, max_features=142, min_samples_leaf=6, min_samples_split=3; total time=   6.4s\n",
            "[CV] END max_depth=7, max_features=142, min_samples_leaf=6, min_samples_split=3; total time=   6.0s\n",
            "[CV] END max_depth=7, max_features=142, min_samples_leaf=6, min_samples_split=3; total time=   6.3s\n",
            "Fitting 5 folds for each of 1 candidates, totalling 5 fits\n",
            "[CV] END max_depth=6, max_features=131, min_samples_leaf=7, min_samples_split=3; total time=   5.2s\n",
            "[CV] END max_depth=6, max_features=131, min_samples_leaf=7, min_samples_split=3; total time=   5.0s\n",
            "[CV] END max_depth=6, max_features=131, min_samples_leaf=7, min_samples_split=3; total time=   5.4s\n",
            "[CV] END max_depth=6, max_features=131, min_samples_leaf=7, min_samples_split=3; total time=   4.7s\n",
            "[CV] END max_depth=6, max_features=131, min_samples_leaf=7, min_samples_split=3; total time=   5.2s\n",
            "Fitting 5 folds for each of 1 candidates, totalling 5 fits\n",
            "[CV] END max_depth=6, max_features=120, min_samples_leaf=4, min_samples_split=2; total time=   5.1s\n",
            "[CV] END max_depth=6, max_features=120, min_samples_leaf=4, min_samples_split=2; total time=   4.7s\n",
            "[CV] END max_depth=6, max_features=120, min_samples_leaf=4, min_samples_split=2; total time=   5.2s\n",
            "[CV] END max_depth=6, max_features=120, min_samples_leaf=4, min_samples_split=2; total time=   4.6s\n",
            "[CV] END max_depth=6, max_features=120, min_samples_leaf=4, min_samples_split=2; total time=   4.7s\n",
            "Fitting 5 folds for each of 1 candidates, totalling 5 fits\n",
            "[CV] END max_depth=8, max_features=144, min_samples_leaf=7, min_samples_split=3; total time=   6.9s\n",
            "[CV] END max_depth=8, max_features=144, min_samples_leaf=7, min_samples_split=3; total time=   6.3s\n",
            "[CV] END max_depth=8, max_features=144, min_samples_leaf=7, min_samples_split=3; total time=   6.8s\n",
            "[CV] END max_depth=8, max_features=144, min_samples_leaf=7, min_samples_split=3; total time=   6.2s\n",
            "[CV] END max_depth=8, max_features=144, min_samples_leaf=7, min_samples_split=3; total time=   6.8s\n",
            "Fitting 5 folds for each of 1 candidates, totalling 5 fits\n",
            "[CV] END max_depth=6, max_features=137, min_samples_leaf=4, min_samples_split=4; total time=   5.3s\n",
            "[CV] END max_depth=6, max_features=137, min_samples_leaf=4, min_samples_split=4; total time=   5.9s\n",
            "[CV] END max_depth=6, max_features=137, min_samples_leaf=4, min_samples_split=4; total time=   5.3s\n",
            "[CV] END max_depth=6, max_features=137, min_samples_leaf=4, min_samples_split=4; total time=   5.8s\n",
            "[CV] END max_depth=6, max_features=137, min_samples_leaf=4, min_samples_split=4; total time=   5.4s\n",
            "Fitting 5 folds for each of 1 candidates, totalling 5 fits\n",
            "[CV] END max_depth=8, max_features=140, min_samples_leaf=6, min_samples_split=4; total time=   7.0s\n",
            "[CV] END max_depth=8, max_features=140, min_samples_leaf=6, min_samples_split=4; total time=   6.3s\n",
            "[CV] END max_depth=8, max_features=140, min_samples_leaf=6, min_samples_split=4; total time=   6.8s\n",
            "[CV] END max_depth=8, max_features=140, min_samples_leaf=6, min_samples_split=4; total time=   6.1s\n",
            "[CV] END max_depth=8, max_features=140, min_samples_leaf=6, min_samples_split=4; total time=   6.8s\n",
            "Fitting 5 folds for each of 1 candidates, totalling 5 fits\n",
            "[CV] END max_depth=7, max_features=126, min_samples_leaf=4, min_samples_split=3; total time=   5.5s\n",
            "[CV] END max_depth=7, max_features=126, min_samples_leaf=4, min_samples_split=3; total time=   5.8s\n",
            "[CV] END max_depth=7, max_features=126, min_samples_leaf=4, min_samples_split=3; total time=   5.6s\n",
            "[CV] END max_depth=7, max_features=126, min_samples_leaf=4, min_samples_split=3; total time=   5.5s\n",
            "[CV] END max_depth=7, max_features=126, min_samples_leaf=4, min_samples_split=3; total time=   6.1s\n",
            "Fitting 5 folds for each of 1 candidates, totalling 5 fits\n",
            "[CV] END max_depth=10, max_features=135, min_samples_leaf=6, min_samples_split=3; total time=   7.1s\n",
            "[CV] END max_depth=10, max_features=135, min_samples_leaf=6, min_samples_split=3; total time=   7.2s\n",
            "[CV] END max_depth=10, max_features=135, min_samples_leaf=6, min_samples_split=3; total time=   7.0s\n",
            "[CV] END max_depth=10, max_features=135, min_samples_leaf=6, min_samples_split=3; total time=   6.6s\n",
            "[CV] END max_depth=10, max_features=135, min_samples_leaf=6, min_samples_split=3; total time=   7.4s\n",
            "Fitting 5 folds for each of 1 candidates, totalling 5 fits\n",
            "[CV] END max_depth=7, max_features=128, min_samples_leaf=6, min_samples_split=3; total time=   5.4s\n",
            "[CV] END max_depth=7, max_features=128, min_samples_leaf=6, min_samples_split=3; total time=   5.6s\n",
            "[CV] END max_depth=7, max_features=128, min_samples_leaf=6, min_samples_split=3; total time=   5.6s\n",
            "[CV] END max_depth=7, max_features=128, min_samples_leaf=6, min_samples_split=3; total time=   5.2s\n",
            "[CV] END max_depth=7, max_features=128, min_samples_leaf=6, min_samples_split=3; total time=   6.0s\n",
            "Fitting 5 folds for each of 1 candidates, totalling 5 fits\n",
            "[CV] END max_depth=9, max_features=154, min_samples_leaf=6, min_samples_split=3; total time=   7.3s\n",
            "[CV] END max_depth=9, max_features=154, min_samples_leaf=6, min_samples_split=3; total time=   7.7s\n",
            "[CV] END max_depth=9, max_features=154, min_samples_leaf=6, min_samples_split=3; total time=   7.6s\n",
            "[CV] END max_depth=9, max_features=154, min_samples_leaf=6, min_samples_split=3; total time=   7.0s\n",
            "[CV] END max_depth=9, max_features=154, min_samples_leaf=6, min_samples_split=3; total time=   7.9s\n",
            "Fitting 5 folds for each of 1 candidates, totalling 5 fits\n",
            "[CV] END max_depth=5, max_features=146, min_samples_leaf=4, min_samples_split=3; total time=   5.0s\n",
            "[CV] END max_depth=5, max_features=146, min_samples_leaf=4, min_samples_split=3; total time=   5.5s\n",
            "[CV] END max_depth=5, max_features=146, min_samples_leaf=4, min_samples_split=3; total time=   4.8s\n",
            "[CV] END max_depth=5, max_features=146, min_samples_leaf=4, min_samples_split=3; total time=   4.8s\n",
            "[CV] END max_depth=5, max_features=146, min_samples_leaf=4, min_samples_split=3; total time=   5.4s\n",
            "Fitting 5 folds for each of 1 candidates, totalling 5 fits\n",
            "[CV] END max_depth=6, max_features=123, min_samples_leaf=4, min_samples_split=2; total time=   4.8s\n",
            "[CV] END max_depth=6, max_features=123, min_samples_leaf=4, min_samples_split=2; total time=   5.3s\n",
            "[CV] END max_depth=6, max_features=123, min_samples_leaf=4, min_samples_split=2; total time=   4.7s\n",
            "[CV] END max_depth=6, max_features=123, min_samples_leaf=4, min_samples_split=2; total time=   4.7s\n",
            "[CV] END max_depth=6, max_features=123, min_samples_leaf=4, min_samples_split=2; total time=   5.2s\n",
            "Fitting 5 folds for each of 1 candidates, totalling 5 fits\n",
            "[CV] END max_depth=10, max_features=153, min_samples_leaf=4, min_samples_split=3; total time=   8.3s\n",
            "[CV] END max_depth=10, max_features=153, min_samples_leaf=4, min_samples_split=3; total time=   8.0s\n",
            "[CV] END max_depth=10, max_features=153, min_samples_leaf=4, min_samples_split=3; total time=   8.2s\n",
            "[CV] END max_depth=10, max_features=153, min_samples_leaf=4, min_samples_split=3; total time=   7.6s\n",
            "[CV] END max_depth=10, max_features=153, min_samples_leaf=4, min_samples_split=3; total time=   8.6s\n",
            "Fitting 5 folds for each of 1 candidates, totalling 5 fits\n",
            "[CV] END max_depth=7, max_features=121, min_samples_leaf=5, min_samples_split=2; total time=   5.5s\n",
            "[CV] END max_depth=7, max_features=121, min_samples_leaf=5, min_samples_split=2; total time=   5.1s\n",
            "[CV] END max_depth=7, max_features=121, min_samples_leaf=5, min_samples_split=2; total time=   5.0s\n",
            "[CV] END max_depth=7, max_features=121, min_samples_leaf=5, min_samples_split=2; total time=   5.5s\n",
            "[CV] END max_depth=7, max_features=121, min_samples_leaf=5, min_samples_split=2; total time=   5.1s\n",
            "Fitting 5 folds for each of 1 candidates, totalling 5 fits\n",
            "[CV] END max_depth=6, max_features=134, min_samples_leaf=7, min_samples_split=2; total time=   5.6s\n",
            "[CV] END max_depth=6, max_features=134, min_samples_leaf=7, min_samples_split=2; total time=   4.9s\n",
            "[CV] END max_depth=6, max_features=134, min_samples_leaf=7, min_samples_split=2; total time=   5.3s\n",
            "[CV] END max_depth=6, max_features=134, min_samples_leaf=7, min_samples_split=2; total time=   5.0s\n",
            "[CV] END max_depth=6, max_features=134, min_samples_leaf=7, min_samples_split=2; total time=   5.0s\n",
            "Fitting 5 folds for each of 1 candidates, totalling 5 fits\n",
            "[CV] END max_depth=6, max_features=123, min_samples_leaf=5, min_samples_split=4; total time=   5.4s\n",
            "[CV] END max_depth=6, max_features=123, min_samples_leaf=5, min_samples_split=4; total time=   4.7s\n",
            "[CV] END max_depth=6, max_features=123, min_samples_leaf=5, min_samples_split=4; total time=   5.0s\n",
            "[CV] END max_depth=6, max_features=123, min_samples_leaf=5, min_samples_split=4; total time=   4.7s\n",
            "[CV] END max_depth=6, max_features=123, min_samples_leaf=5, min_samples_split=4; total time=   4.7s\n",
            "Fitting 5 folds for each of 1 candidates, totalling 5 fits\n",
            "[CV] END max_depth=10, max_features=115, min_samples_leaf=4, min_samples_split=2; total time=   6.7s\n",
            "[CV] END max_depth=10, max_features=115, min_samples_leaf=4, min_samples_split=2; total time=   6.1s\n",
            "[CV] END max_depth=10, max_features=115, min_samples_leaf=4, min_samples_split=2; total time=   6.5s\n",
            "[CV] END max_depth=10, max_features=115, min_samples_leaf=4, min_samples_split=2; total time=   5.9s\n",
            "[CV] END max_depth=10, max_features=115, min_samples_leaf=4, min_samples_split=2; total time=   6.8s\n",
            "Fitting 5 folds for each of 1 candidates, totalling 5 fits\n",
            "[CV] END max_depth=7, max_features=152, min_samples_leaf=5, min_samples_split=2; total time=   6.7s\n",
            "[CV] END max_depth=7, max_features=152, min_samples_leaf=5, min_samples_split=2; total time=   6.6s\n",
            "[CV] END max_depth=7, max_features=152, min_samples_leaf=5, min_samples_split=2; total time=   6.6s\n",
            "[CV] END max_depth=7, max_features=152, min_samples_leaf=5, min_samples_split=2; total time=   6.5s\n",
            "[CV] END max_depth=7, max_features=152, min_samples_leaf=5, min_samples_split=2; total time=   6.6s\n",
            "Fitting 5 folds for each of 1 candidates, totalling 5 fits\n",
            "[CV] END max_depth=9, max_features=121, min_samples_leaf=5, min_samples_split=3; total time=   5.9s\n",
            "[CV] END max_depth=9, max_features=121, min_samples_leaf=5, min_samples_split=3; total time=   6.3s\n",
            "[CV] END max_depth=9, max_features=121, min_samples_leaf=5, min_samples_split=3; total time=   6.1s\n",
            "[CV] END max_depth=9, max_features=121, min_samples_leaf=5, min_samples_split=3; total time=   6.0s\n",
            "[CV] END max_depth=9, max_features=121, min_samples_leaf=5, min_samples_split=3; total time=   6.2s\n",
            "Fitting 5 folds for each of 1 candidates, totalling 5 fits\n",
            "[CV] END max_depth=6, max_features=117, min_samples_leaf=6, min_samples_split=4; total time=   4.7s\n",
            "[CV] END max_depth=6, max_features=117, min_samples_leaf=6, min_samples_split=4; total time=   4.9s\n",
            "[CV] END max_depth=6, max_features=117, min_samples_leaf=6, min_samples_split=4; total time=   4.5s\n",
            "[CV] END max_depth=6, max_features=117, min_samples_leaf=6, min_samples_split=4; total time=   4.9s\n",
            "[CV] END max_depth=6, max_features=117, min_samples_leaf=6, min_samples_split=4; total time=   4.6s\n",
            "Fitting 5 folds for each of 1 candidates, totalling 5 fits\n",
            "[CV] END max_depth=10, max_features=159, min_samples_leaf=4, min_samples_split=2; total time=   8.9s\n",
            "[CV] END max_depth=10, max_features=159, min_samples_leaf=4, min_samples_split=2; total time=   8.3s\n",
            "[CV] END max_depth=10, max_features=159, min_samples_leaf=4, min_samples_split=2; total time=   8.9s\n",
            "[CV] END max_depth=10, max_features=159, min_samples_leaf=4, min_samples_split=2; total time=   8.4s\n",
            "[CV] END max_depth=10, max_features=159, min_samples_leaf=4, min_samples_split=2; total time=   8.4s\n",
            "Fitting 5 folds for each of 1 candidates, totalling 5 fits\n",
            "[CV] END max_depth=10, max_features=115, min_samples_leaf=4, min_samples_split=4; total time=   6.7s\n",
            "[CV] END max_depth=10, max_features=115, min_samples_leaf=4, min_samples_split=4; total time=   6.4s\n",
            "[CV] END max_depth=10, max_features=115, min_samples_leaf=4, min_samples_split=4; total time=   6.7s\n",
            "[CV] END max_depth=10, max_features=115, min_samples_leaf=4, min_samples_split=4; total time=   6.3s\n",
            "[CV] END max_depth=10, max_features=115, min_samples_leaf=4, min_samples_split=4; total time=   6.7s\n",
            "Fitting 5 folds for each of 1 candidates, totalling 5 fits\n",
            "[CV] END max_depth=8, max_features=124, min_samples_leaf=5, min_samples_split=3; total time=   6.2s\n",
            "[CV] END max_depth=8, max_features=124, min_samples_leaf=5, min_samples_split=3; total time=   5.8s\n",
            "[CV] END max_depth=8, max_features=124, min_samples_leaf=5, min_samples_split=3; total time=   5.9s\n",
            "[CV] END max_depth=8, max_features=124, min_samples_leaf=5, min_samples_split=3; total time=   5.9s\n",
            "[CV] END max_depth=8, max_features=124, min_samples_leaf=5, min_samples_split=3; total time=   5.8s\n",
            "Fitting 5 folds for each of 1 candidates, totalling 5 fits\n",
            "[CV] END max_depth=5, max_features=160, min_samples_leaf=5, min_samples_split=2; total time=   5.6s\n",
            "[CV] END max_depth=5, max_features=160, min_samples_leaf=5, min_samples_split=2; total time=   5.2s\n",
            "[CV] END max_depth=5, max_features=160, min_samples_leaf=5, min_samples_split=2; total time=   5.7s\n",
            "[CV] END max_depth=5, max_features=160, min_samples_leaf=5, min_samples_split=2; total time=   5.3s\n",
            "[CV] END max_depth=5, max_features=160, min_samples_leaf=5, min_samples_split=2; total time=   5.9s\n",
            "Fitting 5 folds for each of 1 candidates, totalling 5 fits\n",
            "[CV] END max_depth=9, max_features=160, min_samples_leaf=4, min_samples_split=2; total time=   8.2s\n",
            "[CV] END max_depth=9, max_features=160, min_samples_leaf=4, min_samples_split=2; total time=   8.7s\n",
            "[CV] END max_depth=9, max_features=160, min_samples_leaf=4, min_samples_split=2; total time=   8.5s\n",
            "[CV] END max_depth=9, max_features=160, min_samples_leaf=4, min_samples_split=2; total time=   7.8s\n",
            "[CV] END max_depth=9, max_features=160, min_samples_leaf=4, min_samples_split=2; total time=   8.8s\n",
            "Fitting 5 folds for each of 1 candidates, totalling 5 fits\n",
            "[CV] END max_depth=10, max_features=160, min_samples_leaf=5, min_samples_split=2; total time=   8.9s\n",
            "[CV] END max_depth=10, max_features=160, min_samples_leaf=5, min_samples_split=2; total time=   8.0s\n",
            "[CV] END max_depth=10, max_features=160, min_samples_leaf=5, min_samples_split=2; total time=   8.5s\n",
            "[CV] END max_depth=10, max_features=160, min_samples_leaf=5, min_samples_split=2; total time=   8.2s\n",
            "[CV] END max_depth=10, max_features=160, min_samples_leaf=5, min_samples_split=2; total time=   9.7s\n",
            "Fitting 5 folds for each of 1 candidates, totalling 5 fits\n",
            "[CV] END max_depth=9, max_features=159, min_samples_leaf=6, min_samples_split=3; total time=   8.5s\n",
            "[CV] END max_depth=9, max_features=159, min_samples_leaf=6, min_samples_split=3; total time=   7.9s\n",
            "[CV] END max_depth=9, max_features=159, min_samples_leaf=6, min_samples_split=3; total time=   7.3s\n",
            "[CV] END max_depth=9, max_features=159, min_samples_leaf=6, min_samples_split=3; total time=   7.7s\n",
            "[CV] END max_depth=9, max_features=159, min_samples_leaf=6, min_samples_split=3; total time=   8.1s\n",
            "Fitting 5 folds for each of 1 candidates, totalling 5 fits\n",
            "[CV] END max_depth=9, max_features=116, min_samples_leaf=6, min_samples_split=2; total time=   5.6s\n",
            "[CV] END max_depth=9, max_features=116, min_samples_leaf=6, min_samples_split=2; total time=   6.1s\n",
            "[CV] END max_depth=9, max_features=116, min_samples_leaf=6, min_samples_split=2; total time=   5.6s\n",
            "[CV] END max_depth=9, max_features=116, min_samples_leaf=6, min_samples_split=2; total time=   5.5s\n",
            "[CV] END max_depth=9, max_features=116, min_samples_leaf=6, min_samples_split=2; total time=   6.1s\n",
            "Fitting 5 folds for each of 1 candidates, totalling 5 fits\n",
            "[CV] END max_depth=7, max_features=153, min_samples_leaf=5, min_samples_split=3; total time=   6.8s\n",
            "[CV] END max_depth=7, max_features=153, min_samples_leaf=5, min_samples_split=3; total time=   6.6s\n",
            "[CV] END max_depth=7, max_features=153, min_samples_leaf=5, min_samples_split=3; total time=   6.8s\n",
            "[CV] END max_depth=7, max_features=153, min_samples_leaf=5, min_samples_split=3; total time=   6.3s\n",
            "[CV] END max_depth=7, max_features=153, min_samples_leaf=5, min_samples_split=3; total time=   6.9s\n",
            "Fitting 5 folds for each of 1 candidates, totalling 5 fits\n",
            "[CV] END max_depth=7, max_features=150, min_samples_leaf=7, min_samples_split=4; total time=   6.1s\n",
            "[CV] END max_depth=7, max_features=150, min_samples_leaf=7, min_samples_split=4; total time=   6.5s\n",
            "[CV] END max_depth=7, max_features=150, min_samples_leaf=7, min_samples_split=4; total time=   5.9s\n",
            "[CV] END max_depth=7, max_features=150, min_samples_leaf=7, min_samples_split=4; total time=   6.4s\n",
            "[CV] END max_depth=7, max_features=150, min_samples_leaf=7, min_samples_split=4; total time=   6.0s\n",
            "Fitting 5 folds for each of 1 candidates, totalling 5 fits\n",
            "[CV] END max_depth=7, max_features=134, min_samples_leaf=6, min_samples_split=3; total time=   6.1s\n",
            "[CV] END max_depth=7, max_features=134, min_samples_leaf=6, min_samples_split=3; total time=   5.5s\n",
            "[CV] END max_depth=7, max_features=134, min_samples_leaf=6, min_samples_split=3; total time=   6.0s\n",
            "[CV] END max_depth=7, max_features=134, min_samples_leaf=6, min_samples_split=3; total time=   5.3s\n",
            "[CV] END max_depth=7, max_features=134, min_samples_leaf=6, min_samples_split=3; total time=   5.7s\n"
          ]
        },
        {
          "output_type": "stream",
          "name": "stderr",
          "text": [
            "/usr/local/lib/python3.8/dist-packages/skopt/optimizer/optimizer.py:449: UserWarning: The objective has been evaluated at this point before.\n",
            "  warnings.warn(\"The objective has been evaluated \"\n"
          ]
        },
        {
          "output_type": "stream",
          "name": "stdout",
          "text": [
            "Fitting 5 folds for each of 1 candidates, totalling 5 fits\n",
            "[CV] END max_depth=10, max_features=159, min_samples_leaf=4, min_samples_split=2; total time=   8.3s\n",
            "[CV] END max_depth=10, max_features=159, min_samples_leaf=4, min_samples_split=2; total time=   8.7s\n",
            "[CV] END max_depth=10, max_features=159, min_samples_leaf=4, min_samples_split=2; total time=   8.8s\n",
            "[CV] END max_depth=10, max_features=159, min_samples_leaf=4, min_samples_split=2; total time=   7.9s\n",
            "[CV] END max_depth=10, max_features=159, min_samples_leaf=4, min_samples_split=2; total time=   8.9s\n",
            "Fitting 5 folds for each of 1 candidates, totalling 5 fits\n",
            "[CV] END max_depth=7, max_features=148, min_samples_leaf=7, min_samples_split=3; total time=   6.4s\n",
            "[CV] END max_depth=7, max_features=148, min_samples_leaf=7, min_samples_split=3; total time=   6.0s\n",
            "[CV] END max_depth=7, max_features=148, min_samples_leaf=7, min_samples_split=3; total time=   6.2s\n",
            "[CV] END max_depth=7, max_features=148, min_samples_leaf=7, min_samples_split=3; total time=   6.0s\n",
            "[CV] END max_depth=7, max_features=148, min_samples_leaf=7, min_samples_split=3; total time=   6.0s\n",
            "Fitting 5 folds for each of 1 candidates, totalling 5 fits\n",
            "[CV] END max_depth=8, max_features=149, min_samples_leaf=6, min_samples_split=3; total time=   6.6s\n",
            "[CV] END max_depth=8, max_features=149, min_samples_leaf=6, min_samples_split=3; total time=   7.1s\n",
            "[CV] END max_depth=8, max_features=149, min_samples_leaf=6, min_samples_split=3; total time=   6.5s\n",
            "[CV] END max_depth=8, max_features=149, min_samples_leaf=6, min_samples_split=3; total time=   6.8s\n",
            "[CV] END max_depth=8, max_features=149, min_samples_leaf=6, min_samples_split=3; total time=   6.7s\n",
            "Fitting 5 folds for each of 1 candidates, totalling 5 fits\n",
            "[CV] END max_depth=7, max_features=153, min_samples_leaf=6, min_samples_split=4; total time=   6.9s\n",
            "[CV] END max_depth=7, max_features=153, min_samples_leaf=6, min_samples_split=4; total time=   6.1s\n",
            "[CV] END max_depth=7, max_features=153, min_samples_leaf=6, min_samples_split=4; total time=   6.7s\n",
            "[CV] END max_depth=7, max_features=153, min_samples_leaf=6, min_samples_split=4; total time=   6.1s\n",
            "[CV] END max_depth=7, max_features=153, min_samples_leaf=6, min_samples_split=4; total time=   6.8s\n",
            "Fitting 5 folds for each of 1 candidates, totalling 5 fits\n",
            "[CV] END max_depth=5, max_features=138, min_samples_leaf=7, min_samples_split=2; total time=   4.6s\n",
            "[CV] END max_depth=5, max_features=138, min_samples_leaf=7, min_samples_split=2; total time=   5.0s\n",
            "[CV] END max_depth=5, max_features=138, min_samples_leaf=7, min_samples_split=2; total time=   4.4s\n",
            "[CV] END max_depth=5, max_features=138, min_samples_leaf=7, min_samples_split=2; total time=   4.6s\n",
            "[CV] END max_depth=5, max_features=138, min_samples_leaf=7, min_samples_split=2; total time=   4.8s\n",
            "Fitting 5 folds for each of 1 candidates, totalling 5 fits\n",
            "[CV] END max_depth=8, max_features=118, min_samples_leaf=5, min_samples_split=3; total time=   5.4s\n",
            "[CV] END max_depth=8, max_features=118, min_samples_leaf=5, min_samples_split=3; total time=   5.9s\n",
            "[CV] END max_depth=8, max_features=118, min_samples_leaf=5, min_samples_split=3; total time=   5.3s\n",
            "[CV] END max_depth=8, max_features=118, min_samples_leaf=5, min_samples_split=3; total time=   5.8s\n",
            "[CV] END max_depth=8, max_features=118, min_samples_leaf=5, min_samples_split=3; total time=   5.6s\n",
            "Fitting 5 folds for each of 1 candidates, totalling 5 fits\n",
            "[CV] END max_depth=6, max_features=157, min_samples_leaf=5, min_samples_split=4; total time=   6.4s\n",
            "[CV] END max_depth=6, max_features=157, min_samples_leaf=5, min_samples_split=4; total time=   5.8s\n",
            "[CV] END max_depth=6, max_features=157, min_samples_leaf=5, min_samples_split=4; total time=   6.4s\n",
            "[CV] END max_depth=6, max_features=157, min_samples_leaf=5, min_samples_split=4; total time=   5.7s\n",
            "[CV] END max_depth=6, max_features=157, min_samples_leaf=5, min_samples_split=4; total time=   6.5s\n",
            "Fitting 5 folds for each of 1 candidates, totalling 5 fits\n",
            "[CV] END max_depth=9, max_features=159, min_samples_leaf=4, min_samples_split=2; total time=   8.0s\n",
            "[CV] END max_depth=9, max_features=159, min_samples_leaf=4, min_samples_split=2; total time=   8.2s\n",
            "[CV] END max_depth=9, max_features=159, min_samples_leaf=4, min_samples_split=2; total time=   8.3s\n",
            "[CV] END max_depth=9, max_features=159, min_samples_leaf=4, min_samples_split=2; total time=   7.5s\n",
            "[CV] END max_depth=9, max_features=159, min_samples_leaf=4, min_samples_split=2; total time=   8.4s\n"
          ]
        },
        {
          "output_type": "execute_result",
          "data": {
            "text/plain": [
              "BayesSearchCV(cv=5,\n",
              "              estimator=RandomForestRegressor(n_estimators=200,\n",
              "                                              random_state=153),\n",
              "              n_iter=40, random_state=153, scoring='neg_mean_squared_error',\n",
              "              search_spaces={'max_depth': Integer(low=5, high=10, prior='uniform', transform='normalize'),\n",
              "                             'max_features': Integer(low=115, high=160, prior='uniform', transform='normalize'),\n",
              "                             'min_samples_leaf': Integer(low=4, high=7, prior='uniform', transform='normalize'),\n",
              "                             'min_samples_split': Integer(low=2, high=4, prior='uniform', transform='normalize')},\n",
              "              verbose=2)"
            ],
            "text/html": [
              "<style>#sk-container-id-4 {color: black;background-color: white;}#sk-container-id-4 pre{padding: 0;}#sk-container-id-4 div.sk-toggleable {background-color: white;}#sk-container-id-4 label.sk-toggleable__label {cursor: pointer;display: block;width: 100%;margin-bottom: 0;padding: 0.3em;box-sizing: border-box;text-align: center;}#sk-container-id-4 label.sk-toggleable__label-arrow:before {content: \"▸\";float: left;margin-right: 0.25em;color: #696969;}#sk-container-id-4 label.sk-toggleable__label-arrow:hover:before {color: black;}#sk-container-id-4 div.sk-estimator:hover label.sk-toggleable__label-arrow:before {color: black;}#sk-container-id-4 div.sk-toggleable__content {max-height: 0;max-width: 0;overflow: hidden;text-align: left;background-color: #f0f8ff;}#sk-container-id-4 div.sk-toggleable__content pre {margin: 0.2em;color: black;border-radius: 0.25em;background-color: #f0f8ff;}#sk-container-id-4 input.sk-toggleable__control:checked~div.sk-toggleable__content {max-height: 200px;max-width: 100%;overflow: auto;}#sk-container-id-4 input.sk-toggleable__control:checked~label.sk-toggleable__label-arrow:before {content: \"▾\";}#sk-container-id-4 div.sk-estimator input.sk-toggleable__control:checked~label.sk-toggleable__label {background-color: #d4ebff;}#sk-container-id-4 div.sk-label input.sk-toggleable__control:checked~label.sk-toggleable__label {background-color: #d4ebff;}#sk-container-id-4 input.sk-hidden--visually {border: 0;clip: rect(1px 1px 1px 1px);clip: rect(1px, 1px, 1px, 1px);height: 1px;margin: -1px;overflow: hidden;padding: 0;position: absolute;width: 1px;}#sk-container-id-4 div.sk-estimator {font-family: monospace;background-color: #f0f8ff;border: 1px dotted black;border-radius: 0.25em;box-sizing: border-box;margin-bottom: 0.5em;}#sk-container-id-4 div.sk-estimator:hover {background-color: #d4ebff;}#sk-container-id-4 div.sk-parallel-item::after {content: \"\";width: 100%;border-bottom: 1px solid gray;flex-grow: 1;}#sk-container-id-4 div.sk-label:hover label.sk-toggleable__label {background-color: #d4ebff;}#sk-container-id-4 div.sk-serial::before {content: \"\";position: absolute;border-left: 1px solid gray;box-sizing: border-box;top: 0;bottom: 0;left: 50%;z-index: 0;}#sk-container-id-4 div.sk-serial {display: flex;flex-direction: column;align-items: center;background-color: white;padding-right: 0.2em;padding-left: 0.2em;position: relative;}#sk-container-id-4 div.sk-item {position: relative;z-index: 1;}#sk-container-id-4 div.sk-parallel {display: flex;align-items: stretch;justify-content: center;background-color: white;position: relative;}#sk-container-id-4 div.sk-item::before, #sk-container-id-4 div.sk-parallel-item::before {content: \"\";position: absolute;border-left: 1px solid gray;box-sizing: border-box;top: 0;bottom: 0;left: 50%;z-index: -1;}#sk-container-id-4 div.sk-parallel-item {display: flex;flex-direction: column;z-index: 1;position: relative;background-color: white;}#sk-container-id-4 div.sk-parallel-item:first-child::after {align-self: flex-end;width: 50%;}#sk-container-id-4 div.sk-parallel-item:last-child::after {align-self: flex-start;width: 50%;}#sk-container-id-4 div.sk-parallel-item:only-child::after {width: 0;}#sk-container-id-4 div.sk-dashed-wrapped {border: 1px dashed gray;margin: 0 0.4em 0.5em 0.4em;box-sizing: border-box;padding-bottom: 0.4em;background-color: white;}#sk-container-id-4 div.sk-label label {font-family: monospace;font-weight: bold;display: inline-block;line-height: 1.2em;}#sk-container-id-4 div.sk-label-container {text-align: center;}#sk-container-id-4 div.sk-container {/* jupyter's `normalize.less` sets `[hidden] { display: none; }` but bootstrap.min.css set `[hidden] { display: none !important; }` so we also need the `!important` here to be able to override the default hidden behavior on the sphinx rendered scikit-learn.org. See: https://github.com/scikit-learn/scikit-learn/issues/21755 */display: inline-block !important;position: relative;}#sk-container-id-4 div.sk-text-repr-fallback {display: none;}</style><div id=\"sk-container-id-4\" class=\"sk-top-container\"><div class=\"sk-text-repr-fallback\"><pre>BayesSearchCV(cv=5,\n",
              "              estimator=RandomForestRegressor(n_estimators=200,\n",
              "                                              random_state=153),\n",
              "              n_iter=40, random_state=153, scoring=&#x27;neg_mean_squared_error&#x27;,\n",
              "              search_spaces={&#x27;max_depth&#x27;: Integer(low=5, high=10, prior=&#x27;uniform&#x27;, transform=&#x27;normalize&#x27;),\n",
              "                             &#x27;max_features&#x27;: Integer(low=115, high=160, prior=&#x27;uniform&#x27;, transform=&#x27;normalize&#x27;),\n",
              "                             &#x27;min_samples_leaf&#x27;: Integer(low=4, high=7, prior=&#x27;uniform&#x27;, transform=&#x27;normalize&#x27;),\n",
              "                             &#x27;min_samples_split&#x27;: Integer(low=2, high=4, prior=&#x27;uniform&#x27;, transform=&#x27;normalize&#x27;)},\n",
              "              verbose=2)</pre><b>In a Jupyter environment, please rerun this cell to show the HTML representation or trust the notebook. <br />On GitHub, the HTML representation is unable to render, please try loading this page with nbviewer.org.</b></div><div class=\"sk-container\" hidden><div class=\"sk-item sk-dashed-wrapped\"><div class=\"sk-label-container\"><div class=\"sk-label sk-toggleable\"><input class=\"sk-toggleable__control sk-hidden--visually\" id=\"sk-estimator-id-6\" type=\"checkbox\" ><label for=\"sk-estimator-id-6\" class=\"sk-toggleable__label sk-toggleable__label-arrow\">BayesSearchCV</label><div class=\"sk-toggleable__content\"><pre>BayesSearchCV(cv=5,\n",
              "              estimator=RandomForestRegressor(n_estimators=200,\n",
              "                                              random_state=153),\n",
              "              n_iter=40, random_state=153, scoring=&#x27;neg_mean_squared_error&#x27;,\n",
              "              search_spaces={&#x27;max_depth&#x27;: Integer(low=5, high=10, prior=&#x27;uniform&#x27;, transform=&#x27;normalize&#x27;),\n",
              "                             &#x27;max_features&#x27;: Integer(low=115, high=160, prior=&#x27;uniform&#x27;, transform=&#x27;normalize&#x27;),\n",
              "                             &#x27;min_samples_leaf&#x27;: Integer(low=4, high=7, prior=&#x27;uniform&#x27;, transform=&#x27;normalize&#x27;),\n",
              "                             &#x27;min_samples_split&#x27;: Integer(low=2, high=4, prior=&#x27;uniform&#x27;, transform=&#x27;normalize&#x27;)},\n",
              "              verbose=2)</pre></div></div></div><div class=\"sk-parallel\"><div class=\"sk-parallel-item\"><div class=\"sk-item\"><div class=\"sk-label-container\"><div class=\"sk-label sk-toggleable\"><input class=\"sk-toggleable__control sk-hidden--visually\" id=\"sk-estimator-id-7\" type=\"checkbox\" ><label for=\"sk-estimator-id-7\" class=\"sk-toggleable__label sk-toggleable__label-arrow\">estimator: RandomForestRegressor</label><div class=\"sk-toggleable__content\"><pre>RandomForestRegressor(n_estimators=200, random_state=153)</pre></div></div></div><div class=\"sk-serial\"><div class=\"sk-item\"><div class=\"sk-estimator sk-toggleable\"><input class=\"sk-toggleable__control sk-hidden--visually\" id=\"sk-estimator-id-8\" type=\"checkbox\" ><label for=\"sk-estimator-id-8\" class=\"sk-toggleable__label sk-toggleable__label-arrow\">RandomForestRegressor</label><div class=\"sk-toggleable__content\"><pre>RandomForestRegressor(n_estimators=200, random_state=153)</pre></div></div></div></div></div></div></div></div></div></div>"
            ]
          },
          "metadata": {},
          "execution_count": 30
        }
      ]
    },
    {
      "cell_type": "code",
      "source": [
        "# abs(search_v0.best_score_)"
      ],
      "metadata": {
        "colab": {
          "base_uri": "https://localhost:8080/"
        },
        "id": "YvpNgKs8VDmP",
        "outputId": "6d80e407-39e9-4430-f971-823feee04d3e"
      },
      "execution_count": 31,
      "outputs": [
        {
          "output_type": "execute_result",
          "data": {
            "text/plain": [
              "6.372271773632763e-06"
            ]
          },
          "metadata": {},
          "execution_count": 31
        }
      ]
    },
    {
      "cell_type": "code",
      "source": [
        "# abs(search_v1.best_score_)"
      ],
      "metadata": {
        "colab": {
          "base_uri": "https://localhost:8080/"
        },
        "id": "vAZBwV5Ob1os",
        "outputId": "3e5aa706-c550-4e94-a5b8-740c1de6825a"
      },
      "execution_count": 32,
      "outputs": [
        {
          "output_type": "execute_result",
          "data": {
            "text/plain": [
              "6.257980306326264e-06"
            ]
          },
          "metadata": {},
          "execution_count": 32
        }
      ]
    },
    {
      "cell_type": "code",
      "source": [
        "#search.best_estimator_"
      ],
      "metadata": {
        "colab": {
          "base_uri": "https://localhost:8080/",
          "height": 109
        },
        "id": "SmoroZahb_Hj",
        "outputId": "c3181fc7-16a8-4665-e3f2-ae5dfaf96b56"
      },
      "execution_count": null,
      "outputs": [
        {
          "output_type": "execute_result",
          "data": {
            "text/plain": [
              "RandomForestRegressor(max_depth=5, max_features=135,\n",
              "                      max_samples=0.9928109876715059, min_samples_leaf=5,\n",
              "                      n_estimators=150, random_state=153)"
            ],
            "text/html": [
              "<style>#sk-container-id-5 {color: black;background-color: white;}#sk-container-id-5 pre{padding: 0;}#sk-container-id-5 div.sk-toggleable {background-color: white;}#sk-container-id-5 label.sk-toggleable__label {cursor: pointer;display: block;width: 100%;margin-bottom: 0;padding: 0.3em;box-sizing: border-box;text-align: center;}#sk-container-id-5 label.sk-toggleable__label-arrow:before {content: \"▸\";float: left;margin-right: 0.25em;color: #696969;}#sk-container-id-5 label.sk-toggleable__label-arrow:hover:before {color: black;}#sk-container-id-5 div.sk-estimator:hover label.sk-toggleable__label-arrow:before {color: black;}#sk-container-id-5 div.sk-toggleable__content {max-height: 0;max-width: 0;overflow: hidden;text-align: left;background-color: #f0f8ff;}#sk-container-id-5 div.sk-toggleable__content pre {margin: 0.2em;color: black;border-radius: 0.25em;background-color: #f0f8ff;}#sk-container-id-5 input.sk-toggleable__control:checked~div.sk-toggleable__content {max-height: 200px;max-width: 100%;overflow: auto;}#sk-container-id-5 input.sk-toggleable__control:checked~label.sk-toggleable__label-arrow:before {content: \"▾\";}#sk-container-id-5 div.sk-estimator input.sk-toggleable__control:checked~label.sk-toggleable__label {background-color: #d4ebff;}#sk-container-id-5 div.sk-label input.sk-toggleable__control:checked~label.sk-toggleable__label {background-color: #d4ebff;}#sk-container-id-5 input.sk-hidden--visually {border: 0;clip: rect(1px 1px 1px 1px);clip: rect(1px, 1px, 1px, 1px);height: 1px;margin: -1px;overflow: hidden;padding: 0;position: absolute;width: 1px;}#sk-container-id-5 div.sk-estimator {font-family: monospace;background-color: #f0f8ff;border: 1px dotted black;border-radius: 0.25em;box-sizing: border-box;margin-bottom: 0.5em;}#sk-container-id-5 div.sk-estimator:hover {background-color: #d4ebff;}#sk-container-id-5 div.sk-parallel-item::after {content: \"\";width: 100%;border-bottom: 1px solid gray;flex-grow: 1;}#sk-container-id-5 div.sk-label:hover label.sk-toggleable__label {background-color: #d4ebff;}#sk-container-id-5 div.sk-serial::before {content: \"\";position: absolute;border-left: 1px solid gray;box-sizing: border-box;top: 0;bottom: 0;left: 50%;z-index: 0;}#sk-container-id-5 div.sk-serial {display: flex;flex-direction: column;align-items: center;background-color: white;padding-right: 0.2em;padding-left: 0.2em;position: relative;}#sk-container-id-5 div.sk-item {position: relative;z-index: 1;}#sk-container-id-5 div.sk-parallel {display: flex;align-items: stretch;justify-content: center;background-color: white;position: relative;}#sk-container-id-5 div.sk-item::before, #sk-container-id-5 div.sk-parallel-item::before {content: \"\";position: absolute;border-left: 1px solid gray;box-sizing: border-box;top: 0;bottom: 0;left: 50%;z-index: -1;}#sk-container-id-5 div.sk-parallel-item {display: flex;flex-direction: column;z-index: 1;position: relative;background-color: white;}#sk-container-id-5 div.sk-parallel-item:first-child::after {align-self: flex-end;width: 50%;}#sk-container-id-5 div.sk-parallel-item:last-child::after {align-self: flex-start;width: 50%;}#sk-container-id-5 div.sk-parallel-item:only-child::after {width: 0;}#sk-container-id-5 div.sk-dashed-wrapped {border: 1px dashed gray;margin: 0 0.4em 0.5em 0.4em;box-sizing: border-box;padding-bottom: 0.4em;background-color: white;}#sk-container-id-5 div.sk-label label {font-family: monospace;font-weight: bold;display: inline-block;line-height: 1.2em;}#sk-container-id-5 div.sk-label-container {text-align: center;}#sk-container-id-5 div.sk-container {/* jupyter's `normalize.less` sets `[hidden] { display: none; }` but bootstrap.min.css set `[hidden] { display: none !important; }` so we also need the `!important` here to be able to override the default hidden behavior on the sphinx rendered scikit-learn.org. See: https://github.com/scikit-learn/scikit-learn/issues/21755 */display: inline-block !important;position: relative;}#sk-container-id-5 div.sk-text-repr-fallback {display: none;}</style><div id=\"sk-container-id-5\" class=\"sk-top-container\"><div class=\"sk-text-repr-fallback\"><pre>RandomForestRegressor(max_depth=5, max_features=135,\n",
              "                      max_samples=0.9928109876715059, min_samples_leaf=5,\n",
              "                      n_estimators=150, random_state=153)</pre><b>In a Jupyter environment, please rerun this cell to show the HTML representation or trust the notebook. <br />On GitHub, the HTML representation is unable to render, please try loading this page with nbviewer.org.</b></div><div class=\"sk-container\" hidden><div class=\"sk-item\"><div class=\"sk-estimator sk-toggleable\"><input class=\"sk-toggleable__control sk-hidden--visually\" id=\"sk-estimator-id-9\" type=\"checkbox\" checked><label for=\"sk-estimator-id-9\" class=\"sk-toggleable__label sk-toggleable__label-arrow\">RandomForestRegressor</label><div class=\"sk-toggleable__content\"><pre>RandomForestRegressor(max_depth=5, max_features=135,\n",
              "                      max_samples=0.9928109876715059, min_samples_leaf=5,\n",
              "                      n_estimators=150, random_state=153)</pre></div></div></div></div></div>"
            ]
          },
          "metadata": {},
          "execution_count": 47
        }
      ]
    },
    {
      "cell_type": "code",
      "source": [
        "#search1.best_estimator_"
      ],
      "metadata": {
        "colab": {
          "base_uri": "https://localhost:8080/",
          "height": 109
        },
        "id": "Cr1tkY80cCsp",
        "outputId": "db11eb95-171a-42c0-fa3e-74d870f57e83"
      },
      "execution_count": null,
      "outputs": [
        {
          "output_type": "execute_result",
          "data": {
            "text/plain": [
              "RandomForestRegressor(max_depth=10, max_features=149,\n",
              "                      max_samples=0.9986390128212231, min_samples_leaf=4,\n",
              "                      min_samples_split=4, n_estimators=200, random_state=153)"
            ],
            "text/html": [
              "<style>#sk-container-id-4 {color: black;background-color: white;}#sk-container-id-4 pre{padding: 0;}#sk-container-id-4 div.sk-toggleable {background-color: white;}#sk-container-id-4 label.sk-toggleable__label {cursor: pointer;display: block;width: 100%;margin-bottom: 0;padding: 0.3em;box-sizing: border-box;text-align: center;}#sk-container-id-4 label.sk-toggleable__label-arrow:before {content: \"▸\";float: left;margin-right: 0.25em;color: #696969;}#sk-container-id-4 label.sk-toggleable__label-arrow:hover:before {color: black;}#sk-container-id-4 div.sk-estimator:hover label.sk-toggleable__label-arrow:before {color: black;}#sk-container-id-4 div.sk-toggleable__content {max-height: 0;max-width: 0;overflow: hidden;text-align: left;background-color: #f0f8ff;}#sk-container-id-4 div.sk-toggleable__content pre {margin: 0.2em;color: black;border-radius: 0.25em;background-color: #f0f8ff;}#sk-container-id-4 input.sk-toggleable__control:checked~div.sk-toggleable__content {max-height: 200px;max-width: 100%;overflow: auto;}#sk-container-id-4 input.sk-toggleable__control:checked~label.sk-toggleable__label-arrow:before {content: \"▾\";}#sk-container-id-4 div.sk-estimator input.sk-toggleable__control:checked~label.sk-toggleable__label {background-color: #d4ebff;}#sk-container-id-4 div.sk-label input.sk-toggleable__control:checked~label.sk-toggleable__label {background-color: #d4ebff;}#sk-container-id-4 input.sk-hidden--visually {border: 0;clip: rect(1px 1px 1px 1px);clip: rect(1px, 1px, 1px, 1px);height: 1px;margin: -1px;overflow: hidden;padding: 0;position: absolute;width: 1px;}#sk-container-id-4 div.sk-estimator {font-family: monospace;background-color: #f0f8ff;border: 1px dotted black;border-radius: 0.25em;box-sizing: border-box;margin-bottom: 0.5em;}#sk-container-id-4 div.sk-estimator:hover {background-color: #d4ebff;}#sk-container-id-4 div.sk-parallel-item::after {content: \"\";width: 100%;border-bottom: 1px solid gray;flex-grow: 1;}#sk-container-id-4 div.sk-label:hover label.sk-toggleable__label {background-color: #d4ebff;}#sk-container-id-4 div.sk-serial::before {content: \"\";position: absolute;border-left: 1px solid gray;box-sizing: border-box;top: 0;bottom: 0;left: 50%;z-index: 0;}#sk-container-id-4 div.sk-serial {display: flex;flex-direction: column;align-items: center;background-color: white;padding-right: 0.2em;padding-left: 0.2em;position: relative;}#sk-container-id-4 div.sk-item {position: relative;z-index: 1;}#sk-container-id-4 div.sk-parallel {display: flex;align-items: stretch;justify-content: center;background-color: white;position: relative;}#sk-container-id-4 div.sk-item::before, #sk-container-id-4 div.sk-parallel-item::before {content: \"\";position: absolute;border-left: 1px solid gray;box-sizing: border-box;top: 0;bottom: 0;left: 50%;z-index: -1;}#sk-container-id-4 div.sk-parallel-item {display: flex;flex-direction: column;z-index: 1;position: relative;background-color: white;}#sk-container-id-4 div.sk-parallel-item:first-child::after {align-self: flex-end;width: 50%;}#sk-container-id-4 div.sk-parallel-item:last-child::after {align-self: flex-start;width: 50%;}#sk-container-id-4 div.sk-parallel-item:only-child::after {width: 0;}#sk-container-id-4 div.sk-dashed-wrapped {border: 1px dashed gray;margin: 0 0.4em 0.5em 0.4em;box-sizing: border-box;padding-bottom: 0.4em;background-color: white;}#sk-container-id-4 div.sk-label label {font-family: monospace;font-weight: bold;display: inline-block;line-height: 1.2em;}#sk-container-id-4 div.sk-label-container {text-align: center;}#sk-container-id-4 div.sk-container {/* jupyter's `normalize.less` sets `[hidden] { display: none; }` but bootstrap.min.css set `[hidden] { display: none !important; }` so we also need the `!important` here to be able to override the default hidden behavior on the sphinx rendered scikit-learn.org. See: https://github.com/scikit-learn/scikit-learn/issues/21755 */display: inline-block !important;position: relative;}#sk-container-id-4 div.sk-text-repr-fallback {display: none;}</style><div id=\"sk-container-id-4\" class=\"sk-top-container\"><div class=\"sk-text-repr-fallback\"><pre>RandomForestRegressor(max_depth=10, max_features=149,\n",
              "                      max_samples=0.9986390128212231, min_samples_leaf=4,\n",
              "                      min_samples_split=4, n_estimators=200, random_state=153)</pre><b>In a Jupyter environment, please rerun this cell to show the HTML representation or trust the notebook. <br />On GitHub, the HTML representation is unable to render, please try loading this page with nbviewer.org.</b></div><div class=\"sk-container\" hidden><div class=\"sk-item\"><div class=\"sk-estimator sk-toggleable\"><input class=\"sk-toggleable__control sk-hidden--visually\" id=\"sk-estimator-id-8\" type=\"checkbox\" checked><label for=\"sk-estimator-id-8\" class=\"sk-toggleable__label sk-toggleable__label-arrow\">RandomForestRegressor</label><div class=\"sk-toggleable__content\"><pre>RandomForestRegressor(max_depth=10, max_features=149,\n",
              "                      max_samples=0.9986390128212231, min_samples_leaf=4,\n",
              "                      min_samples_split=4, n_estimators=200, random_state=153)</pre></div></div></div></div></div>"
            ]
          },
          "metadata": {},
          "execution_count": 46
        }
      ]
    },
    {
      "cell_type": "code",
      "source": [
        "# Pickle and dump random forests\n",
        "# from joblib import dump,load\n",
        "# dump(search_v0.best_estimator_, 'search_v0.joblib')\n",
        "# dump(search_v1.best_estimator_,'search_v1.joblib')"
      ],
      "metadata": {
        "colab": {
          "base_uri": "https://localhost:8080/"
        },
        "id": "8abJZoCAcHGn",
        "outputId": "47975817-deef-4923-b16d-b216d7531eda"
      },
      "execution_count": 33,
      "outputs": [
        {
          "output_type": "execute_result",
          "data": {
            "text/plain": [
              "['search_v1.joblib']"
            ]
          },
          "metadata": {},
          "execution_count": 33
        }
      ]
    },
    {
      "cell_type": "code",
      "source": [
        "##Upload rf models to test"
      ],
      "metadata": {
        "id": "2QzcEm1qZrDF"
      },
      "execution_count": null,
      "outputs": []
    },
    {
      "cell_type": "code",
      "source": [
        "## Model v0 and v1 - from first search\n",
        "from joblib import load\n",
        "model_v0 = load('/content/drive/Othercomputers/My Laptop/Winer 2023/Econ 472/search_v0.joblib')\n",
        "model_v1 = load('/content/drive/Othercomputers/My Laptop/Winer 2023/Econ 472/search_v1.joblib')"
      ],
      "metadata": {
        "id": "FtUDXEAOZrAV"
      },
      "execution_count": 66,
      "outputs": []
    },
    {
      "cell_type": "code",
      "source": [
        "## Extracting the date column for analysis\n",
        "start_date = pd.to_datetime('01-01-1960', format='%d-%m-%Y')\n",
        "end_date = pd.to_datetime('01-12-2022', format='%d-%m-%Y')\n",
        "date_list = pd.date_range(start_date, end_date, freq=\"MS\")\n",
        "date_train = date_list[startpoint:x,]\n",
        "date_test = date_list[x:,]"
      ],
      "metadata": {
        "id": "g0oHKKG5dNPe"
      },
      "execution_count": 67,
      "outputs": []
    },
    {
      "cell_type": "markdown",
      "source": [
        "#### Using proper lags data for forecasting"
      ],
      "metadata": {
        "id": "1V4PoJKyF-hF"
      }
    },
    {
      "cell_type": "code",
      "source": [
        "##Preparing a script to get 12 month ahead forecast\n",
        "\n",
        "def forecast_ahead_12(model_fc, test_data_og):\n",
        "  test_data = test_data_og.copy(deep = True)\n",
        "  test_data.reset_index(drop=True, inplace = True)\n",
        "  CPI_lags_cols = ['CPIAUCSL_1','CPIAUCSL_2','CPIAUCSL_3']\n",
        "  y_pred_test = []\n",
        "  for i in range(12):\n",
        "    y = model_fc.predict(test_data.iloc[[i]])\n",
        "    y_pred_test.append(y)\n",
        "    prev_CPI_2 = test_data.loc[i]['CPIAUCSL_2']\n",
        "    prev_CPI_1 = test_data.loc[i]['CPIAUCSL_1']\n",
        "    if i < 11:\n",
        "        test_data.loc[i+1]['CPIAUCSL_1'] = y\n",
        "        test_data.loc[i+1]['CPIAUCSL_2'] = prev_CPI_1\n",
        "        test_data.loc[i+1]['CPIAUCSL_3'] = prev_CPI_2\n",
        "  ##flatten y_pred_test\n",
        "  y_pred_test = np.ravel(y_pred_test)\n",
        "\n",
        "  return y_pred_test, test_data"
      ],
      "metadata": {
        "id": "iYP1kP2eof9f"
      },
      "execution_count": 68,
      "outputs": []
    },
    {
      "cell_type": "code",
      "source": [
        "## Creating a scoring function\n",
        "def mse_horizons(true, predicted):\n",
        "  mse_vals=[]\n",
        "  if len(true) == len(predicted):\n",
        "    array_abs_diff = (true-predicted)**2\n",
        "    for i in range(len(true)):\n",
        "      mse_vals.append(np.mean(array_abs_diff[:i+1]))\n",
        "  return mse_vals"
      ],
      "metadata": {
        "id": "JRNB8abzC0Po"
      },
      "execution_count": 69,
      "outputs": []
    },
    {
      "cell_type": "code",
      "source": [
        "## Creating the predictions and updated test dataset for both models v0 and v1\n",
        "y_pred_test_model_v0, test_data_model_v0 = forecast_ahead_12(model_v0,data_lagged_test_x_imp)\n",
        "y_pred_test_model_v1, test_data_model_v1 = forecast_ahead_12(model_v1,data_lagged_test_x_imp)"
      ],
      "metadata": {
        "id": "LDW6THDV_evt"
      },
      "execution_count": 70,
      "outputs": []
    },
    {
      "cell_type": "code",
      "source": [
        "## MSE for model v0 and MSE for model v1\n",
        "mse_model_v0 = mse_horizons(data_lagged_test_y,y_pred_test_model_v0)\n",
        "mse_model_v1 = mse_horizons(data_lagged_test_y,y_pred_test_model_v1)"
      ],
      "metadata": {
        "id": "xxhAfQQdM-Rm"
      },
      "execution_count": 71,
      "outputs": []
    },
    {
      "cell_type": "code",
      "source": [
        "import matplotlib.pyplot as plt\n",
        "plt.plot(date_test,mse_model_v0, label= 'v0')\n",
        "plt.plot(date_test,mse_model_v1, label = 'v1')\n",
        "plt.xticks(date_test)\n",
        "plt.legend()\n",
        "plt.show()"
      ],
      "metadata": {
        "colab": {
          "base_uri": "https://localhost:8080/",
          "height": 276
        },
        "id": "xtKxbByCmLDG",
        "outputId": "7ee6e3c9-e887-4392-8a76-2b6ba1760137"
      },
      "execution_count": 72,
      "outputs": [
        {
          "output_type": "display_data",
          "data": {
            "text/plain": [
              "<Figure size 432x288 with 1 Axes>"
            ],
            "image/png": "[encoded data removed]"
          },
          "metadata": {
            "needs_background": "light"
          }
        }
      ]
    },
    {
      "cell_type": "markdown",
      "source": [
        "#### Using the same data in the first row for everything in non CPI lags (i.e using december 2021 data for Jan- Dec 2022 preds)"
      ],
      "metadata": {
        "id": "W4x8PoXOFbvz"
      }
    },
    {
      "cell_type": "code",
      "source": [
        "def forecast_ahead_12_fixed_lag_vals(model_fc, test_data_og):\n",
        "  test_data = test_data_og.copy(deep = True)\n",
        "  test_data.reset_index(drop=True, inplace = True)\n",
        "  CPI_lags_cols = ['CPIAUCSL_1','CPIAUCSL_2','CPIAUCSL_3']\n",
        "  ## Split data in CPI and non CPI\n",
        "  df_non_CPI = test_data.drop(columns=CPI_lags_cols)\n",
        "  df_non_CPI_fixed_lags_vals = pd.concat(([df_non_CPI.iloc[[0]]])*12,ignore_index=True)\n",
        "  df_CPI = test_data[CPI_lags_cols]\n",
        "  test_data = pd.concat([df_CPI.reset_index(drop=True), df_non_CPI_fixed_lags_vals.reset_index(drop=True)], axis= 1)\n",
        "  test_data = test_data[test_data_og.columns]\n",
        "\n",
        "  y_pred_test = []\n",
        "  for i in range(12):\n",
        "    y = model_fc.predict(test_data.iloc[[i]])\n",
        "    y_pred_test.append(y)\n",
        "    prev_CPI_2 = test_data.loc[i]['CPIAUCSL_2']\n",
        "    prev_CPI_1 = test_data.loc[i]['CPIAUCSL_1']\n",
        "    if i < 11:\n",
        "        test_data.loc[i+1]['CPIAUCSL_1'] = y\n",
        "        test_data.loc[i+1]['CPIAUCSL_2'] = prev_CPI_1\n",
        "        test_data.loc[i+1]['CPIAUCSL_3'] = prev_CPI_2\n",
        "  ##flatten y_pred_test\n",
        "  y_pred_test = np.ravel(y_pred_test)\n",
        "\n",
        "  return y_pred_test, test_data"
      ],
      "metadata": {
        "id": "OL9E5km8GBX4"
      },
      "execution_count": 126,
      "outputs": []
    },
    {
      "cell_type": "code",
      "source": [
        "## Creating the predictions and updated test dataset for both models v0 and v1\n",
        "y_pred_test_model_v0_flv, test_data_model_v0_flv = forecast_ahead_12_fixed_lag_vals(model_v0,data_lagged_test_x_imp)\n",
        "y_pred_test_model_v1_flv, test_data_model_v1_flv = forecast_ahead_12_fixed_lag_vals(model_v1,data_lagged_test_x_imp)"
      ],
      "metadata": {
        "id": "s0JUpUVUJNxI"
      },
      "execution_count": 127,
      "outputs": []
    },
    {
      "cell_type": "code",
      "source": [
        "mse_model_v0_flv = mse_horizons(data_lagged_test_y,y_pred_test_model_v0_flv)\n",
        "mse_model_v1_flv = mse_horizons(data_lagged_test_y,y_pred_test_model_v1_flv)"
      ],
      "metadata": {
        "id": "HYEBjhAaKSTi"
      },
      "execution_count": 128,
      "outputs": []
    },
    {
      "cell_type": "code",
      "source": [
        "import matplotlib.pyplot as plt\n",
        "plt.plot(date_test,mse_model_v0_flv, label= 'v0_flv')\n",
        "plt.plot(date_test,mse_model_v1_flv, label = 'v1_flv')\n",
        "plt.plot(date_test,mse_model_v1, label = 'v1')\n",
        "plt.plot(date_test,mse_model_v0, label = 'v0')\n",
        "plt.xticks(date_test)\n",
        "plt.legend()\n",
        "plt.show()"
      ],
      "metadata": {
        "colab": {
          "base_uri": "https://localhost:8080/",
          "height": 276
        },
        "id": "kYjOZtSDKY1h",
        "outputId": "d2c07c74-e3c3-4a39-dd9e-1f31c21c0c1e"
      },
      "execution_count": 134,
      "outputs": [
        {
          "output_type": "display_data",
          "data": {
            "text/plain": [
              "<Figure size 432x288 with 1 Axes>"
            ],
            "image/png": "[encoded data removed]"
          },
          "metadata": {
            "needs_background": "light"
          }
        }
      ]
    },
    {
      "cell_type": "markdown",
      "source": [
        "##Using model V1 as from now on for rest of analysis"
      ],
      "metadata": {
        "id": "autQPecay7fC"
      }
    },
    {
      "cell_type": "code",
      "source": [
        "from sklearn.inspection import permutation_importance\n",
        "r = permutation_importance(model_v1, test_data_model_v1, data_lagged_test_y, scoring = 'neg_mean_squared_error',\n",
        "                           n_repeats=5,\n",
        "                          random_state=0)\n",
        "perm = pd.DataFrame(columns=['AVG_Importance'], index=[i for i in model_v1.feature_names_in_])\n",
        "perm['AVG_Importance'] = r.importances_mean\n"
      ],
      "metadata": {
        "id": "7NguB95iurkU"
      },
      "execution_count": 113,
      "outputs": []
    },
    {
      "cell_type": "code",
      "source": [
        "perm = pd.DataFrame(columns=['AVG_Importance'], index=[i for i in model_v1.feature_names_in_])\n",
        "perm['AVG_Importance'] = abs(r.importances_mean)"
      ],
      "metadata": {
        "id": "ybIL6MOKvyDQ"
      },
      "execution_count": 115,
      "outputs": []
    },
    {
      "cell_type": "code",
      "source": [
        "perm.sort_values(by = ['AVG_Importance'],ascending= False, inplace= True)\n",
        "\n"
      ],
      "metadata": {
        "colab": {
          "base_uri": "https://localhost:8080/",
          "height": 423
        },
        "id": "jUt9cAlY5JFB",
        "outputId": "9e1baf49-98f0-4f6f-dd2b-b58c5aa5cbeb"
      },
      "execution_count": 117,
      "outputs": [
        {
          "output_type": "execute_result",
          "data": {
            "text/plain": [
              "                   AVG_Importance\n",
              "M2REAL_1             1.537418e-06\n",
              "OILPRICEx_1          1.516329e-06\n",
              "PCEPI_1              9.401411e-07\n",
              "WPSID61_1            5.023498e-07\n",
              "DNDGRG3M086SBEA_1    3.107797e-07\n",
              "...                           ...\n",
              "BAAFFM_2             0.000000e+00\n",
              "AWHMAN_3             0.000000e+00\n",
              "T10YFFM_2            0.000000e+00\n",
              "TB3SMFFM_1           0.000000e+00\n",
              "T10YFFM_3            0.000000e+00\n",
              "\n",
              "[345 rows x 1 columns]"
            ],
            "text/html": [
              "\n",
              "  <div id=\"df-2f3cf8ea-0004-462e-b4cb-cc7a387541c9\">\n",
              "    <div class=\"colab-df-container\">\n",
              "      <div>\n",
              "<style scoped>\n",
              "    .dataframe tbody tr th:only-of-type {\n",
              "        vertical-align: middle;\n",
              "    }\n",
              "\n",
              "    .dataframe tbody tr th {\n",
              "        vertical-align: top;\n",
              "    }\n",
              "\n",
              "    .dataframe thead th {\n",
              "        text-align: right;\n",
              "    }\n",
              "</style>\n",
              "<table border=\"1\" class=\"dataframe\">\n",
              "  <thead>\n",
              "    <tr style=\"text-align: right;\">\n",
              "      <th></th>\n",
              "      <th>AVG_Importance</th>\n",
              "    </tr>\n",
              "  </thead>\n",
              "  <tbody>\n",
              "    <tr>\n",
              "      <th>M2REAL_1</th>\n",
              "      <td>1.537418e-06</td>\n",
              "    </tr>\n",
              "    <tr>\n",
              "      <th>OILPRICEx_1</th>\n",
              "      <td>1.516329e-06</td>\n",
              "    </tr>\n",
              "    <tr>\n",
              "      <th>PCEPI_1</th>\n",
              "      <td>9.401411e-07</td>\n",
              "    </tr>\n",
              "    <tr>\n",
              "      <th>WPSID61_1</th>\n",
              "      <td>5.023498e-07</td>\n",
              "    </tr>\n",
              "    <tr>\n",
              "      <th>DNDGRG3M086SBEA_1</th>\n",
              "      <td>3.107797e-07</td>\n",
              "    </tr>\n",
              "    <tr>\n",
              "      <th>...</th>\n",
              "      <td>...</td>\n",
              "    </tr>\n",
              "    <tr>\n",
              "      <th>BAAFFM_2</th>\n",
              "      <td>0.000000e+00</td>\n",
              "    </tr>\n",
              "    <tr>\n",
              "      <th>AWHMAN_3</th>\n",
              "      <td>0.000000e+00</td>\n",
              "    </tr>\n",
              "    <tr>\n",
              "      <th>T10YFFM_2</th>\n",
              "      <td>0.000000e+00</td>\n",
              "    </tr>\n",
              "    <tr>\n",
              "      <th>TB3SMFFM_1</th>\n",
              "      <td>0.000000e+00</td>\n",
              "    </tr>\n",
              "    <tr>\n",
              "      <th>T10YFFM_3</th>\n",
              "      <td>0.000000e+00</td>\n",
              "    </tr>\n",
              "  </tbody>\n",
              "</table>\n",
              "<p>345 rows × 1 columns</p>\n",
              "</div>\n",
              "      <button class=\"colab-df-convert\" onclick=\"convertToInteractive('df-2f3cf8ea-0004-462e-b4cb-cc7a387541c9')\"\n",
              "              title=\"Convert this dataframe to an interactive table.\"\n",
              "              style=\"display:none;\">\n",
              "        \n",
              "  <svg xmlns=\"http://www.w3.org/2000/svg\" height=\"24px\"viewBox=\"0 0 24 24\"\n",
              "       width=\"24px\">\n",
              "    <path d=\"M0 0h24v24H0V0z\" fill=\"none\"/>\n",
              "    <path d=\"M18.56 5.44l.94 2.06.94-2.06 2.06-.94-2.06-.94-.94-2.06-.94 2.06-2.06.94zm-11 1L8.5 8.5l.94-2.06 2.06-.94-2.06-.94L8.5 2.5l-.94 2.06-2.06.94zm10 10l.94 2.06.94-2.06 2.06-.94-2.06-.94-.94-2.06-.94 2.06-2.06.94z\"/><path d=\"M17.41 7.96l-1.37-1.37c-.4-.4-.92-.59-1.43-.59-.52 0-1.04.2-1.43.59L10.3 9.45l-7.72 7.72c-.78.78-.78 2.05 0 2.83L4 21.41c.39.39.9.59 1.41.59.51 0 1.02-.2 1.41-.59l7.78-7.78 2.81-2.81c.8-.78.8-2.07 0-2.86zM5.41 20L4 18.59l7.72-7.72 1.47 1.35L5.41 20z\"/>\n",
              "  </svg>\n",
              "      </button>\n",
              "      \n",
              "  <style>\n",
              "    .colab-df-container {\n",
              "      display:flex;\n",
              "      flex-wrap:wrap;\n",
              "      gap: 12px;\n",
              "    }\n",
              "\n",
              "    .colab-df-convert {\n",
              "      background-color: #E8F0FE;\n",
              "      border: none;\n",
              "      border-radius: 50%;\n",
              "      cursor: pointer;\n",
              "      display: none;\n",
              "      fill: #1967D2;\n",
              "      height: 32px;\n",
              "      padding: 0 0 0 0;\n",
              "      width: 32px;\n",
              "    }\n",
              "\n",
              "    .colab-df-convert:hover {\n",
              "      background-color: #E2EBFA;\n",
              "      box-shadow: 0px 1px 2px rgba(60, 64, 67, 0.3), 0px 1px 3px 1px rgba(60, 64, 67, 0.15);\n",
              "      fill: #174EA6;\n",
              "    }\n",
              "\n",
              "    [theme=dark] .colab-df-convert {\n",
              "      background-color: #3B4455;\n",
              "      fill: #D2E3FC;\n",
              "    }\n",
              "\n",
              "    [theme=dark] .colab-df-convert:hover {\n",
              "      background-color: #434B5C;\n",
              "      box-shadow: 0px 1px 3px 1px rgba(0, 0, 0, 0.15);\n",
              "      filter: drop-shadow(0px 1px 2px rgba(0, 0, 0, 0.3));\n",
              "      fill: #FFFFFF;\n",
              "    }\n",
              "  </style>\n",
              "\n",
              "      <script>\n",
              "        const buttonEl =\n",
              "          document.querySelector('#df-2f3cf8ea-0004-462e-b4cb-cc7a387541c9 button.colab-df-convert');\n",
              "        buttonEl.style.display =\n",
              "          google.colab.kernel.accessAllowed ? 'block' : 'none';\n",
              "\n",
              "        async function convertToInteractive(key) {\n",
              "          const element = document.querySelector('#df-2f3cf8ea-0004-462e-b4cb-cc7a387541c9');\n",
              "          const dataTable =\n",
              "            await google.colab.kernel.invokeFunction('convertToInteractive',\n",
              "                                                     [key], {});\n",
              "          if (!dataTable) return;\n",
              "\n",
              "          const docLinkHtml = 'Like what you see? Visit the ' +\n",
              "            '<a target=\"_blank\" href=https://colab.research.google.com/notebooks/data_table.ipynb>data table notebook</a>'\n",
              "            + ' to learn more about interactive tables.';\n",
              "          element.innerHTML = '';\n",
              "          dataTable['output_type'] = 'display_data';\n",
              "          await google.colab.output.renderOutput(dataTable, element);\n",
              "          const docLink = document.createElement('div');\n",
              "          docLink.innerHTML = docLinkHtml;\n",
              "          element.appendChild(docLink);\n",
              "        }\n",
              "      </script>\n",
              "    </div>\n",
              "  </div>\n",
              "  "
            ]
          },
          "metadata": {},
          "execution_count": 117
        }
      ]
    },
    {
      "cell_type": "code",
      "source": [],
      "metadata": {
        "id": "i0WlmXHoMCXI"
      },
      "execution_count": null,
      "outputs": []
    }
  ]
}