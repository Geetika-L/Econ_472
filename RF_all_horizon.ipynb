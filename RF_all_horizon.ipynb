{
 "cells": [
  {
   "cell_type": "markdown",
   "metadata": {
    "colab_type": "text",
    "id": "view-in-github"
   },
   "source": [
    "<a href=\"https://colab.research.google.com/github/Geetika-L/Econ_472/blob/dev/Econ_472_RF.ipynb\" target=\"_parent\"><img src=\"https://colab.research.google.com/assets/colab-badge.svg\" alt=\"Open In Colab\"/></a>"
   ]
  },
  {
   "cell_type": "code",
   "execution_count": 1,
   "metadata": {
    "id": "hrQQivPRAFbO"
   },
   "outputs": [],
   "source": [
    "import pandas as pd"
   ]
  },
  {
   "cell_type": "code",
   "execution_count": 2,
   "metadata": {
    "colab": {
     "base_uri": "https://localhost:8080/"
    },
    "id": "CgH6hdrlGgiy",
    "outputId": "c8cbc22a-de09-44dc-f265-b0132f1af78b"
   },
   "outputs": [
    {
     "name": "stdout",
     "output_type": "stream",
     "text": [
      "Requirement already satisfied: scikit-optimize in /mnt/storage/home/gluchun/.local/lib/python3.10/site-packages (0.9.0)\n",
      "Requirement already satisfied: pyaml>=16.9 in /mnt/storage/home/gluchun/.local/lib/python3.10/site-packages (from scikit-optimize) (21.10.1)\n",
      "Requirement already satisfied: numpy>=1.13.3 in /mnt/storage/home/gluchun/.local/lib/python3.10/site-packages (from scikit-optimize) (1.22.4)\n",
      "Requirement already satisfied: scikit-learn>=0.20.0 in /mnt/storage/home/gluchun/.local/lib/python3.10/site-packages (from scikit-optimize) (1.2.1)\n",
      "Requirement already satisfied: scipy>=0.19.1 in /mnt/storage/home/gluchun/.local/lib/python3.10/site-packages (from scikit-optimize) (1.10.1)\n",
      "Requirement already satisfied: joblib>=0.11 in /mnt/storage/home/gluchun/.local/lib/python3.10/site-packages (from scikit-optimize) (1.2.0)\n",
      "Requirement already satisfied: PyYAML in /srv/jupyter_python3-extra/lib/python3.10/site-packages (from pyaml>=16.9->scikit-optimize) (6.0)\n",
      "Requirement already satisfied: threadpoolctl>=2.0.0 in /mnt/storage/home/gluchun/.local/lib/python3.10/site-packages (from scikit-learn>=0.20.0->scikit-optimize) (3.1.0)\n",
      "Requirement already satisfied: scikit-learn==1.2.1 in /mnt/storage/home/gluchun/.local/lib/python3.10/site-packages (1.2.1)\n",
      "Requirement already satisfied: threadpoolctl>=2.0.0 in /mnt/storage/home/gluchun/.local/lib/python3.10/site-packages (from scikit-learn==1.2.1) (3.1.0)\n",
      "Requirement already satisfied: scipy>=1.3.2 in /mnt/storage/home/gluchun/.local/lib/python3.10/site-packages (from scikit-learn==1.2.1) (1.10.1)\n",
      "Requirement already satisfied: joblib>=1.1.1 in /mnt/storage/home/gluchun/.local/lib/python3.10/site-packages (from scikit-learn==1.2.1) (1.2.0)\n",
      "Requirement already satisfied: numpy>=1.17.3 in /mnt/storage/home/gluchun/.local/lib/python3.10/site-packages (from scikit-learn==1.2.1) (1.22.4)\n",
      "Requirement already satisfied: numpy==1.22.4 in /mnt/storage/home/gluchun/.local/lib/python3.10/site-packages (1.22.4)\n",
      "Requirement already satisfied: shap in /mnt/storage/home/gluchun/.local/lib/python3.10/site-packages (0.41.0)\n",
      "Requirement already satisfied: numba in /srv/jupyter_python3-extra/lib/python3.10/site-packages (from shap) (0.56.2)\n",
      "Requirement already satisfied: pandas in /srv/jupyter_python3-extra/lib/python3.10/site-packages (from shap) (1.4.4)\n",
      "Requirement already satisfied: cloudpickle in /mnt/storage/home/gluchun/.local/lib/python3.10/site-packages (from shap) (2.2.1)\n",
      "Requirement already satisfied: packaging>20.9 in /srv/jupyter_python3-extra/lib/python3.10/site-packages (from shap) (21.3)\n",
      "Requirement already satisfied: scipy in /mnt/storage/home/gluchun/.local/lib/python3.10/site-packages (from shap) (1.10.1)\n",
      "Requirement already satisfied: numpy in /mnt/storage/home/gluchun/.local/lib/python3.10/site-packages (from shap) (1.22.4)\n",
      "Requirement already satisfied: slicer==0.0.7 in /mnt/storage/home/gluchun/.local/lib/python3.10/site-packages (from shap) (0.0.7)\n",
      "Requirement already satisfied: scikit-learn in /mnt/storage/home/gluchun/.local/lib/python3.10/site-packages (from shap) (1.2.1)\n",
      "Requirement already satisfied: tqdm>4.25.0 in /srv/jupyter_python3-extra/lib/python3.10/site-packages (from shap) (4.64.0)\n",
      "Requirement already satisfied: pyparsing!=3.0.5,>=2.0.2 in /srv/jupyter_python3-extra/lib/python3.10/site-packages (from packaging>20.9->shap) (3.0.9)\n",
      "Requirement already satisfied: llvmlite<0.40,>=0.39.0dev0 in /srv/jupyter_python3-extra/lib/python3.10/site-packages (from numba->shap) (0.39.1)\n",
      "Requirement already satisfied: setuptools<60 in /srv/jupyter_python3-extra/lib/python3.10/site-packages (from numba->shap) (59.8.0)\n",
      "Requirement already satisfied: python-dateutil>=2.8.1 in /srv/jupyter_python3-extra/lib/python3.10/site-packages (from pandas->shap) (2.8.2)\n",
      "Requirement already satisfied: pytz>=2020.1 in /srv/jupyter_python3-extra/lib/python3.10/site-packages (from pandas->shap) (2022.2.1)\n",
      "Requirement already satisfied: joblib>=1.1.1 in /mnt/storage/home/gluchun/.local/lib/python3.10/site-packages (from scikit-learn->shap) (1.2.0)\n",
      "Requirement already satisfied: threadpoolctl>=2.0.0 in /mnt/storage/home/gluchun/.local/lib/python3.10/site-packages (from scikit-learn->shap) (3.1.0)\n",
      "Requirement already satisfied: six>=1.5 in /srv/jupyter_python3-extra/lib/python3.10/site-packages (from python-dateutil>=2.8.1->pandas->shap) (1.16.0)\n"
     ]
    }
   ],
   "source": [
    "!pip install scikit-optimize --user\n",
    "!pip install scikit-learn==1.2.1 --user\n",
    "!pip install numpy==1.22.4 --user\n",
    "!pip install shap --user"
   ]
  },
  {
   "cell_type": "code",
   "execution_count": 3,
   "metadata": {
    "id": "wHC0gmmHisGi"
   },
   "outputs": [],
   "source": [
    "data_v1 = pd.read_csv('fred_data_trans_v1.csv')"
   ]
  },
  {
   "cell_type": "code",
   "execution_count": 4,
   "metadata": {},
   "outputs": [],
   "source": [
    "current = pd.read_csv('current.csv')"
   ]
  },
  {
   "cell_type": "code",
   "execution_count": 5,
   "metadata": {},
   "outputs": [],
   "source": [
    "## Replace CPI transformation by CPI_yoy growth\n",
    "CPI = current['CPIAUCSL'][1:]\n",
    "CPI_yoy = CPI.pct_change(periods=12)*100\n",
    "data_v1['pi'] = CPI_yoy[12:].reset_index(drop=True)"
   ]
  },
  {
   "cell_type": "code",
   "execution_count": 6,
   "metadata": {
    "id": "RZVegg45YPQX"
   },
   "outputs": [],
   "source": [
    "percent_missing = list(data_v1.isna().sum()/(data_v1.shape[0]))\n",
    "missing_value_df = pd.DataFrame({'column_name': data_v1.columns,\n",
    "                                 'percent_missing': percent_missing})"
   ]
  },
  {
   "cell_type": "code",
   "execution_count": 7,
   "metadata": {
    "id": "eYaCg3u5bCGF"
   },
   "outputs": [],
   "source": [
    "## Prportion of columns that have high NAs\n",
    "missing_value_df_01 = missing_value_df.loc[missing_value_df['percent_missing']>0.1]\n",
    "## Higher than 0.1 (ACOGNO:New Orders for Consumer Goods, ANDENOx: New Orders for Nondefense Capital Goods,  TWEXAFEGSMTHx: Trade weighted us dollar index)"
   ]
  },
  {
   "cell_type": "code",
   "execution_count": 8,
   "metadata": {},
   "outputs": [],
   "source": [
    "## Remove high proportion of NAs\n",
    "col_to_rem_NA = missing_value_df_01['column_name'].tolist()\n",
    "data_v1.drop(col_to_rem_NA, axis =1, inplace= True)\n"
   ]
  },
  {
   "cell_type": "code",
   "execution_count": 9,
   "metadata": {
    "id": "kE0rv2_Czcvh"
   },
   "outputs": [],
   "source": [
    "## Remove all CPI columns. CPI all items has been transformed in inflation\n",
    "cpis_except_all_items = ['CPIAUCSL','CPIAPPSL', 'CPITRNSL', 'CPIMEDSL', 'CUSR0000SAC', 'CUSR0000SAD', 'CUSR0000SAS', 'CPIULFSL', 'CUSR0000SA0L2', 'CUSR0000SA0L5']\n",
    "data_v1.drop(cpis_except_all_items, axis =1, inplace= True)\n"
   ]
  },
  {
   "cell_type": "code",
   "execution_count": 10,
   "metadata": {},
   "outputs": [],
   "source": [
    "date_col = data_v1['date']"
   ]
  },
  {
   "cell_type": "code",
   "execution_count": 11,
   "metadata": {
    "id": "sU69qXz_2bGB"
   },
   "outputs": [],
   "source": [
    "## Remove the date column\n",
    "data_v1.drop('date', axis =1, inplace= True)"
   ]
  },
  {
   "cell_type": "code",
   "execution_count": 12,
   "metadata": {
    "id": "NM1EPz-q9Lcv"
   },
   "outputs": [],
   "source": [
    "## Creating lag and AR variables\n",
    "def series_to_supervised(data, n_in=1, n_out=[1,3,6,12]):\n",
    " \"\"\"\n",
    " Frame a time series as a supervised learning dataset.\n",
    " Arguments:\n",
    " data: Sequence of observations as a list or NumPy array.\n",
    " n_in: Number of lag observations as input (X).\n",
    " n_out: Number of observations as output (y).\n",
    " dropnan: Boolean whether or not to drop rows with NaN values.\n",
    " Returns:\n",
    " Pandas DataFrame of series framed for supervised learning.\n",
    " \"\"\"\n",
    "\n",
    " n_vars = 1 if type(data.values) is list else data.shape[1]\n",
    " colnames = list(data.columns)\n",
    " cols, names = list(), list()\n",
    " # input sequence (t-n, ... t-1)\n",
    " for i in range(n_in, 0, -1):\n",
    "   cols.append(data.shift(i))\n",
    "   names += [j+\"_(t-{0})\".format(i) for j in colnames]\n",
    " for i in n_out:   \n",
    "     pi_shift = data['pi'].shift(-i+1)\n",
    "     cols.append(pi_shift)\n",
    "     names += ['pi_(t+{0})'.format(i-1)]\n",
    "\n",
    " # put it all together\n",
    " agg = pd.concat(cols, axis=1)\n",
    " agg.columns = names\n",
    " return agg"
   ]
  },
  {
   "cell_type": "code",
   "execution_count": 13,
   "metadata": {
    "id": "K1X3naXuqZZ_"
   },
   "outputs": [],
   "source": [
    "data_lagged = series_to_supervised(data_v1,n_in=3, n_out = [1,3,6,12])"
   ]
  },
  {
   "cell_type": "code",
   "execution_count": 14,
   "metadata": {
    "id": "tWr5cQg7qtIk"
   },
   "outputs": [],
   "source": [
    "data_lagged_sorted = data_lagged.reindex(sorted(data_lagged.columns), axis=1)"
   ]
  },
  {
   "cell_type": "code",
   "execution_count": 15,
   "metadata": {
    "id": "C3W73NborKmI"
   },
   "outputs": [],
   "source": [
    "data_lagged_sorted.to_csv('data_lagged_all_horizons.csv')"
   ]
  },
  {
   "cell_type": "code",
   "execution_count": 15,
   "metadata": {},
   "outputs": [
    {
     "data": {
      "text/plain": [
       "(756, 349)"
      ]
     },
     "execution_count": 15,
     "metadata": {},
     "output_type": "execute_result"
    }
   ],
   "source": [
    "data_lagged.shape"
   ]
  },
  {
   "cell_type": "code",
   "execution_count": 16,
   "metadata": {
    "id": "RYcMtE7a8S_f"
   },
   "outputs": [],
   "source": [
    "## Remove missing lags ( 3 at the beginning, 5 at the end)\n",
    "## Stop training set at December 2020 (with lags last row is Nov 2020 - Oct 2020)\n",
    "## The rest - NAns are test set\n",
    "\n",
    "##Create a date index\n",
    "start_date = pd.to_datetime('12-1959', format='%m-%Y')\n",
    "end_date = pd.to_datetime('11-2022', format='%m-%Y')\n",
    "date_list = list(map(lambda x: x.strftime('%Y-%m-%d'), pd.date_range(start_date, end_date, freq=\"MS\")))\n",
    "data_lagged.set_index(pd.Series(date_list), inplace=True)"
   ]
  },
  {
   "cell_type": "code",
   "execution_count": 17,
   "metadata": {},
   "outputs": [],
   "source": [
    "## Create train and test sets - T1\n",
    "#columns_x = data_lagged.columns.drop(['pi_(t+0)','pi_(t+2)', 'pi_(t+5)', 'pi_(t+11)'])\n",
    "\n",
    "data_lagged_train_x = data_lagged.loc['1960-03-01':'2020-11-01', :].drop(['pi_(t+0)','pi_(t+2)', 'pi_(t+5)', 'pi_(t+11)'], axis=1)\n",
    "\n",
    "data_lagged_test_t1 = data_lagged.loc['2020-12-01':, ]#.drop(['pi_(t+2)', 'pi_(t+5)', 'pi_(t+11)'], axis =1)\n",
    "data_lagged_test_t1 = data_lagged_test_t1[data_lagged_test_t1['pi_(t+0)'].notna()]\n",
    "data_lagged_test_x_t1 = data_lagged_test_t1.drop(['pi_(t+0)','pi_(t+2)', 'pi_(t+5)', 'pi_(t+11)'], axis =1)\n",
    "data_lagged_test_y_t1 =  data_lagged_test_t1['pi_(t+0)']"
   ]
  },
  {
   "cell_type": "code",
   "execution_count": 18,
   "metadata": {},
   "outputs": [],
   "source": [
    "## Create train and test sets - T3\n",
    "\n",
    "data_lagged_test_t3 = data_lagged.loc['2020-12-01':, ]#.drop(['pi_(t+2)', 'pi_(t+5)', 'pi_(t+11)'], axis =1)\n",
    "data_lagged_test_t3 = data_lagged_test_t3[data_lagged_test_t3['pi_(t+2)'].notna()]\n",
    "data_lagged_test_x_t3 = data_lagged_test_t3.drop(['pi_(t+0)','pi_(t+2)', 'pi_(t+5)', 'pi_(t+11)'], axis =1)\n",
    "data_lagged_test_y_t3 =  data_lagged_test_t3['pi_(t+2)']"
   ]
  },
  {
   "cell_type": "code",
   "execution_count": 19,
   "metadata": {},
   "outputs": [],
   "source": [
    "## Create train and test sets - T6\n",
    "\n",
    "data_lagged_test_t6 = data_lagged.loc['2020-12-01':, ]#.drop(['pi_(t+2)', 'pi_(t+5)', 'pi_(t+11)'], axis =1)\n",
    "data_lagged_test_t6 = data_lagged_test_t6[data_lagged_test_t6['pi_(t+5)'].notna()]\n",
    "data_lagged_test_x_t6 = data_lagged_test_t6.drop(['pi_(t+0)','pi_(t+2)', 'pi_(t+5)', 'pi_(t+11)'], axis =1)\n",
    "data_lagged_test_y_t6 =  data_lagged_test_t6['pi_(t+5)']"
   ]
  },
  {
   "cell_type": "code",
   "execution_count": 20,
   "metadata": {},
   "outputs": [],
   "source": [
    "## Create train and test sets - T12\n",
    "\n",
    "data_lagged_test_t12 = data_lagged.loc['2020-12-01':, ]#.drop(['pi_(t+2)', 'pi_(t+5)', 'pi_(t+11)'], axis =1)\n",
    "data_lagged_test_t12 = data_lagged_test_t12[data_lagged_test_t12['pi_(t+11)'].notna()]\n",
    "data_lagged_test_x_t12= data_lagged_test_t12.drop(['pi_(t+0)','pi_(t+2)', 'pi_(t+5)', 'pi_(t+11)'], axis =1)\n",
    "data_lagged_test_y_t12 =  data_lagged_test_t12['pi_(t+11)']"
   ]
  },
  {
   "cell_type": "code",
   "execution_count": 21,
   "metadata": {
    "colab": {
     "base_uri": "https://localhost:8080/",
     "height": 74
    },
    "id": "UReYwjKvzveS",
    "outputId": "eb2d132a-6af5-41ba-e3a4-efc5f42ebbfe"
   },
   "outputs": [
    {
     "data": {
      "text/html": [
       "<style>#sk-container-id-1 {color: black;background-color: white;}#sk-container-id-1 pre{padding: 0;}#sk-container-id-1 div.sk-toggleable {background-color: white;}#sk-container-id-1 label.sk-toggleable__label {cursor: pointer;display: block;width: 100%;margin-bottom: 0;padding: 0.3em;box-sizing: border-box;text-align: center;}#sk-container-id-1 label.sk-toggleable__label-arrow:before {content: \"▸\";float: left;margin-right: 0.25em;color: #696969;}#sk-container-id-1 label.sk-toggleable__label-arrow:hover:before {color: black;}#sk-container-id-1 div.sk-estimator:hover label.sk-toggleable__label-arrow:before {color: black;}#sk-container-id-1 div.sk-toggleable__content {max-height: 0;max-width: 0;overflow: hidden;text-align: left;background-color: #f0f8ff;}#sk-container-id-1 div.sk-toggleable__content pre {margin: 0.2em;color: black;border-radius: 0.25em;background-color: #f0f8ff;}#sk-container-id-1 input.sk-toggleable__control:checked~div.sk-toggleable__content {max-height: 200px;max-width: 100%;overflow: auto;}#sk-container-id-1 input.sk-toggleable__control:checked~label.sk-toggleable__label-arrow:before {content: \"▾\";}#sk-container-id-1 div.sk-estimator input.sk-toggleable__control:checked~label.sk-toggleable__label {background-color: #d4ebff;}#sk-container-id-1 div.sk-label input.sk-toggleable__control:checked~label.sk-toggleable__label {background-color: #d4ebff;}#sk-container-id-1 input.sk-hidden--visually {border: 0;clip: rect(1px 1px 1px 1px);clip: rect(1px, 1px, 1px, 1px);height: 1px;margin: -1px;overflow: hidden;padding: 0;position: absolute;width: 1px;}#sk-container-id-1 div.sk-estimator {font-family: monospace;background-color: #f0f8ff;border: 1px dotted black;border-radius: 0.25em;box-sizing: border-box;margin-bottom: 0.5em;}#sk-container-id-1 div.sk-estimator:hover {background-color: #d4ebff;}#sk-container-id-1 div.sk-parallel-item::after {content: \"\";width: 100%;border-bottom: 1px solid gray;flex-grow: 1;}#sk-container-id-1 div.sk-label:hover label.sk-toggleable__label {background-color: #d4ebff;}#sk-container-id-1 div.sk-serial::before {content: \"\";position: absolute;border-left: 1px solid gray;box-sizing: border-box;top: 0;bottom: 0;left: 50%;z-index: 0;}#sk-container-id-1 div.sk-serial {display: flex;flex-direction: column;align-items: center;background-color: white;padding-right: 0.2em;padding-left: 0.2em;position: relative;}#sk-container-id-1 div.sk-item {position: relative;z-index: 1;}#sk-container-id-1 div.sk-parallel {display: flex;align-items: stretch;justify-content: center;background-color: white;position: relative;}#sk-container-id-1 div.sk-item::before, #sk-container-id-1 div.sk-parallel-item::before {content: \"\";position: absolute;border-left: 1px solid gray;box-sizing: border-box;top: 0;bottom: 0;left: 50%;z-index: -1;}#sk-container-id-1 div.sk-parallel-item {display: flex;flex-direction: column;z-index: 1;position: relative;background-color: white;}#sk-container-id-1 div.sk-parallel-item:first-child::after {align-self: flex-end;width: 50%;}#sk-container-id-1 div.sk-parallel-item:last-child::after {align-self: flex-start;width: 50%;}#sk-container-id-1 div.sk-parallel-item:only-child::after {width: 0;}#sk-container-id-1 div.sk-dashed-wrapped {border: 1px dashed gray;margin: 0 0.4em 0.5em 0.4em;box-sizing: border-box;padding-bottom: 0.4em;background-color: white;}#sk-container-id-1 div.sk-label label {font-family: monospace;font-weight: bold;display: inline-block;line-height: 1.2em;}#sk-container-id-1 div.sk-label-container {text-align: center;}#sk-container-id-1 div.sk-container {/* jupyter's `normalize.less` sets `[hidden] { display: none; }` but bootstrap.min.css set `[hidden] { display: none !important; }` so we also need the `!important` here to be able to override the default hidden behavior on the sphinx rendered scikit-learn.org. See: https://github.com/scikit-learn/scikit-learn/issues/21755 */display: inline-block !important;position: relative;}#sk-container-id-1 div.sk-text-repr-fallback {display: none;}</style><div id=\"sk-container-id-1\" class=\"sk-top-container\"><div class=\"sk-text-repr-fallback\"><pre>SimpleImputer()</pre><b>In a Jupyter environment, please rerun this cell to show the HTML representation or trust the notebook. <br />On GitHub, the HTML representation is unable to render, please try loading this page with nbviewer.org.</b></div><div class=\"sk-container\" hidden><div class=\"sk-item\"><div class=\"sk-estimator sk-toggleable\"><input class=\"sk-toggleable__control sk-hidden--visually\" id=\"sk-estimator-id-1\" type=\"checkbox\" checked><label for=\"sk-estimator-id-1\" class=\"sk-toggleable__label sk-toggleable__label-arrow\">SimpleImputer</label><div class=\"sk-toggleable__content\"><pre>SimpleImputer()</pre></div></div></div></div></div>"
      ],
      "text/plain": [
       "SimpleImputer()"
      ]
     },
     "execution_count": 21,
     "metadata": {},
     "output_type": "execute_result"
    }
   ],
   "source": [
    "## Getting mean of training dataset to impute\n",
    "import numpy as np\n",
    "from sklearn.impute import SimpleImputer\n",
    "\n",
    "imp = SimpleImputer(missing_values = np.nan, strategy = 'mean').set_output(transform=\"pandas\")\n",
    "imp.fit(data_lagged_train_x)"
   ]
  },
  {
   "cell_type": "code",
   "execution_count": 22,
   "metadata": {
    "id": "pPMICdCS4ovB"
   },
   "outputs": [],
   "source": [
    "##Impute training data x\n",
    "\n",
    "## impute testing data y_t1, y_t3, y_t6_, y_t2\n",
    "data_lagged_test_x_imp_t1 = imp.transform(data_lagged_test_x_t1)\n",
    "data_lagged_test_x_imp_t3 = imp.transform(data_lagged_test_x_t3)\n",
    "data_lagged_test_x_imp_t6 = imp.transform(data_lagged_test_x_t6)\n",
    "data_lagged_test_x_imp_t12 = imp.transform(data_lagged_test_x_t12)"
   ]
  },
  {
   "cell_type": "code",
   "execution_count": 23,
   "metadata": {
    "id": "FtUDXEAOZrAV"
   },
   "outputs": [],
   "source": [
    "## Import models\n",
    "from joblib import load\n",
    "\n",
    "model_t1 = load('search_v3.joblib')\n",
    "model_t3 = load('search_t3_2.joblib')\n",
    "model_t6 = load('search_t6_2.joblib')\n",
    "model_t12 = load('search_t12_2.joblib')"
   ]
  },
  {
   "cell_type": "code",
   "execution_count": 24,
   "metadata": {},
   "outputs": [],
   "source": [
    "## For t1, we need to change the colmun names\n",
    "col_names_mod_t1 = []\n",
    "\n",
    "for i in list(data_lagged_test_x_imp_t1.columns):\n",
    "    if i[:2] == 'pi':\n",
    "        col_names_mod_t1.append('CPIAUCSL_{0}'.format(i[-2]))\n",
    "    else:\n",
    "        col_names_mod_t1.append(i[:-5]+i[-2])\n",
    "        \n",
    "data_lagged_test_x_imp_t1.columns = col_names_mod_t1   \n",
    "data_lagged_test_x_imp_t1 = data_lagged_test_x_imp_t1[list(model_t1.feature_names_in_)]\n",
    "\n",
    "y_pred_t1 = model_t1.predict(data_lagged_test_x_imp_t1)"
   ]
  },
  {
   "cell_type": "code",
   "execution_count": 25,
   "metadata": {},
   "outputs": [],
   "source": [
    "## Predict t3, t,6,12\n",
    "y_pred_t3 = model_t3.predict(data_lagged_test_x_imp_t3)\n",
    "y_pred_t6 = model_t6.predict(data_lagged_test_x_imp_t6)\n",
    "y_pred_t12 = model_t12.predict(data_lagged_test_x_imp_t12)"
   ]
  },
  {
   "cell_type": "code",
   "execution_count": 26,
   "metadata": {},
   "outputs": [],
   "source": [
    "## Prediction and actual for t1 model\n",
    "df_t1_results= pd.DataFrame(data= {'actual': list(data_lagged_test_y_t1), 'predicted_t1': y_pred_t1}, index = list(map(lambda x: x.strftime('%Y-%m'), pd.date_range(pd.to_datetime('01-2021', format='%m-%Y'), pd.to_datetime('12-2022', format='%m-%Y'), freq=\"MS\"))))"
   ]
  },
  {
   "cell_type": "code",
   "execution_count": 27,
   "metadata": {},
   "outputs": [],
   "source": [
    "df_t3_results = pd.DataFrame(data= {'actual': list(data_lagged_test_y_t3), 'predicted_t3': y_pred_t3}, index = list(map(lambda x: x.strftime('%Y-%m'), pd.date_range(pd.to_datetime('03-2021', format='%m-%Y'), pd.to_datetime('12-2022', format='%m-%Y'), freq=\"MS\"))))"
   ]
  },
  {
   "cell_type": "code",
   "execution_count": 28,
   "metadata": {},
   "outputs": [],
   "source": [
    "df_t6_results = pd.DataFrame(data= {'actual': list(data_lagged_test_y_t6), 'predicted_t6': y_pred_t6}, index = list(map(lambda x: x.strftime('%Y-%m'), pd.date_range(pd.to_datetime('06-2021', format='%m-%Y'), pd.to_datetime('12-2022', format='%m-%Y'), freq=\"MS\"))))"
   ]
  },
  {
   "cell_type": "code",
   "execution_count": 29,
   "metadata": {},
   "outputs": [],
   "source": [
    "df_t12_results = pd.DataFrame(data= {'actual': list(data_lagged_test_y_t12), 'predicted_t12': y_pred_t12}, index = list(map(lambda x: x.strftime('%Y-%m'), pd.date_range(pd.to_datetime('12-2021', format='%m-%Y'), pd.to_datetime('12-2022', format='%m-%Y'), freq=\"MS\"))))"
   ]
  },
  {
   "cell_type": "code",
   "execution_count": 30,
   "metadata": {},
   "outputs": [],
   "source": [
    "df_all_horizons_results = pd.concat([df_t1_results, df_t3_results, df_t6_results, df_t12_results], axis=1)\n",
    "df_all_horizons_results = df_all_horizons_results.loc['2022-01':,~df_all_horizons_results.columns.duplicated()]"
   ]
  },
  {
   "cell_type": "code",
   "execution_count": 31,
   "metadata": {},
   "outputs": [
    {
     "data": {
      "text/html": [
       "<div>\n",
       "<style scoped>\n",
       "    .dataframe tbody tr th:only-of-type {\n",
       "        vertical-align: middle;\n",
       "    }\n",
       "\n",
       "    .dataframe tbody tr th {\n",
       "        vertical-align: top;\n",
       "    }\n",
       "\n",
       "    .dataframe thead th {\n",
       "        text-align: right;\n",
       "    }\n",
       "</style>\n",
       "<table border=\"1\" class=\"dataframe\">\n",
       "  <thead>\n",
       "    <tr style=\"text-align: right;\">\n",
       "      <th></th>\n",
       "      <th>actual</th>\n",
       "      <th>predicted_t1</th>\n",
       "      <th>predicted_t3</th>\n",
       "      <th>predicted_t6</th>\n",
       "      <th>predicted_t12</th>\n",
       "    </tr>\n",
       "  </thead>\n",
       "  <tbody>\n",
       "    <tr>\n",
       "      <th>2022-01</th>\n",
       "      <td>7.525934</td>\n",
       "      <td>6.794242</td>\n",
       "      <td>5.788581</td>\n",
       "      <td>4.410952</td>\n",
       "      <td>3.003298</td>\n",
       "    </tr>\n",
       "    <tr>\n",
       "      <th>2022-02</th>\n",
       "      <td>7.912024</td>\n",
       "      <td>7.050504</td>\n",
       "      <td>6.466510</td>\n",
       "      <td>4.627279</td>\n",
       "      <td>2.876057</td>\n",
       "    </tr>\n",
       "    <tr>\n",
       "      <th>2022-03</th>\n",
       "      <td>8.557586</td>\n",
       "      <td>7.559042</td>\n",
       "      <td>6.795402</td>\n",
       "      <td>4.784852</td>\n",
       "      <td>3.099481</td>\n",
       "    </tr>\n",
       "    <tr>\n",
       "      <th>2022-04</th>\n",
       "      <td>8.224139</td>\n",
       "      <td>8.054252</td>\n",
       "      <td>7.207659</td>\n",
       "      <td>5.500396</td>\n",
       "      <td>2.746874</td>\n",
       "    </tr>\n",
       "    <tr>\n",
       "      <th>2022-05</th>\n",
       "      <td>8.516413</td>\n",
       "      <td>8.005063</td>\n",
       "      <td>7.671198</td>\n",
       "      <td>6.259689</td>\n",
       "      <td>3.427169</td>\n",
       "    </tr>\n",
       "    <tr>\n",
       "      <th>2022-06</th>\n",
       "      <td>8.995221</td>\n",
       "      <td>8.116646</td>\n",
       "      <td>7.879742</td>\n",
       "      <td>6.812004</td>\n",
       "      <td>3.833982</td>\n",
       "    </tr>\n",
       "    <tr>\n",
       "      <th>2022-07</th>\n",
       "      <td>8.482130</td>\n",
       "      <td>8.796287</td>\n",
       "      <td>7.929654</td>\n",
       "      <td>7.870907</td>\n",
       "      <td>3.821091</td>\n",
       "    </tr>\n",
       "    <tr>\n",
       "      <th>2022-08</th>\n",
       "      <td>8.249235</td>\n",
       "      <td>8.372074</td>\n",
       "      <td>7.977046</td>\n",
       "      <td>8.656849</td>\n",
       "      <td>4.128892</td>\n",
       "    </tr>\n",
       "    <tr>\n",
       "      <th>2022-09</th>\n",
       "      <td>8.222410</td>\n",
       "      <td>8.158604</td>\n",
       "      <td>8.225961</td>\n",
       "      <td>9.273315</td>\n",
       "      <td>4.418329</td>\n",
       "    </tr>\n",
       "    <tr>\n",
       "      <th>2022-10</th>\n",
       "      <td>7.763115</td>\n",
       "      <td>8.071081</td>\n",
       "      <td>8.073747</td>\n",
       "      <td>9.024726</td>\n",
       "      <td>6.327184</td>\n",
       "    </tr>\n",
       "    <tr>\n",
       "      <th>2022-11</th>\n",
       "      <td>7.117879</td>\n",
       "      <td>7.912901</td>\n",
       "      <td>7.969762</td>\n",
       "      <td>9.152761</td>\n",
       "      <td>6.969883</td>\n",
       "    </tr>\n",
       "    <tr>\n",
       "      <th>2022-12</th>\n",
       "      <td>6.420682</td>\n",
       "      <td>7.279283</td>\n",
       "      <td>7.931189</td>\n",
       "      <td>9.450934</td>\n",
       "      <td>7.849517</td>\n",
       "    </tr>\n",
       "  </tbody>\n",
       "</table>\n",
       "</div>"
      ],
      "text/plain": [
       "           actual  predicted_t1  predicted_t3  predicted_t6  predicted_t12\n",
       "2022-01  7.525934      6.794242      5.788581      4.410952       3.003298\n",
       "2022-02  7.912024      7.050504      6.466510      4.627279       2.876057\n",
       "2022-03  8.557586      7.559042      6.795402      4.784852       3.099481\n",
       "2022-04  8.224139      8.054252      7.207659      5.500396       2.746874\n",
       "2022-05  8.516413      8.005063      7.671198      6.259689       3.427169\n",
       "2022-06  8.995221      8.116646      7.879742      6.812004       3.833982\n",
       "2022-07  8.482130      8.796287      7.929654      7.870907       3.821091\n",
       "2022-08  8.249235      8.372074      7.977046      8.656849       4.128892\n",
       "2022-09  8.222410      8.158604      8.225961      9.273315       4.418329\n",
       "2022-10  7.763115      8.071081      8.073747      9.024726       6.327184\n",
       "2022-11  7.117879      7.912901      7.969762      9.152761       6.969883\n",
       "2022-12  6.420682      7.279283      7.931189      9.450934       7.849517"
      ]
     },
     "execution_count": 31,
     "metadata": {},
     "output_type": "execute_result"
    }
   ],
   "source": [
    "df_all_horizons_results"
   ]
  },
  {
   "cell_type": "code",
   "execution_count": 32,
   "metadata": {},
   "outputs": [
    {
     "data": {
      "text/plain": [
       "Index(['2022-01', '2022-02', '2022-03', '2022-04', '2022-05', '2022-06',\n",
       "       '2022-07', '2022-08', '2022-09', '2022-10', '2022-11', '2022-12'],\n",
       "      dtype='object')"
      ]
     },
     "execution_count": 32,
     "metadata": {},
     "output_type": "execute_result"
    }
   ],
   "source": [
    "df_all_horizons_results.index"
   ]
  },
  {
   "cell_type": "code",
   "execution_count": 62,
   "metadata": {},
   "outputs": [
    {
     "data": {
      "image/png": "[encoded data removed]",
      "text/plain": [
       "<Figure size 640x480 with 1 Axes>"
      ]
     },
     "metadata": {},
     "output_type": "display_data"
    }
   ],
   "source": [
    "## Do 4 plots for test set Jan - Dec 2022\n",
    "import matplotlib.pyplot as plt\n",
    "date = df_all_horizons_results.index\n",
    "plt.plot(date, df_all_horizons_results['actual'], label = 'actual_value', linestyle = 'dashed')\n",
    "plt.plot(date, df_all_horizons_results['predicted_t1'], label = 'h=1')\n",
    "plt.plot(date, df_all_horizons_results['predicted_t3'], label = 'h=3')\n",
    "plt.plot(date, df_all_horizons_results['predicted_t6'], label = 'h=6')\n",
    "plt.plot(date, df_all_horizons_results['predicted_t12'], label = 'h=12')\n",
    "plt.xticks(rotation=30)\n",
    "plt.ylabel('Inflation (%)')\n",
    "plt.legend()\n",
    "plt.savefig('Test set comparison.png')\n",
    "plt.show()"
   ]
  },
  {
   "cell_type": "code",
   "execution_count": 34,
   "metadata": {},
   "outputs": [],
   "source": [
    "## Find RMSE of all 4 models\n",
    "from sklearn.metrics import mean_squared_error\n",
    "df_all_horizons_rmse = pd.DataFrame({'horizon_1': [mean_squared_error(df_all_horizons_results['actual'], df_all_horizons_results['predicted_t1'])**0.5],\n",
    "                        'horizon_3': [mean_squared_error(df_all_horizons_results['actual'], df_all_horizons_results['predicted_t3'])**0.5],\n",
    "                        'horizon_6': [mean_squared_error(df_all_horizons_results['actual'], df_all_horizons_results['predicted_t6'])**0.5],\n",
    "                        'horizon_12': [mean_squared_error(df_all_horizons_results['actual'], df_all_horizons_results['predicted_t12'])**0.5]})"
   ]
  },
  {
   "cell_type": "code",
   "execution_count": 36,
   "metadata": {},
   "outputs": [
    {
     "data": {
      "text/html": [
       "<div>\n",
       "<style scoped>\n",
       "    .dataframe tbody tr th:only-of-type {\n",
       "        vertical-align: middle;\n",
       "    }\n",
       "\n",
       "    .dataframe tbody tr th {\n",
       "        vertical-align: top;\n",
       "    }\n",
       "\n",
       "    .dataframe thead th {\n",
       "        text-align: right;\n",
       "    }\n",
       "</style>\n",
       "<table border=\"1\" class=\"dataframe\">\n",
       "  <thead>\n",
       "    <tr style=\"text-align: right;\">\n",
       "      <th></th>\n",
       "      <th>horizon_1</th>\n",
       "      <th>horizon_3</th>\n",
       "      <th>horizon_6</th>\n",
       "      <th>horizon_12</th>\n",
       "    </tr>\n",
       "  </thead>\n",
       "  <tbody>\n",
       "    <tr>\n",
       "      <th>0</th>\n",
       "      <td>0.640239</td>\n",
       "      <td>1.106356</td>\n",
       "      <td>2.390314</td>\n",
       "      <td>4.237179</td>\n",
       "    </tr>\n",
       "  </tbody>\n",
       "</table>\n",
       "</div>"
      ],
      "text/plain": [
       "   horizon_1  horizon_3  horizon_6  horizon_12\n",
       "0   0.640239   1.106356   2.390314    4.237179"
      ]
     },
     "execution_count": 36,
     "metadata": {},
     "output_type": "execute_result"
    }
   ],
   "source": [
    "df_all_horizons_rmse"
   ]
  },
  {
   "cell_type": "code",
   "execution_count": 35,
   "metadata": {},
   "outputs": [
    {
     "data": {
      "text/plain": [
       "0     7.150126\n",
       "1     6.952662\n",
       "2     6.508534\n",
       "3     5.979704\n",
       "4     5.466960\n",
       "5     4.915561\n",
       "6     4.712970\n",
       "7     4.636523\n",
       "8     4.467440\n",
       "9     3.841304\n",
       "10    3.313904\n",
       "11    2.929899\n",
       "Name: Point.Forecast, dtype: float64"
      ]
     },
     "execution_count": 35,
     "metadata": {},
     "output_type": "execute_result"
    }
   ],
   "source": [
    "## ARIMA model from R\n",
    "arima_results = pd.read_csv('arima_results.csv')\n",
    "arima_predicted = arima_results['Point.Forecast']\n",
    "arima_predicted"
   ]
  },
  {
   "cell_type": "code",
   "execution_count": 36,
   "metadata": {},
   "outputs": [],
   "source": [
    "## Table comparing forecasts from Jan - Dec 2022\n",
    "## Assume that at the end of year 2021, economists want to predict inflation for next year for 4 forecast hoirxons Jan, March, June , Dec 2022\n",
    "\n",
    "df_arima_RF = pd.DataFrame({'2022-01': [df_all_horizons_results.loc['2022-01', 'actual'],df_all_horizons_results.loc['2022-01', 'predicted_t1'],arima_predicted[0]],\n",
    "                           '2022-03': [df_all_horizons_results.loc['2022-03', 'actual'],df_all_horizons_results.loc['2022-03', 'predicted_t3'],arima_predicted[2]],\n",
    "                            '2022-06': [df_all_horizons_results.loc['2022-06', 'actual'],df_all_horizons_results.loc['2022-06', 'predicted_t6'],arima_predicted[5]],\n",
    "                            '2022-12': [df_all_horizons_results.loc['2022-12', 'actual'],df_all_horizons_results.loc['2022-12', 'predicted_t12'],arima_predicted[11]]\n",
    "                           }, index = ['actual value', 'RF prediction', 'ARIMA prediction'])\n"
   ]
  },
  {
   "cell_type": "code",
   "execution_count": 37,
   "metadata": {},
   "outputs": [
    {
     "data": {
      "image/png": "[encoded data removed]",
      "text/plain": [
       "<Figure size 640x480 with 1 Axes>"
      ]
     },
     "metadata": {},
     "output_type": "display_data"
    }
   ],
   "source": [
    "plt.plot(df_arima_RF.columns, df_arima_RF.loc['actual value',:], label = 'actual value',  linestyle = 'None', marker = 's')\n",
    "plt.plot(df_arima_RF.columns, df_arima_RF.loc['RF prediction',:], label = 'RF prediction',  linestyle = 'None', marker = 'o')\n",
    "plt.plot(df_arima_RF.columns, df_arima_RF.loc['ARIMA prediction',:], label = 'ARIMA prediction',linestyle = 'None', marker = 'D')\n",
    "plt.legend()\n",
    "plt.show()"
   ]
  },
  {
   "cell_type": "code",
   "execution_count": 65,
   "metadata": {},
   "outputs": [],
   "source": [
    "## Mean squared error ratios\n",
    "\n",
    "df_arima_RF_t = df_arima_RF.T\n",
    "df_arima_RF_t['RMSE_RF'] = abs(df_arima_RF_t['actual value'] - df_arima_RF_t['RF prediction'])\n",
    "df_arima_RF_t['RMSE_ARIMA'] = abs(df_arima_RF_t['actual value'] - df_arima_RF_t['ARIMA prediction'])\n",
    "df_arima_RF_t['RMSE_ratio'] = np.round(df_arima_RF_t['RMSE_RF']/df_arima_RF_t['RMSE_ARIMA'],3)\n"
   ]
  },
  {
   "cell_type": "code",
   "execution_count": 66,
   "metadata": {},
   "outputs": [
    {
     "data": {
      "text/html": [
       "<div>\n",
       "<style scoped>\n",
       "    .dataframe tbody tr th:only-of-type {\n",
       "        vertical-align: middle;\n",
       "    }\n",
       "\n",
       "    .dataframe tbody tr th {\n",
       "        vertical-align: top;\n",
       "    }\n",
       "\n",
       "    .dataframe thead th {\n",
       "        text-align: right;\n",
       "    }\n",
       "</style>\n",
       "<table border=\"1\" class=\"dataframe\">\n",
       "  <thead>\n",
       "    <tr style=\"text-align: right;\">\n",
       "      <th></th>\n",
       "      <th>RMSE_ratio</th>\n",
       "    </tr>\n",
       "  </thead>\n",
       "  <tbody>\n",
       "    <tr>\n",
       "      <th>2022-01</th>\n",
       "      <td>1.947</td>\n",
       "    </tr>\n",
       "    <tr>\n",
       "      <th>2022-03</th>\n",
       "      <td>0.860</td>\n",
       "    </tr>\n",
       "    <tr>\n",
       "      <th>2022-06</th>\n",
       "      <td>0.535</td>\n",
       "    </tr>\n",
       "    <tr>\n",
       "      <th>2022-12</th>\n",
       "      <td>0.409</td>\n",
       "    </tr>\n",
       "  </tbody>\n",
       "</table>\n",
       "</div>"
      ],
      "text/plain": [
       "         RMSE_ratio\n",
       "2022-01       1.947\n",
       "2022-03       0.860\n",
       "2022-06       0.535\n",
       "2022-12       0.409"
      ]
     },
     "execution_count": 66,
     "metadata": {},
     "output_type": "execute_result"
    }
   ],
   "source": [
    "df_arima_RF_t[['RMSE_ratio']]    "
   ]
  },
  {
   "cell_type": "markdown",
   "metadata": {},
   "source": [
    "## Shapley values"
   ]
  },
  {
   "cell_type": "code",
   "execution_count": 69,
   "metadata": {},
   "outputs": [],
   "source": [
    "## Recreating training set\n",
    "data_lagged_train_x = data_lagged.loc['1960-03-01':'2020-11-01', :].drop(['pi_(t+0)','pi_(t+2)', 'pi_(t+5)', 'pi_(t+11)'], axis=1)\n",
    "data_lagged_train_x_imp = imp.transform(data_lagged_train_x)"
   ]
  },
  {
   "cell_type": "code",
   "execution_count": 70,
   "metadata": {},
   "outputs": [],
   "source": [
    "## Creating training set for t1 (since different naming style)\n",
    "\n",
    "data_lagged_train_x_imp_t1 = data_lagged_train_x_imp.copy()\n",
    "col_names_mod_t1 = []\n",
    "\n",
    "for i in list(data_lagged_train_x_imp_t1.columns):\n",
    "    if i[:2] == 'pi':\n",
    "        col_names_mod_t1.append('CPIAUCSL_{0}'.format(i[-2]))\n",
    "    else:\n",
    "        col_names_mod_t1.append(i[:-5]+i[-2])\n",
    "        \n",
    "        \n",
    "data_lagged_train_x_imp_t1.columns = col_names_mod_t1   \n",
    "data_lagged_train_x_imp_t1 = data_lagged_train_x_imp_t1[list(model_t1.feature_names_in_)]"
   ]
  },
  {
   "cell_type": "code",
   "execution_count": 71,
   "metadata": {},
   "outputs": [],
   "source": [
    "## Calculating global shapley values for t1, t3, t6, t12\n",
    "import shap\n",
    "explainer_t1 = shap.TreeExplainer(model_t1)\n",
    "shap_values_t1 = explainer_t1.shap_values(data_lagged_train_x_imp_t1)\n",
    "\n",
    "explainer_t3 = shap.TreeExplainer(model_t3)\n",
    "shap_values_t3 = explainer_t3.shap_values(data_lagged_train_x_imp)\n",
    "\n",
    "explainer_t6 = shap.TreeExplainer(model_t6)\n",
    "shap_values_t6 = explainer_t6.shap_values(data_lagged_train_x_imp)\n",
    "\n",
    "explainer_t12 = shap.TreeExplainer(model_t12)\n",
    "shap_values_t12 = explainer_t12.shap_values(data_lagged_train_x_imp)"
   ]
  },
  {
   "cell_type": "code",
   "execution_count": 72,
   "metadata": {},
   "outputs": [],
   "source": [
    "## Rescaling shapley values on sale of 0 - 1 and grouping by major groups\n",
    "mean_shap_t1 = np.mean(abs(shap_values_t1),axis=0)\n",
    "mean_shap_t3 = np.mean(abs(shap_values_t3),axis=0)\n",
    "mean_shap_t6 = np.mean(abs(shap_values_t6),axis=0)\n",
    "mean_shap_t12 = np.mean(abs(shap_values_t12),axis=0)\n",
    "\n",
    "\n",
    "#Renaming columns for t1\n",
    "col_names_mod_t1 = []\n",
    "\n",
    "for i in list(data_lagged_train_x_imp_t1.columns):\n",
    "    if i[:5] == 'CPIAU': \n",
    "        col_names_mod_t1.append('pi_(t-{0})'.format(i[-1]))\n",
    "    else:\n",
    "        col_names_mod_t1.append(i[:-1]+'(t-{0})'.format(i[-1]))\n",
    "\n",
    "df_shap_1 = pd.DataFrame({'feature_names': col_names_mod_t1, 'shap': mean_shap_t1/sum(mean_shap_t1)}).sort_values(by = ['shap'],ascending=False)\n",
    "df_shap_3 = pd.DataFrame({'feature_names': data_lagged_train_x_imp.columns, 'shap': mean_shap_t3/sum(mean_shap_t3)}).sort_values(by = ['shap'],ascending=False)\n",
    "df_shap_6 = pd.DataFrame({'feature_names': data_lagged_train_x_imp.columns, 'shap': mean_shap_t6/sum(mean_shap_t6)}).sort_values(by = ['shap'],ascending=False)\n",
    "df_shap_12 = pd.DataFrame({'feature_names': data_lagged_train_x_imp.columns, 'shap': mean_shap_t12/sum(mean_shap_t12)}).sort_values(by = ['shap'],ascending=False)\n"
   ]
  },
  {
   "cell_type": "code",
   "execution_count": 99,
   "metadata": {},
   "outputs": [],
   "source": [
    "## Add groups to features\n",
    "groups_and_features = pd.read_csv('fred_md_mapping.csv',encoding='ISO 8859-1')\n",
    "groups_and_features_df = groups_and_features[['Feature_ID', 'group_name']]"
   ]
  },
  {
   "cell_type": "code",
   "execution_count": 100,
   "metadata": {},
   "outputs": [],
   "source": [
    "df_shap_1['var'] = df_shap_1['feature_names'].str[:-6]\n",
    "df_shap_3['var'] = df_shap_3['feature_names'].str[:-6]\n",
    "df_shap_6['var'] = df_shap_6['feature_names'].str[:-6]\n",
    "df_shap_12['var'] = df_shap_12['feature_names'].str[:-6]"
   ]
  },
  {
   "cell_type": "code",
   "execution_count": 104,
   "metadata": {},
   "outputs": [],
   "source": [
    "df_shap_1 = df_shap_1.join(groups_and_features_df.set_index('Feature_ID'), on='var')\n",
    "df_shap_3 = df_shap_3.join(groups_and_features_df.set_index('Feature_ID'), on='var')\n",
    "df_shap_6 = df_shap_6.join(groups_and_features_df.set_index('Feature_ID'), on='var')\n",
    "df_shap_12 = df_shap_12.join(groups_and_features_df.set_index('Feature_ID'), on='var')"
   ]
  },
  {
   "cell_type": "code",
   "execution_count": 210,
   "metadata": {},
   "outputs": [
    {
     "data": {
      "text/plain": [
       "group_name\n",
       "Consumption, orders and inventories    0.063836\n",
       "Housing Market                         0.255165\n",
       "Interest and Exchange Rate             0.091622\n",
       "Labour Market                          0.063803\n",
       "Money and Credit                       0.007087\n",
       "Output and Income                      0.008017\n",
       "Prices                                 0.504870\n",
       "Stock Market                           0.005601\n",
       "Name: shap, dtype: float64"
      ]
     },
     "execution_count": 210,
     "metadata": {},
     "output_type": "execute_result"
    }
   ],
   "source": [
    "df_shap_12.groupby(\"group_name\")['shap'].sum().T"
   ]
  },
  {
   "cell_type": "code",
   "execution_count": 218,
   "metadata": {},
   "outputs": [
    {
     "data": {
      "image/png": "[encoded data removed]",
      "text/plain": [
       "<Figure size 640x480 with 1 Axes>"
      ]
     },
     "metadata": {},
     "output_type": "display_data"
    }
   ],
   "source": [
    "df_shap_1.groupby(\"group_name\")['shap'].sum().reset_index().set_index('group_name').T.plot.bar(stacked= True)\n",
    "plt.legend(loc =1, prop={'size': 7})\n",
    "plt.tick_params(\n",
    "    axis='x',          # changes apply to the x-axis\n",
    "    which='both',      # both major and minor ticks are affected\n",
    "    bottom=False,      # ticks along the bottom edge are off\n",
    "    top=False,         # ticks along the top edge are off\n",
    "    labelbottom=False)\n",
    "plt.savefig('shap1_barplot.png')"
   ]
  },
  {
   "cell_type": "code",
   "execution_count": 217,
   "metadata": {},
   "outputs": [
    {
     "data": {
      "image/png": "[encoded data removed]",
      "text/plain": [
       "<Figure size 640x480 with 1 Axes>"
      ]
     },
     "metadata": {},
     "output_type": "display_data"
    }
   ],
   "source": [
    "df_shap_3.groupby(\"group_name\")['shap'].sum().reset_index().set_index('group_name').T.plot.bar(stacked= True)\n",
    "plt.legend(loc = 1, prop={'size': 7})\n",
    "plt.tick_params(\n",
    "    axis='x',          # changes apply to the x-axis\n",
    "    which='both',      # both major and minor ticks are affected\n",
    "    bottom=False,      # ticks along the bottom edge are off\n",
    "    top=False,         # ticks along the top edge are off\n",
    "    labelbottom=False)\n",
    "plt.savefig('shap3_barplot.png')"
   ]
  },
  {
   "cell_type": "code",
   "execution_count": 216,
   "metadata": {},
   "outputs": [
    {
     "data": {
      "image/png": "[encoded data removed]",
      "text/plain": [
       "<Figure size 640x480 with 1 Axes>"
      ]
     },
     "metadata": {},
     "output_type": "display_data"
    }
   ],
   "source": [
    "df_shap_6.groupby(\"group_name\")['shap'].sum().reset_index().set_index('group_name').T.plot.bar(stacked= True)\n",
    "plt.legend(loc=1,prop={'size': 7})\n",
    "plt.tick_params(\n",
    "    axis='x',          # changes apply to the x-axis\n",
    "    which='both',      # both major and minor ticks are affected\n",
    "    bottom=False,      # ticks along the bottom edge are off\n",
    "    top=False,         # ticks along the top edge are off\n",
    "    labelbottom=False)\n",
    "plt.savefig('shap6_barplot.png')"
   ]
  },
  {
   "cell_type": "code",
   "execution_count": 215,
   "metadata": {},
   "outputs": [
    {
     "data": {
      "image/png": "[encoded data removed]",
      "text/plain": [
       "<Figure size 640x480 with 1 Axes>"
      ]
     },
     "metadata": {},
     "output_type": "display_data"
    }
   ],
   "source": [
    "df_shap_12.groupby(\"group_name\")['shap'].sum().reset_index().set_index('group_name').T.plot.bar(stacked= True)\n",
    "plt.legend(loc=1,prop={'size': 7})\n",
    "plt.tick_params(\n",
    "    axis='x',          # changes apply to the x-axis\n",
    "    which='both',      # both major and minor ticks are affected\n",
    "    bottom=False,      # ticks along the bottom edge are off\n",
    "    top=False,         # ticks along the top edge are off\n",
    "    labelbottom=False)\n",
    "plt.savefig('shap12_barplot.png')"
   ]
  }
 ],
 "metadata": {
  "colab": {
   "authorship_tag": "ABX9TyOzzotsE4oFoOBYbEH2XkBU",
   "include_colab_link": true,
   "mount_file_id": "1E2kqgkDiDZUMuV4sIujqImHZTzvrpZl7",
   "provenance": [],
   "toc_visible": true
  },
  "kernelspec": {
   "display_name": "Python 3 user modules",
   "language": "python",
   "name": "python3-user-modules"
  },
  "language_info": {
   "codemirror_mode": {
    "name": "ipython",
    "version": 3
   },
   "file_extension": ".py",
   "mimetype": "text/x-python",
   "name": "python",
   "nbconvert_exporter": "python",
   "pygments_lexer": "ipython3",
   "version": "3.10.6"
  }
 },
 "nbformat": 4,
 "nbformat_minor": 4
}
