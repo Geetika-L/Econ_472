{
 "cells": [
  {
   "cell_type": "markdown",
   "metadata": {
    "colab_type": "text",
    "id": "view-in-github"
   },
   "source": [
    "<a href=\"https://colab.research.google.com/github/Geetika-L/Econ_472/blob/dev/Econ_472_RF.ipynb\" target=\"_parent\"><img src=\"https://colab.research.google.com/assets/colab-badge.svg\" alt=\"Open In Colab\"/></a>"
   ]
  },
  {
   "cell_type": "code",
   "execution_count": 1,
   "metadata": {
    "id": "hrQQivPRAFbO"
   },
   "outputs": [],
   "source": [
    "import pandas as pd"
   ]
  },
  {
   "cell_type": "code",
   "execution_count": 2,
   "metadata": {
    "colab": {
     "base_uri": "https://localhost:8080/"
    },
    "id": "CgH6hdrlGgiy",
    "outputId": "c8cbc22a-de09-44dc-f265-b0132f1af78b"
   },
   "outputs": [
    {
     "name": "stdout",
     "output_type": "stream",
     "text": [
      "Requirement already satisfied: scikit-optimize in /mnt/storage/home/gluchun/.local/lib/python3.10/site-packages (0.9.0)\n",
      "Requirement already satisfied: scikit-learn>=0.20.0 in /mnt/storage/home/gluchun/.local/lib/python3.10/site-packages (from scikit-optimize) (1.2.1)\n",
      "Requirement already satisfied: numpy>=1.13.3 in /mnt/storage/home/gluchun/.local/lib/python3.10/site-packages (from scikit-optimize) (1.22.4)\n",
      "Requirement already satisfied: pyaml>=16.9 in /mnt/storage/home/gluchun/.local/lib/python3.10/site-packages (from scikit-optimize) (21.10.1)\n",
      "Requirement already satisfied: joblib>=0.11 in /mnt/storage/home/gluchun/.local/lib/python3.10/site-packages (from scikit-optimize) (1.2.0)\n",
      "Requirement already satisfied: scipy>=0.19.1 in /mnt/storage/home/gluchun/.local/lib/python3.10/site-packages (from scikit-optimize) (1.10.1)\n",
      "Requirement already satisfied: PyYAML in /srv/jupyter_python3-extra/lib/python3.10/site-packages (from pyaml>=16.9->scikit-optimize) (6.0)\n",
      "Requirement already satisfied: threadpoolctl>=2.0.0 in /mnt/storage/home/gluchun/.local/lib/python3.10/site-packages (from scikit-learn>=0.20.0->scikit-optimize) (3.1.0)\n",
      "Requirement already satisfied: scikit-learn==1.2.1 in /mnt/storage/home/gluchun/.local/lib/python3.10/site-packages (1.2.1)\n",
      "Requirement already satisfied: numpy>=1.17.3 in /mnt/storage/home/gluchun/.local/lib/python3.10/site-packages (from scikit-learn==1.2.1) (1.22.4)\n",
      "Requirement already satisfied: threadpoolctl>=2.0.0 in /mnt/storage/home/gluchun/.local/lib/python3.10/site-packages (from scikit-learn==1.2.1) (3.1.0)\n",
      "Requirement already satisfied: joblib>=1.1.1 in /mnt/storage/home/gluchun/.local/lib/python3.10/site-packages (from scikit-learn==1.2.1) (1.2.0)\n",
      "Requirement already satisfied: scipy>=1.3.2 in /mnt/storage/home/gluchun/.local/lib/python3.10/site-packages (from scikit-learn==1.2.1) (1.10.1)\n",
      "Requirement already satisfied: numpy==1.22.4 in /mnt/storage/home/gluchun/.local/lib/python3.10/site-packages (1.22.4)\n"
     ]
    }
   ],
   "source": [
    "!pip install scikit-optimize --user\n",
    "!pip install scikit-learn==1.2.1 --user\n",
    "!pip install numpy==1.22.4 --user"
   ]
  },
  {
   "cell_type": "code",
   "execution_count": 3,
   "metadata": {
    "id": "wHC0gmmHisGi"
   },
   "outputs": [],
   "source": [
    "data_v1 = pd.read_csv('fred_data_trans_v1.csv')"
   ]
  },
  {
   "cell_type": "code",
   "execution_count": 4,
   "metadata": {},
   "outputs": [],
   "source": [
    "current = pd.read_csv('current.csv')"
   ]
  },
  {
   "cell_type": "code",
   "execution_count": 5,
   "metadata": {},
   "outputs": [],
   "source": [
    "## Replace CPI transformation by CPI_yoy growth\n",
    "CPI = current['CPIAUCSL'][1:]\n",
    "CPI_yoy = CPI.pct_change(periods=12)*100\n",
    "data_v1['CPIAUCSL'] = CPI_yoy[12:].reset_index(drop=True)"
   ]
  },
  {
   "cell_type": "code",
   "execution_count": 6,
   "metadata": {
    "id": "RZVegg45YPQX"
   },
   "outputs": [],
   "source": [
    "percent_missing = list(data_v1.isna().sum()/(data_v1.shape[0]))\n",
    "missing_value_df = pd.DataFrame({'column_name': data_v1.columns,\n",
    "                                 'percent_missing': percent_missing})"
   ]
  },
  {
   "cell_type": "code",
   "execution_count": 7,
   "metadata": {
    "id": "eYaCg3u5bCGF"
   },
   "outputs": [],
   "source": [
    "## Prportion of columns that have high NAs\n",
    "missing_value_df_01 = missing_value_df.loc[missing_value_df['percent_missing']>0.1]\n",
    "## Higher than 0.1 (ACOGNO:New Orders for Consumer Goods, ANDENOx: New Orders for Nondefense Capital Goods,  TWEXAFEGSMTHx: Trade weighted us dollar index)"
   ]
  },
  {
   "cell_type": "code",
   "execution_count": 8,
   "metadata": {},
   "outputs": [],
   "source": [
    "## Remove high proportion of NAs\n",
    "col_to_rem_NA = missing_value_df_01['column_name'].tolist()\n",
    "data_v1.drop(col_to_rem_NA, axis =1, inplace= True)\n"
   ]
  },
  {
   "cell_type": "code",
   "execution_count": 9,
   "metadata": {
    "id": "kE0rv2_Czcvh"
   },
   "outputs": [],
   "source": [
    "## Remove CPI columns except CPI: All items\n",
    "cpis_except_all_items = ['CPIAPPSL', 'CPITRNSL', 'CPIMEDSL', 'CUSR0000SAC', 'CUSR0000SAD', 'CUSR0000SAS', 'CPIULFSL', 'CUSR0000SA0L2', 'CUSR0000SA0L5']\n",
    "data_v1.drop(cpis_except_all_items, axis =1, inplace= True)\n"
   ]
  },
  {
   "cell_type": "code",
   "execution_count": 10,
   "metadata": {
    "id": "sU69qXz_2bGB"
   },
   "outputs": [],
   "source": [
    "## Remove the date column\n",
    "data_v1.drop('date', axis =1, inplace= True)\n"
   ]
  },
  {
   "cell_type": "code",
   "execution_count": 11,
   "metadata": {
    "id": "NM1EPz-q9Lcv"
   },
   "outputs": [],
   "source": [
    "## Creating lag and AR variables\n",
    "def series_to_supervised(data, n_in=1):\n",
    " \"\"\"\n",
    " Frame a time series as a supervised learning dataset.\n",
    " Arguments:\n",
    " data: Sequence of observations as a list or NumPy array.\n",
    " n_in: Number of lag observations as input (X).\n",
    " n_out: Number of observations as output (y).\n",
    " dropnan: Boolean whether or not to drop rows with NaN values.\n",
    " Returns:\n",
    " Pandas DataFrame of series framed for supervised learning.\n",
    " \"\"\"\n",
    "\n",
    " n_vars = 1 if type(data.values) is list else data.shape[1]\n",
    " colnames = list(data.columns)\n",
    " cols, names = list(), list()\n",
    " # input sequence (t-n, ... t-1)\n",
    " for i in range(n_in, 0, -1):\n",
    "   cols.append(data.shift(i))\n",
    "   names += [j+\"_{0}\".format(i) for j in colnames]\n",
    " cols.append(data['CPIAUCSL'])\n",
    " names += ['CPIAUCSL_0']\n",
    " \n",
    " # put it all together\n",
    " agg = pd.concat(cols, axis=1)\n",
    " agg.columns = names\n",
    " return agg\n",
    "#  # drop rows with NaN values\n",
    "#  if dropnan:\n",
    "#  agg.dropna(inplace=True)\n",
    "#  return agg\n"
   ]
  },
  {
   "cell_type": "code",
   "execution_count": 12,
   "metadata": {
    "id": "K1X3naXuqZZ_"
   },
   "outputs": [],
   "source": [
    "data_lagged = series_to_supervised(data_v1,3)"
   ]
  },
  {
   "cell_type": "code",
   "execution_count": 13,
   "metadata": {
    "id": "tWr5cQg7qtIk"
   },
   "outputs": [],
   "source": [
    "data_lagged_sorted = data_lagged.reindex(sorted(data_lagged.columns), axis=1)"
   ]
  },
  {
   "cell_type": "code",
   "execution_count": 14,
   "metadata": {
    "id": "C3W73NborKmI"
   },
   "outputs": [],
   "source": [
    "data_lagged_sorted.to_csv('data_lagged_v1.csv')"
   ]
  },
  {
   "cell_type": "code",
   "execution_count": 15,
   "metadata": {
    "id": "RYcMtE7a8S_f"
   },
   "outputs": [],
   "source": [
    "## Remove first 3 observations (missing lags), and last 12 observations to keep as test set\n",
    "test_length = 12\n",
    "startpoint = 3\n",
    "endpoint = len(data_lagged)\n",
    "x = endpoint- test_length\n",
    "data_lagged_train = data_lagged.loc[startpoint:x - 1, :]\n",
    "data_lagged_test = data_lagged.loc[x:, :]\n",
    "data_lagged_test_x = data_lagged_test.loc[:, data_lagged_test.columns != 'CPIAUCSL_0']\n",
    "data_lagged_test_y = data_lagged_test['CPIAUCSL_0']\n",
    "data_lagged_train_x = data_lagged_train.loc[:, data_lagged_train.columns != 'CPIAUCSL_0']\n",
    "data_lagged_train_y = data_lagged_train['CPIAUCSL_0']"
   ]
  },
  {
   "cell_type": "code",
   "execution_count": 16,
   "metadata": {
    "colab": {
     "base_uri": "https://localhost:8080/",
     "height": 74
    },
    "id": "UReYwjKvzveS",
    "outputId": "eb2d132a-6af5-41ba-e3a4-efc5f42ebbfe"
   },
   "outputs": [
    {
     "data": {
      "text/html": [
       "<style>#sk-container-id-1 {color: black;background-color: white;}#sk-container-id-1 pre{padding: 0;}#sk-container-id-1 div.sk-toggleable {background-color: white;}#sk-container-id-1 label.sk-toggleable__label {cursor: pointer;display: block;width: 100%;margin-bottom: 0;padding: 0.3em;box-sizing: border-box;text-align: center;}#sk-container-id-1 label.sk-toggleable__label-arrow:before {content: \"▸\";float: left;margin-right: 0.25em;color: #696969;}#sk-container-id-1 label.sk-toggleable__label-arrow:hover:before {color: black;}#sk-container-id-1 div.sk-estimator:hover label.sk-toggleable__label-arrow:before {color: black;}#sk-container-id-1 div.sk-toggleable__content {max-height: 0;max-width: 0;overflow: hidden;text-align: left;background-color: #f0f8ff;}#sk-container-id-1 div.sk-toggleable__content pre {margin: 0.2em;color: black;border-radius: 0.25em;background-color: #f0f8ff;}#sk-container-id-1 input.sk-toggleable__control:checked~div.sk-toggleable__content {max-height: 200px;max-width: 100%;overflow: auto;}#sk-container-id-1 input.sk-toggleable__control:checked~label.sk-toggleable__label-arrow:before {content: \"▾\";}#sk-container-id-1 div.sk-estimator input.sk-toggleable__control:checked~label.sk-toggleable__label {background-color: #d4ebff;}#sk-container-id-1 div.sk-label input.sk-toggleable__control:checked~label.sk-toggleable__label {background-color: #d4ebff;}#sk-container-id-1 input.sk-hidden--visually {border: 0;clip: rect(1px 1px 1px 1px);clip: rect(1px, 1px, 1px, 1px);height: 1px;margin: -1px;overflow: hidden;padding: 0;position: absolute;width: 1px;}#sk-container-id-1 div.sk-estimator {font-family: monospace;background-color: #f0f8ff;border: 1px dotted black;border-radius: 0.25em;box-sizing: border-box;margin-bottom: 0.5em;}#sk-container-id-1 div.sk-estimator:hover {background-color: #d4ebff;}#sk-container-id-1 div.sk-parallel-item::after {content: \"\";width: 100%;border-bottom: 1px solid gray;flex-grow: 1;}#sk-container-id-1 div.sk-label:hover label.sk-toggleable__label {background-color: #d4ebff;}#sk-container-id-1 div.sk-serial::before {content: \"\";position: absolute;border-left: 1px solid gray;box-sizing: border-box;top: 0;bottom: 0;left: 50%;z-index: 0;}#sk-container-id-1 div.sk-serial {display: flex;flex-direction: column;align-items: center;background-color: white;padding-right: 0.2em;padding-left: 0.2em;position: relative;}#sk-container-id-1 div.sk-item {position: relative;z-index: 1;}#sk-container-id-1 div.sk-parallel {display: flex;align-items: stretch;justify-content: center;background-color: white;position: relative;}#sk-container-id-1 div.sk-item::before, #sk-container-id-1 div.sk-parallel-item::before {content: \"\";position: absolute;border-left: 1px solid gray;box-sizing: border-box;top: 0;bottom: 0;left: 50%;z-index: -1;}#sk-container-id-1 div.sk-parallel-item {display: flex;flex-direction: column;z-index: 1;position: relative;background-color: white;}#sk-container-id-1 div.sk-parallel-item:first-child::after {align-self: flex-end;width: 50%;}#sk-container-id-1 div.sk-parallel-item:last-child::after {align-self: flex-start;width: 50%;}#sk-container-id-1 div.sk-parallel-item:only-child::after {width: 0;}#sk-container-id-1 div.sk-dashed-wrapped {border: 1px dashed gray;margin: 0 0.4em 0.5em 0.4em;box-sizing: border-box;padding-bottom: 0.4em;background-color: white;}#sk-container-id-1 div.sk-label label {font-family: monospace;font-weight: bold;display: inline-block;line-height: 1.2em;}#sk-container-id-1 div.sk-label-container {text-align: center;}#sk-container-id-1 div.sk-container {/* jupyter's `normalize.less` sets `[hidden] { display: none; }` but bootstrap.min.css set `[hidden] { display: none !important; }` so we also need the `!important` here to be able to override the default hidden behavior on the sphinx rendered scikit-learn.org. See: https://github.com/scikit-learn/scikit-learn/issues/21755 */display: inline-block !important;position: relative;}#sk-container-id-1 div.sk-text-repr-fallback {display: none;}</style><div id=\"sk-container-id-1\" class=\"sk-top-container\"><div class=\"sk-text-repr-fallback\"><pre>SimpleImputer()</pre><b>In a Jupyter environment, please rerun this cell to show the HTML representation or trust the notebook. <br />On GitHub, the HTML representation is unable to render, please try loading this page with nbviewer.org.</b></div><div class=\"sk-container\" hidden><div class=\"sk-item\"><div class=\"sk-estimator sk-toggleable\"><input class=\"sk-toggleable__control sk-hidden--visually\" id=\"sk-estimator-id-1\" type=\"checkbox\" checked><label for=\"sk-estimator-id-1\" class=\"sk-toggleable__label sk-toggleable__label-arrow\">SimpleImputer</label><div class=\"sk-toggleable__content\"><pre>SimpleImputer()</pre></div></div></div></div></div>"
      ],
      "text/plain": [
       "SimpleImputer()"
      ]
     },
     "execution_count": 16,
     "metadata": {},
     "output_type": "execute_result"
    }
   ],
   "source": [
    "## Getting mean of training dataset to impute\n",
    "import numpy as np\n",
    "from sklearn.impute import SimpleImputer\n",
    "\n",
    "imp = SimpleImputer(missing_values = np.nan, strategy = 'mean').set_output(transform=\"pandas\")\n",
    "imp.fit(data_lagged_train_x)"
   ]
  },
  {
   "cell_type": "code",
   "execution_count": 17,
   "metadata": {
    "id": "pPMICdCS4ovB"
   },
   "outputs": [],
   "source": [
    "##Impute training data x\n",
    "\n",
    "data_lagged_train_x_imp = imp.transform(data_lagged_train_x)"
   ]
  },
  {
   "cell_type": "code",
   "execution_count": 18,
   "metadata": {
    "colab": {
     "base_uri": "https://localhost:8080/",
     "height": 299
    },
    "id": "9pbqjdzt7gva",
    "outputId": "174d139b-774a-4ae4-97f2-147f104feee7"
   },
   "outputs": [
    {
     "data": {
      "text/html": [
       "<div>\n",
       "<style scoped>\n",
       "    .dataframe tbody tr th:only-of-type {\n",
       "        vertical-align: middle;\n",
       "    }\n",
       "\n",
       "    .dataframe tbody tr th {\n",
       "        vertical-align: top;\n",
       "    }\n",
       "\n",
       "    .dataframe thead th {\n",
       "        text-align: right;\n",
       "    }\n",
       "</style>\n",
       "<table border=\"1\" class=\"dataframe\">\n",
       "  <thead>\n",
       "    <tr style=\"text-align: right;\">\n",
       "      <th></th>\n",
       "      <th>RPI_3</th>\n",
       "      <th>W875RX1_3</th>\n",
       "      <th>DPCERA3M086SBEA_3</th>\n",
       "      <th>CMRMTSPLx_3</th>\n",
       "      <th>RETAILx_3</th>\n",
       "      <th>INDPRO_3</th>\n",
       "      <th>IPFPNSS_3</th>\n",
       "      <th>IPFINAL_3</th>\n",
       "      <th>IPCONGD_3</th>\n",
       "      <th>IPDCONGD_3</th>\n",
       "      <th>...</th>\n",
       "      <th>DNDGRG3M086SBEA_1</th>\n",
       "      <th>DSERRG3M086SBEA_1</th>\n",
       "      <th>CES0600000008_1</th>\n",
       "      <th>CES2000000008_1</th>\n",
       "      <th>CES3000000008_1</th>\n",
       "      <th>UMCSENTx_1</th>\n",
       "      <th>DTCOLNVHFNM_1</th>\n",
       "      <th>DTCTHFNM_1</th>\n",
       "      <th>INVEST_1</th>\n",
       "      <th>VIXCLSx_1</th>\n",
       "    </tr>\n",
       "  </thead>\n",
       "  <tbody>\n",
       "    <tr>\n",
       "      <th>3</th>\n",
       "      <td>0.003194</td>\n",
       "      <td>0.004638</td>\n",
       "      <td>0.002788</td>\n",
       "      <td>0.016956</td>\n",
       "      <td>0.026606</td>\n",
       "      <td>0.025914</td>\n",
       "      <td>0.024097</td>\n",
       "      <td>0.029021</td>\n",
       "      <td>0.031237</td>\n",
       "      <td>0.103831</td>\n",
       "      <td>...</td>\n",
       "      <td>0.001786</td>\n",
       "      <td>-0.001113</td>\n",
       "      <td>-0.000020</td>\n",
       "      <td>0.030131</td>\n",
       "      <td>-0.004684</td>\n",
       "      <td>0.0</td>\n",
       "      <td>0.003472</td>\n",
       "      <td>0.000951</td>\n",
       "      <td>0.003490</td>\n",
       "      <td>19.294122</td>\n",
       "    </tr>\n",
       "    <tr>\n",
       "      <th>4</th>\n",
       "      <td>0.001143</td>\n",
       "      <td>0.000917</td>\n",
       "      <td>0.004335</td>\n",
       "      <td>0.014371</td>\n",
       "      <td>0.003696</td>\n",
       "      <td>-0.008936</td>\n",
       "      <td>-0.005683</td>\n",
       "      <td>-0.003441</td>\n",
       "      <td>-0.011454</td>\n",
       "      <td>-0.013854</td>\n",
       "      <td>...</td>\n",
       "      <td>0.004439</td>\n",
       "      <td>0.001450</td>\n",
       "      <td>-0.008949</td>\n",
       "      <td>-0.068074</td>\n",
       "      <td>0.000000</td>\n",
       "      <td>0.0</td>\n",
       "      <td>0.008678</td>\n",
       "      <td>0.005452</td>\n",
       "      <td>0.024136</td>\n",
       "      <td>19.294122</td>\n",
       "    </tr>\n",
       "    <tr>\n",
       "      <th>5</th>\n",
       "      <td>0.001909</td>\n",
       "      <td>0.000916</td>\n",
       "      <td>0.014041</td>\n",
       "      <td>-0.028026</td>\n",
       "      <td>-0.001102</td>\n",
       "      <td>-0.009020</td>\n",
       "      <td>-0.003429</td>\n",
       "      <td>-0.001145</td>\n",
       "      <td>0.001151</td>\n",
       "      <td>-0.019966</td>\n",
       "      <td>...</td>\n",
       "      <td>-0.006723</td>\n",
       "      <td>0.000591</td>\n",
       "      <td>0.008949</td>\n",
       "      <td>0.041620</td>\n",
       "      <td>0.000000</td>\n",
       "      <td>-6.7</td>\n",
       "      <td>-0.004827</td>\n",
       "      <td>-0.002067</td>\n",
       "      <td>0.003798</td>\n",
       "      <td>19.294122</td>\n",
       "    </tr>\n",
       "    <tr>\n",
       "      <th>6</th>\n",
       "      <td>0.003419</td>\n",
       "      <td>0.003614</td>\n",
       "      <td>0.015355</td>\n",
       "      <td>0.009826</td>\n",
       "      <td>0.025903</td>\n",
       "      <td>-0.007958</td>\n",
       "      <td>0.002289</td>\n",
       "      <td>0.001145</td>\n",
       "      <td>0.006879</td>\n",
       "      <td>-0.001186</td>\n",
       "      <td>...</td>\n",
       "      <td>0.000222</td>\n",
       "      <td>-0.000686</td>\n",
       "      <td>-0.004474</td>\n",
       "      <td>-0.011429</td>\n",
       "      <td>0.000000</td>\n",
       "      <td>0.0</td>\n",
       "      <td>0.005126</td>\n",
       "      <td>0.007420</td>\n",
       "      <td>-0.009981</td>\n",
       "      <td>19.294122</td>\n",
       "    </tr>\n",
       "    <tr>\n",
       "      <th>7</th>\n",
       "      <td>0.002401</td>\n",
       "      <td>0.002443</td>\n",
       "      <td>-0.020343</td>\n",
       "      <td>-0.031531</td>\n",
       "      <td>-0.015047</td>\n",
       "      <td>-0.001144</td>\n",
       "      <td>0.005690</td>\n",
       "      <td>0.006866</td>\n",
       "      <td>0.005699</td>\n",
       "      <td>0.009453</td>\n",
       "      <td>...</td>\n",
       "      <td>0.001828</td>\n",
       "      <td>0.000504</td>\n",
       "      <td>0.004454</td>\n",
       "      <td>0.007547</td>\n",
       "      <td>0.000000</td>\n",
       "      <td>0.0</td>\n",
       "      <td>-0.010926</td>\n",
       "      <td>-0.003291</td>\n",
       "      <td>0.032176</td>\n",
       "      <td>19.294122</td>\n",
       "    </tr>\n",
       "  </tbody>\n",
       "</table>\n",
       "<p>5 rows × 345 columns</p>\n",
       "</div>"
      ],
      "text/plain": [
       "      RPI_3  W875RX1_3  DPCERA3M086SBEA_3  CMRMTSPLx_3  RETAILx_3  INDPRO_3  \\\n",
       "3  0.003194   0.004638           0.002788     0.016956   0.026606  0.025914   \n",
       "4  0.001143   0.000917           0.004335     0.014371   0.003696 -0.008936   \n",
       "5  0.001909   0.000916           0.014041    -0.028026  -0.001102 -0.009020   \n",
       "6  0.003419   0.003614           0.015355     0.009826   0.025903 -0.007958   \n",
       "7  0.002401   0.002443          -0.020343    -0.031531  -0.015047 -0.001144   \n",
       "\n",
       "   IPFPNSS_3  IPFINAL_3  IPCONGD_3  IPDCONGD_3  ...  DNDGRG3M086SBEA_1  \\\n",
       "3   0.024097   0.029021   0.031237    0.103831  ...           0.001786   \n",
       "4  -0.005683  -0.003441  -0.011454   -0.013854  ...           0.004439   \n",
       "5  -0.003429  -0.001145   0.001151   -0.019966  ...          -0.006723   \n",
       "6   0.002289   0.001145   0.006879   -0.001186  ...           0.000222   \n",
       "7   0.005690   0.006866   0.005699    0.009453  ...           0.001828   \n",
       "\n",
       "   DSERRG3M086SBEA_1  CES0600000008_1  CES2000000008_1  CES3000000008_1  \\\n",
       "3          -0.001113        -0.000020         0.030131        -0.004684   \n",
       "4           0.001450        -0.008949        -0.068074         0.000000   \n",
       "5           0.000591         0.008949         0.041620         0.000000   \n",
       "6          -0.000686        -0.004474        -0.011429         0.000000   \n",
       "7           0.000504         0.004454         0.007547         0.000000   \n",
       "\n",
       "   UMCSENTx_1  DTCOLNVHFNM_1  DTCTHFNM_1  INVEST_1  VIXCLSx_1  \n",
       "3         0.0       0.003472    0.000951  0.003490  19.294122  \n",
       "4         0.0       0.008678    0.005452  0.024136  19.294122  \n",
       "5        -6.7      -0.004827   -0.002067  0.003798  19.294122  \n",
       "6         0.0       0.005126    0.007420 -0.009981  19.294122  \n",
       "7         0.0      -0.010926   -0.003291  0.032176  19.294122  \n",
       "\n",
       "[5 rows x 345 columns]"
      ]
     },
     "execution_count": 18,
     "metadata": {},
     "output_type": "execute_result"
    }
   ],
   "source": [
    "data_lagged_train_x_imp.head(5)"
   ]
  },
  {
   "cell_type": "code",
   "execution_count": 19,
   "metadata": {},
   "outputs": [
    {
     "data": {
      "text/plain": [
       "3      1.518813\n",
       "4      1.932367\n",
       "5      1.825069\n",
       "6      1.717623\n",
       "7      1.372213\n",
       "         ...   \n",
       "739    5.276105\n",
       "740    5.205332\n",
       "741    5.389907\n",
       "742    6.236941\n",
       "743    6.828372\n",
       "Name: CPIAUCSL_1, Length: 741, dtype: float64"
      ]
     },
     "execution_count": 19,
     "metadata": {},
     "output_type": "execute_result"
    }
   ],
   "source": [
    "data_lagged_train_x_imp['CPIAUCSL_1']"
   ]
  },
  {
   "cell_type": "code",
   "execution_count": 20,
   "metadata": {
    "colab": {
     "base_uri": "https://localhost:8080/"
    },
    "id": "gEQKlYamP6nO",
    "outputId": "a9d44527-1723-465c-e64c-7b1c5bfd0a0d"
   },
   "outputs": [
    {
     "data": {
      "text/plain": [
       "(741, 345)"
      ]
     },
     "execution_count": 20,
     "metadata": {},
     "output_type": "execute_result"
    }
   ],
   "source": [
    "data_lagged_train_x_imp.shape"
   ]
  },
  {
   "cell_type": "markdown",
   "metadata": {
    "id": "WHErXSXT8l3f"
   },
   "source": [
    "# Setting up BayesSearchCV"
   ]
  },
  {
   "cell_type": "code",
   "execution_count": 21,
   "metadata": {
    "id": "VjqLoFNs9D9G"
   },
   "outputs": [],
   "source": [
    "# from sklearn.ensemble import RandomForestRegressor\n",
    "# from skopt import BayesSearchCV,space\n",
    "\n",
    "# param_dist = {\n",
    "#     \"max_depth\": space.Integer(3, 6),\n",
    "#     \"max_features\": space.Integer(40, 120),\n",
    "#     \"min_samples_split\": space.Integer(2,5), # from 2 to 10\n",
    "#     \"min_samples_leaf\": space.Integer(5,7), # from 1 to 10\n",
    "#    }"
   ]
  },
  {
   "cell_type": "code",
   "execution_count": 22,
   "metadata": {
    "id": "LHMa9sulM-rG"
   },
   "outputs": [],
   "source": [
    "# search_v2 = BayesSearchCV(RandomForestRegressor(n_estimators=150, random_state=153),\n",
    "#                        param_dist,random_state=153,scoring='neg_mean_squared_error', n_iter=30,verbose=2)"
   ]
  },
  {
   "cell_type": "code",
   "execution_count": 23,
   "metadata": {
    "colab": {
     "base_uri": "https://localhost:8080/",
     "height": 1000
    },
    "id": "IRpXq6DSP8sB",
    "outputId": "2c1b3284-3fd6-4df9-c2d6-2992f98ba70a"
   },
   "outputs": [],
   "source": [
    "# search_v2.fit(data_lagged_train_x_imp,data_lagged_train_y)"
   ]
  },
  {
   "cell_type": "code",
   "execution_count": 24,
   "metadata": {
    "colab": {
     "base_uri": "https://localhost:8080/"
    },
    "id": "mtqM-YAZR44X",
    "outputId": "d377f9e5-5298-4eae-8110-1b7d39973c45"
   },
   "outputs": [],
   "source": [
    "# search_v2.best_params_"
   ]
  },
  {
   "cell_type": "code",
   "execution_count": 25,
   "metadata": {
    "id": "JYyEuEk5SgZK"
   },
   "outputs": [],
   "source": [
    "# # Trying another search based on previous best params\n",
    "# param_dist_1 = {\n",
    "#     \"max_depth\": space.Integer(5, 10),\n",
    "#     \"max_features\": space.Integer(115, 160),\n",
    "#     \"min_samples_split\": space.Integer(5,10), \n",
    "#     \"min_samples_leaf\": space.Integer(4,7)\n",
    "#    }"
   ]
  },
  {
   "cell_type": "code",
   "execution_count": 26,
   "metadata": {
    "colab": {
     "base_uri": "https://localhost:8080/",
     "height": 1000
    },
    "id": "9IEEFghfThix",
    "outputId": "bdc3792d-ebec-4e5c-ad6a-9542ce04c3dc"
   },
   "outputs": [],
   "source": [
    "# search_v3 = BayesSearchCV(RandomForestRegressor(n_estimators=250, random_state=153),\n",
    "#                        param_dist_1,random_state=153,scoring='neg_mean_squared_error', n_iter=50,verbose=2, cv=5)\n",
    "\n",
    "# search_v1.fit(data_lagged_train_x_imp,data_lagged_train_y)"
   ]
  },
  {
   "cell_type": "code",
   "execution_count": 27,
   "metadata": {
    "colab": {
     "base_uri": "https://localhost:8080/"
    },
    "id": "YvpNgKs8VDmP",
    "outputId": "6d80e407-39e9-4430-f971-823feee04d3e"
   },
   "outputs": [],
   "source": [
    "# abs(search_v2.best_score_)"
   ]
  },
  {
   "cell_type": "code",
   "execution_count": 28,
   "metadata": {
    "colab": {
     "base_uri": "https://localhost:8080/"
    },
    "id": "vAZBwV5Ob1os",
    "outputId": "3e5aa706-c550-4e94-a5b8-740c1de6825a"
   },
   "outputs": [],
   "source": [
    "# abs(search_v3.best_score_)"
   ]
  },
  {
   "cell_type": "code",
   "execution_count": 29,
   "metadata": {
    "colab": {
     "base_uri": "https://localhost:8080/",
     "height": 109
    },
    "id": "SmoroZahb_Hj",
    "outputId": "c3181fc7-16a8-4665-e3f2-ae5dfaf96b56"
   },
   "outputs": [],
   "source": [
    "# search_v2.best_estimator_"
   ]
  },
  {
   "cell_type": "code",
   "execution_count": 30,
   "metadata": {
    "colab": {
     "base_uri": "https://localhost:8080/",
     "height": 109
    },
    "id": "Cr1tkY80cCsp",
    "outputId": "db11eb95-171a-42c0-fa3e-74d870f57e83"
   },
   "outputs": [],
   "source": [
    "# search_v3.best_estimator_"
   ]
  },
  {
   "cell_type": "code",
   "execution_count": 31,
   "metadata": {
    "colab": {
     "base_uri": "https://localhost:8080/"
    },
    "id": "8abJZoCAcHGn",
    "outputId": "47975817-deef-4923-b16d-b216d7531eda"
   },
   "outputs": [],
   "source": [
    "# Pickle and dump random forests\n",
    "# from joblib import dump,load\n",
    "# dump(search_v2.best_estimator_, 'search_v2.joblib')\n",
    "# dump(search_v3.best_estimator_,'search_v3.joblib')"
   ]
  },
  {
   "cell_type": "code",
   "execution_count": 32,
   "metadata": {
    "id": "2QzcEm1qZrDF"
   },
   "outputs": [],
   "source": [
    "##Upload rf models to test"
   ]
  },
  {
   "cell_type": "code",
   "execution_count": 33,
   "metadata": {
    "id": "FtUDXEAOZrAV"
   },
   "outputs": [],
   "source": [
    "## Model v0 and v1 - from first search\n",
    "from joblib import load\n",
    "model_v2 = load('search_v2.joblib')\n",
    "model_v3 = load('search_v3.joblib')"
   ]
  },
  {
   "cell_type": "code",
   "execution_count": 34,
   "metadata": {
    "id": "g0oHKKG5dNPe"
   },
   "outputs": [],
   "source": [
    "## Extracting the date column for analysis\n",
    "start_date = pd.to_datetime('01-1960', format='%m-%Y')\n",
    "end_date = pd.to_datetime('12-2022', format='%m-%Y')\n",
    "date_list = list(map(lambda x: x.strftime('%m-%Y'), pd.date_range(start_date, end_date, freq=\"MS\")))\n",
    "date_train = date_list[startpoint:x]\n",
    "date_test = date_list[x:]"
   ]
  },
  {
   "cell_type": "markdown",
   "metadata": {
    "id": "W4x8PoXOFbvz"
   },
   "source": [
    "#### Using the same data in the first row for everything in non CPI lags (i.e using december 2021 data for Jan- Dec 2022 preds)"
   ]
  },
  {
   "cell_type": "code",
   "execution_count": 35,
   "metadata": {
    "id": "OL9E5km8GBX4"
   },
   "outputs": [],
   "source": [
    "def forecast_ahead_12_fixed_lag_vals(model_fc, test_data_og):\n",
    "  test_data = test_data_og.copy(deep = True)\n",
    "  test_data.reset_index(drop=True, inplace = True)\n",
    "  CPI_lags_cols = ['CPIAUCSL_1','CPIAUCSL_2','CPIAUCSL_3']\n",
    "  ## Split data in CPI and non CPI\n",
    "  df_non_CPI = test_data.drop(columns=CPI_lags_cols)\n",
    "  df_non_CPI_fixed_lags_vals = pd.concat(([df_non_CPI.iloc[[0]]])*12,ignore_index=True)\n",
    "  df_CPI = test_data[CPI_lags_cols]\n",
    "  test_data = pd.concat([df_CPI.reset_index(drop=True), df_non_CPI_fixed_lags_vals.reset_index(drop=True)], axis= 1)\n",
    "  test_data = test_data[test_data_og.columns]\n",
    "\n",
    "  y_pred_test = []\n",
    "  for i in range(12):\n",
    "    y = model_fc.predict(test_data.iloc[[i]])\n",
    "    y_pred_test.append(y)\n",
    "    prev_CPI_2 = test_data.loc[i]['CPIAUCSL_2']\n",
    "    prev_CPI_1 = test_data.loc[i]['CPIAUCSL_1']\n",
    "    if i < 11:\n",
    "        test_data.loc[i+1]['CPIAUCSL_1'] = y\n",
    "        test_data.loc[i+1]['CPIAUCSL_2'] = prev_CPI_1\n",
    "        test_data.loc[i+1]['CPIAUCSL_3'] = prev_CPI_2\n",
    "  ##flatten y_pred_test\n",
    "  y_pred_test = np.ravel(y_pred_test)\n",
    "\n",
    "  return y_pred_test, test_data"
   ]
  },
  {
   "cell_type": "code",
   "execution_count": 38,
   "metadata": {},
   "outputs": [],
   "source": [
    "## Creating a scoring function\n",
    "def mse_horizons(true, predicted):\n",
    "  mse_vals=[]\n",
    "  if len(true) == len(predicted):\n",
    "    array_abs_diff = (true-predicted)**2\n",
    "    for i in range(len(true)):\n",
    "      mse_vals.append(np.mean(array_abs_diff[:i+1]))\n",
    "  return mse_vals"
   ]
  },
  {
   "cell_type": "code",
   "execution_count": 39,
   "metadata": {
    "id": "s0JUpUVUJNxI"
   },
   "outputs": [],
   "source": [
    "## Creating the predictions and updated test dataset for both models v0 and v1\n",
    "y_pred_test_model_v2, test_data_model_v2 = forecast_ahead_12_fixed_lag_vals(model_v2,data_lagged_test_x_imp)\n",
    "y_pred_test_model_v3, test_data_model_v3 = forecast_ahead_12_fixed_lag_vals(model_v3,data_lagged_test_x_imp)"
   ]
  },
  {
   "cell_type": "code",
   "execution_count": 40,
   "metadata": {
    "id": "HYEBjhAaKSTi"
   },
   "outputs": [],
   "source": [
    "mse_model_v2 = mse_horizons(data_lagged_test_y,y_pred_test_model_v2)\n",
    "mse_model_v3 = mse_horizons(data_lagged_test_y,y_pred_test_model_v3)"
   ]
  },
  {
   "cell_type": "code",
   "execution_count": 42,
   "metadata": {
    "colab": {
     "base_uri": "https://localhost:8080/",
     "height": 276
    },
    "id": "kYjOZtSDKY1h",
    "outputId": "d2c07c74-e3c3-4a39-dd9e-1f31c21c0c1e"
   },
   "outputs": [
    {
     "data": {
      "image/png": "[encoded data removed]",
      "text/plain": [
       "<Figure size 640x480 with 1 Axes>"
      ]
     },
     "metadata": {},
     "output_type": "display_data"
    }
   ],
   "source": [
    "import matplotlib.pyplot as plt\n",
    "plt.plot(date_test,mse_model_v2, label= 'v2')\n",
    "plt.plot(date_test,mse_model_v3, label = 'v3')\n",
    "plt.xticks(date_test)\n",
    "plt.legend()\n",
    "plt.show()"
   ]
  },
  {
   "cell_type": "markdown",
   "metadata": {
    "id": "autQPecay7fC"
   },
   "source": [
    "##Using model v3 as from now on for rest of analysis"
   ]
  },
  {
   "cell_type": "code",
   "execution_count": null,
   "metadata": {},
   "outputs": [],
   "source": []
  }
 ],
 "metadata": {
  "colab": {
   "authorship_tag": "ABX9TyOzzotsE4oFoOBYbEH2XkBU",
   "include_colab_link": true,
   "mount_file_id": "1E2kqgkDiDZUMuV4sIujqImHZTzvrpZl7",
   "provenance": [],
   "toc_visible": true
  },
  "kernelspec": {
   "display_name": "Python 3 user modules",
   "language": "python",
   "name": "python3-user-modules"
  },
  "language_info": {
   "codemirror_mode": {
    "name": "ipython",
    "version": 3
   },
   "file_extension": ".py",
   "mimetype": "text/x-python",
   "name": "python",
   "nbconvert_exporter": "python",
   "pygments_lexer": "ipython3",
   "version": "3.10.6"
  }
 },
 "nbformat": 4,
 "nbformat_minor": 4
}
